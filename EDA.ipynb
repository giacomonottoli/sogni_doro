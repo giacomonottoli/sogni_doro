{
 "cells": [
  {
   "cell_type": "code",
   "execution_count": 2,
   "id": "b60bd156",
   "metadata": {},
   "outputs": [],
   "source": [
    "import pandas as pd\n",
    "import numpy as np\n",
    "import os\n",
    "import matplotlib.pyplot as plt\n",
    "import matplotlib.ticker as mtick"
   ]
  },
  {
   "cell_type": "markdown",
   "id": "dd8554f4",
   "metadata": {},
   "source": [
    "# Import Tables"
   ]
  },
  {
   "cell_type": "code",
   "execution_count": 3,
   "id": "452a334d",
   "metadata": {},
   "outputs": [],
   "source": [
    "# Read file\n",
    "df_guest = pd.read_csv(\"guests.csv\")\n",
    "df_hotel = pd.read_csv(\"hotels.csv\")\n",
    "df_pref = pd.read_csv(\"preferences.csv\")"
   ]
  },
  {
   "cell_type": "markdown",
   "id": "058fdd84",
   "metadata": {},
   "source": [
    "# Hotels"
   ]
  },
  {
   "cell_type": "code",
   "execution_count": 4,
   "id": "826f4e9e",
   "metadata": {
    "scrolled": true
   },
   "outputs": [
    {
     "data": {
      "text/html": [
       "<div>\n",
       "<style scoped>\n",
       "    .dataframe tbody tr th:only-of-type {\n",
       "        vertical-align: middle;\n",
       "    }\n",
       "\n",
       "    .dataframe tbody tr th {\n",
       "        vertical-align: top;\n",
       "    }\n",
       "\n",
       "    .dataframe thead th {\n",
       "        text-align: right;\n",
       "    }\n",
       "</style>\n",
       "<table border=\"1\" class=\"dataframe\">\n",
       "  <thead>\n",
       "    <tr style=\"text-align: right;\">\n",
       "      <th></th>\n",
       "      <th>rooms</th>\n",
       "      <th>price</th>\n",
       "    </tr>\n",
       "  </thead>\n",
       "  <tbody>\n",
       "    <tr>\n",
       "      <th>count</th>\n",
       "      <td>400.000000</td>\n",
       "      <td>400.000000</td>\n",
       "    </tr>\n",
       "    <tr>\n",
       "      <th>mean</th>\n",
       "      <td>11.542500</td>\n",
       "      <td>177.645000</td>\n",
       "    </tr>\n",
       "    <tr>\n",
       "      <th>std</th>\n",
       "      <td>4.387633</td>\n",
       "      <td>73.159379</td>\n",
       "    </tr>\n",
       "    <tr>\n",
       "      <th>min</th>\n",
       "      <td>5.000000</td>\n",
       "      <td>50.000000</td>\n",
       "    </tr>\n",
       "    <tr>\n",
       "      <th>25%</th>\n",
       "      <td>8.000000</td>\n",
       "      <td>116.750000</td>\n",
       "    </tr>\n",
       "    <tr>\n",
       "      <th>50%</th>\n",
       "      <td>11.000000</td>\n",
       "      <td>183.000000</td>\n",
       "    </tr>\n",
       "    <tr>\n",
       "      <th>75%</th>\n",
       "      <td>15.000000</td>\n",
       "      <td>238.250000</td>\n",
       "    </tr>\n",
       "    <tr>\n",
       "      <th>max</th>\n",
       "      <td>19.000000</td>\n",
       "      <td>299.000000</td>\n",
       "    </tr>\n",
       "  </tbody>\n",
       "</table>\n",
       "</div>"
      ],
      "text/plain": [
       "            rooms       price\n",
       "count  400.000000  400.000000\n",
       "mean    11.542500  177.645000\n",
       "std      4.387633   73.159379\n",
       "min      5.000000   50.000000\n",
       "25%      8.000000  116.750000\n",
       "50%     11.000000  183.000000\n",
       "75%     15.000000  238.250000\n",
       "max     19.000000  299.000000"
      ]
     },
     "execution_count": 4,
     "metadata": {},
     "output_type": "execute_result"
    }
   ],
   "source": [
    "df_hotel.describe()"
   ]
  },
  {
   "cell_type": "markdown",
   "id": "03f4fc13",
   "metadata": {},
   "source": [
    "## Hotel price distribution"
   ]
  },
  {
   "cell_type": "code",
   "execution_count": 5,
   "id": "f4da92f8",
   "metadata": {
    "jupyter": {
     "source_hidden": true
    },
    "tags": []
   },
   "outputs": [
    {
     "data": {
      "image/png": "[encoded data removed]",
      "text/plain": [
       "<Figure size 432x288 with 1 Axes>"
      ]
     },
     "metadata": {
      "needs_background": "light"
     },
     "output_type": "display_data"
    }
   ],
   "source": [
    "fig, ax1 = plt.subplots() \n",
    "y,z,_ = ax1.hist(df_hotel.price,rwidth=1,align='mid', color='linen',ec = 'black')\n",
    "ax1.set_ylabel('Frequency',fontsize=12)\n",
    "ax1.set_xlabel('Hotel price',fontsize=12)\n",
    "plt.title('Hotel price distribution',fontsize=15,y=1.05)\n",
    "ax1.set_axisbelow(True)\n",
    "ax1.yaxis.grid(color='gray', linestyle='solid')\n",
    "fig.savefig('pics/hotel_price_distribution.png',bbox_inches='tight') "
   ]
  },
  {
   "cell_type": "markdown",
   "id": "16478f2e-b521-43da-80fd-1496a541d013",
   "metadata": {
    "tags": []
   },
   "source": [
    "Hotel prices are quite uniformly distributed between 50 and 300 Euros.   \n",
    "It can be noted that there is a peak in range 200-225 Euros and that hotels in range 100-125 Euros are underrepresented. "
   ]
  },
  {
   "cell_type": "markdown",
   "id": "5bd1011d",
   "metadata": {},
   "source": [
    "## Hotel rooms distribution"
   ]
  },
  {
   "cell_type": "code",
   "execution_count": 6,
   "id": "2606547a",
   "metadata": {
    "jupyter": {
     "source_hidden": true
    },
    "scrolled": true,
    "tags": []
   },
   "outputs": [
    {
     "data": {
      "image/png": "[encoded data removed]",
      "text/plain": [
       "<Figure size 432x288 with 1 Axes>"
      ]
     },
     "metadata": {
      "needs_background": "light"
     },
     "output_type": "display_data"
    }
   ],
   "source": [
    "fig, ax1 = plt.subplots() #ax1,ax2 refer to your two pies\n",
    "x = range(df_hotel.rooms.min(), df_hotel.rooms.max() + 2 )\n",
    "y,z,_ = ax1.hist(df_hotel.rooms, bins=x, rwidth=1, align='left', color='linen',ec = 'black')\n",
    "ax1.set_xticks(x)\n",
    "ax1.set_ylabel('Frequency',fontsize=12)\n",
    "ax1.set_xlabel('Number of rooms',fontsize=12)\n",
    "plt.title('Hotel rooms distribution',fontsize=15,y=1.05)\n",
    "ax1.set_axisbelow(True)\n",
    "ax1.yaxis.grid(color='gray', linestyle='solid')\n",
    "fig.savefig('pics/hotel_rooms_distribution.png',bbox_inches='tight') "
   ]
  },
  {
   "cell_type": "markdown",
   "id": "fa5db4c2-168f-4f4a-8a4c-3c5234221082",
   "metadata": {},
   "source": [
    "Number of rooms per hotel are quite uniformly distributed between 5 and 19 Euros.   \n",
    "It can be noted that hotels with 5 rooms are overrepresented as well as hotels with 15 rooms"
   ]
  },
  {
   "cell_type": "markdown",
   "id": "0227c22d",
   "metadata": {},
   "source": [
    "## Correlation number of hotel rooms and hotel price"
   ]
  },
  {
   "cell_type": "code",
   "execution_count": 7,
   "id": "ad599ffa",
   "metadata": {
    "scrolled": true
   },
   "outputs": [
    {
     "data": {
      "image/png": "[encoded data removed]",
      "text/plain": [
       "<Figure size 432x288 with 1 Axes>"
      ]
     },
     "metadata": {
      "needs_background": "light"
     },
     "output_type": "display_data"
    }
   ],
   "source": [
    "fig, ax1 = plt.subplots() #ax1,ax2 refer to your two pies\n",
    "ax1.scatter(df_hotel.price, df_hotel.rooms)\n",
    "plt.title('Correlation number of hotel rooms and price',fontsize=15,y=1.05)\n",
    "ax1.set_ylabel('Number of rooms',fontsize=12)\n",
    "ax1.set_xlabel('Hotel price',fontsize=12)\n",
    "fig.savefig('pics/correlation_scatter1.png',bbox_inches='tight') "
   ]
  },
  {
   "cell_type": "markdown",
   "id": "6b6a2ad3-748c-4953-906a-bce47f1ad389",
   "metadata": {},
   "source": [
    "There is no correlation between hotel price and number of rooms"
   ]
  },
  {
   "cell_type": "markdown",
   "id": "27d0d132",
   "metadata": {},
   "source": [
    "## Classifying hotels by price "
   ]
  },
  {
   "cell_type": "code",
   "execution_count": 8,
   "id": "e11174c4",
   "metadata": {
    "scrolled": true,
    "tags": []
   },
   "outputs": [
    {
     "data": {
      "text/plain": [
       "array([ 50., 135., 214., 299.])"
      ]
     },
     "execution_count": 8,
     "metadata": {},
     "output_type": "execute_result"
    }
   ],
   "source": [
    "quant_hotel = np.quantile(df_hotel.price, [0, 0.33, 0.66, 1])\n",
    "quant_hotel"
   ]
  },
  {
   "cell_type": "code",
   "execution_count": 9,
   "id": "3033c8ed",
   "metadata": {
    "scrolled": true,
    "tags": []
   },
   "outputs": [
    {
     "data": {
      "text/html": [
       "<div>\n",
       "<style scoped>\n",
       "    .dataframe tbody tr th:only-of-type {\n",
       "        vertical-align: middle;\n",
       "    }\n",
       "\n",
       "    .dataframe tbody tr th {\n",
       "        vertical-align: top;\n",
       "    }\n",
       "\n",
       "    .dataframe thead th {\n",
       "        text-align: right;\n",
       "    }\n",
       "</style>\n",
       "<table border=\"1\" class=\"dataframe\">\n",
       "  <thead>\n",
       "    <tr style=\"text-align: right;\">\n",
       "      <th></th>\n",
       "      <th>hotel</th>\n",
       "      <th>rooms</th>\n",
       "      <th>price</th>\n",
       "      <th>cut_by_price</th>\n",
       "    </tr>\n",
       "  </thead>\n",
       "  <tbody>\n",
       "    <tr>\n",
       "      <th>0</th>\n",
       "      <td>hotel_1</td>\n",
       "      <td>13</td>\n",
       "      <td>273</td>\n",
       "      <td>expensive</td>\n",
       "    </tr>\n",
       "    <tr>\n",
       "      <th>1</th>\n",
       "      <td>hotel_2</td>\n",
       "      <td>18</td>\n",
       "      <td>92</td>\n",
       "      <td>cheap</td>\n",
       "    </tr>\n",
       "    <tr>\n",
       "      <th>2</th>\n",
       "      <td>hotel_3</td>\n",
       "      <td>12</td>\n",
       "      <td>141</td>\n",
       "      <td>normal</td>\n",
       "    </tr>\n",
       "    <tr>\n",
       "      <th>3</th>\n",
       "      <td>hotel_4</td>\n",
       "      <td>18</td>\n",
       "      <td>157</td>\n",
       "      <td>normal</td>\n",
       "    </tr>\n",
       "    <tr>\n",
       "      <th>4</th>\n",
       "      <td>hotel_5</td>\n",
       "      <td>7</td>\n",
       "      <td>298</td>\n",
       "      <td>expensive</td>\n",
       "    </tr>\n",
       "  </tbody>\n",
       "</table>\n",
       "</div>"
      ],
      "text/plain": [
       "     hotel  rooms  price cut_by_price\n",
       "0  hotel_1     13    273    expensive\n",
       "1  hotel_2     18     92        cheap\n",
       "2  hotel_3     12    141       normal\n",
       "3  hotel_4     18    157       normal\n",
       "4  hotel_5      7    298    expensive"
      ]
     },
     "execution_count": 9,
     "metadata": {},
     "output_type": "execute_result"
    }
   ],
   "source": [
    "df_hotel[\"cut_by_price\"] = pd.cut(df_hotel.price, quant_hotel, include_lowest=True, labels=[\"cheap\", \"normal\", \"expensive\"])\n",
    "\n",
    "df_hotel.head()"
   ]
  },
  {
   "cell_type": "code",
   "execution_count": 10,
   "id": "40e844c6",
   "metadata": {
    "jupyter": {
     "source_hidden": true
    },
    "tags": []
   },
   "outputs": [
    {
     "data": {
      "text/plain": [
       "(array([130., 132., 138.]),\n",
       " array([ 50., 135., 214., 299.]),\n",
       " <BarContainer object of 3 artists>)"
      ]
     },
     "execution_count": 10,
     "metadata": {},
     "output_type": "execute_result"
    },
    {
     "data": {
      "image/png": "[encoded data removed]",
      "text/plain": [
       "<Figure size 432x288 with 1 Axes>"
      ]
     },
     "metadata": {
      "needs_background": "light"
     },
     "output_type": "display_data"
    }
   ],
   "source": [
    "plt.hist(df_hotel.price, bins=quant_hotel)"
   ]
  },
  {
   "cell_type": "code",
   "execution_count": 11,
   "id": "c3351537",
   "metadata": {
    "jupyter": {
     "source_hidden": true
    },
    "tags": []
   },
   "outputs": [
    {
     "data": {
      "text/html": [
       "<div>\n",
       "<style scoped>\n",
       "    .dataframe tbody tr th:only-of-type {\n",
       "        vertical-align: middle;\n",
       "    }\n",
       "\n",
       "    .dataframe tbody tr th {\n",
       "        vertical-align: top;\n",
       "    }\n",
       "\n",
       "    .dataframe thead th {\n",
       "        text-align: right;\n",
       "    }\n",
       "</style>\n",
       "<table border=\"1\" class=\"dataframe\">\n",
       "  <thead>\n",
       "    <tr style=\"text-align: right;\">\n",
       "      <th></th>\n",
       "      <th>hotel</th>\n",
       "    </tr>\n",
       "    <tr>\n",
       "      <th>cut_by_price</th>\n",
       "      <th></th>\n",
       "    </tr>\n",
       "  </thead>\n",
       "  <tbody>\n",
       "    <tr>\n",
       "      <th>cheap</th>\n",
       "      <td>133</td>\n",
       "    </tr>\n",
       "    <tr>\n",
       "      <th>normal</th>\n",
       "      <td>132</td>\n",
       "    </tr>\n",
       "    <tr>\n",
       "      <th>expensive</th>\n",
       "      <td>135</td>\n",
       "    </tr>\n",
       "  </tbody>\n",
       "</table>\n",
       "</div>"
      ],
      "text/plain": [
       "              hotel\n",
       "cut_by_price       \n",
       "cheap           133\n",
       "normal          132\n",
       "expensive       135"
      ]
     },
     "execution_count": 11,
     "metadata": {},
     "output_type": "execute_result"
    }
   ],
   "source": [
    "df_hotel.pivot_table(index='cut_by_price', values='hotel', aggfunc='count')"
   ]
  },
  {
   "cell_type": "markdown",
   "id": "d1a70bdb-2f07-4520-9971-32df284bb030",
   "metadata": {},
   "source": [
    "Hotels have been divided in 3 categories: \"cheap\", \"normal\" and \"expensive\". "
   ]
  },
  {
   "cell_type": "code",
   "execution_count": 12,
   "id": "c43f0529",
   "metadata": {
    "jupyter": {
     "source_hidden": true
    },
    "tags": []
   },
   "outputs": [
    {
     "data": {
      "text/html": [
       "<div>\n",
       "<style scoped>\n",
       "    .dataframe tbody tr th:only-of-type {\n",
       "        vertical-align: middle;\n",
       "    }\n",
       "\n",
       "    .dataframe tbody tr th {\n",
       "        vertical-align: top;\n",
       "    }\n",
       "\n",
       "    .dataframe thead th {\n",
       "        text-align: right;\n",
       "    }\n",
       "</style>\n",
       "<table border=\"1\" class=\"dataframe\">\n",
       "  <thead>\n",
       "    <tr style=\"text-align: right;\">\n",
       "      <th></th>\n",
       "      <th>hotel</th>\n",
       "      <th>rooms</th>\n",
       "      <th>price</th>\n",
       "      <th>cut_by_price</th>\n",
       "    </tr>\n",
       "  </thead>\n",
       "  <tbody>\n",
       "    <tr>\n",
       "      <th>0</th>\n",
       "      <td>hotel_1</td>\n",
       "      <td>13</td>\n",
       "      <td>273</td>\n",
       "      <td>expensive</td>\n",
       "    </tr>\n",
       "    <tr>\n",
       "      <th>1</th>\n",
       "      <td>hotel_2</td>\n",
       "      <td>18</td>\n",
       "      <td>92</td>\n",
       "      <td>cheap</td>\n",
       "    </tr>\n",
       "    <tr>\n",
       "      <th>2</th>\n",
       "      <td>hotel_3</td>\n",
       "      <td>12</td>\n",
       "      <td>141</td>\n",
       "      <td>normal</td>\n",
       "    </tr>\n",
       "    <tr>\n",
       "      <th>3</th>\n",
       "      <td>hotel_4</td>\n",
       "      <td>18</td>\n",
       "      <td>157</td>\n",
       "      <td>normal</td>\n",
       "    </tr>\n",
       "    <tr>\n",
       "      <th>4</th>\n",
       "      <td>hotel_5</td>\n",
       "      <td>7</td>\n",
       "      <td>298</td>\n",
       "      <td>expensive</td>\n",
       "    </tr>\n",
       "  </tbody>\n",
       "</table>\n",
       "</div>"
      ],
      "text/plain": [
       "     hotel  rooms  price cut_by_price\n",
       "0  hotel_1     13    273    expensive\n",
       "1  hotel_2     18     92        cheap\n",
       "2  hotel_3     12    141       normal\n",
       "3  hotel_4     18    157       normal\n",
       "4  hotel_5      7    298    expensive"
      ]
     },
     "execution_count": 12,
     "metadata": {},
     "output_type": "execute_result"
    }
   ],
   "source": [
    "df_hotel.head()"
   ]
  },
  {
   "cell_type": "markdown",
   "id": "b14fd364",
   "metadata": {},
   "source": [
    "## Number of hotel rooms for each hotel category"
   ]
  },
  {
   "cell_type": "code",
   "execution_count": 13,
   "id": "878ef444",
   "metadata": {
    "jupyter": {
     "source_hidden": true
    },
    "tags": []
   },
   "outputs": [
    {
     "data": {
      "text/html": [
       "<div>\n",
       "<style scoped>\n",
       "    .dataframe tbody tr th:only-of-type {\n",
       "        vertical-align: middle;\n",
       "    }\n",
       "\n",
       "    .dataframe tbody tr th {\n",
       "        vertical-align: top;\n",
       "    }\n",
       "\n",
       "    .dataframe thead th {\n",
       "        text-align: right;\n",
       "    }\n",
       "</style>\n",
       "<table border=\"1\" class=\"dataframe\">\n",
       "  <thead>\n",
       "    <tr style=\"text-align: right;\">\n",
       "      <th></th>\n",
       "      <th>rooms</th>\n",
       "    </tr>\n",
       "    <tr>\n",
       "      <th>cut_by_price</th>\n",
       "      <th></th>\n",
       "    </tr>\n",
       "  </thead>\n",
       "  <tbody>\n",
       "    <tr>\n",
       "      <th>cheap</th>\n",
       "      <td>11.443609</td>\n",
       "    </tr>\n",
       "    <tr>\n",
       "      <th>normal</th>\n",
       "      <td>11.901515</td>\n",
       "    </tr>\n",
       "    <tr>\n",
       "      <th>expensive</th>\n",
       "      <td>11.288889</td>\n",
       "    </tr>\n",
       "  </tbody>\n",
       "</table>\n",
       "</div>"
      ],
      "text/plain": [
       "                  rooms\n",
       "cut_by_price           \n",
       "cheap         11.443609\n",
       "normal        11.901515\n",
       "expensive     11.288889"
      ]
     },
     "execution_count": 13,
     "metadata": {},
     "output_type": "execute_result"
    }
   ],
   "source": [
    "df_hotel.pivot_table(index='cut_by_price', values=\"rooms\", aggfunc='mean')"
   ]
  },
  {
   "cell_type": "markdown",
   "id": "71810fb7-9c19-47e5-b21a-57ab076aab07",
   "metadata": {},
   "source": [
    "As stated before, there is no correlation between hotel price (or price category) and number of rooms"
   ]
  },
  {
   "cell_type": "code",
   "execution_count": 14,
   "id": "dea64330",
   "metadata": {
    "jupyter": {
     "source_hidden": true
    },
    "scrolled": true,
    "tags": []
   },
   "outputs": [
    {
     "data": {
      "text/html": [
       "<div>\n",
       "<style scoped>\n",
       "    .dataframe tbody tr th:only-of-type {\n",
       "        vertical-align: middle;\n",
       "    }\n",
       "\n",
       "    .dataframe tbody tr th {\n",
       "        vertical-align: top;\n",
       "    }\n",
       "\n",
       "    .dataframe thead th {\n",
       "        text-align: right;\n",
       "    }\n",
       "</style>\n",
       "<table border=\"1\" class=\"dataframe\">\n",
       "  <thead>\n",
       "    <tr style=\"text-align: right;\">\n",
       "      <th></th>\n",
       "      <th>guest</th>\n",
       "      <th>hotel</th>\n",
       "      <th>priority</th>\n",
       "      <th>rooms</th>\n",
       "      <th>price</th>\n",
       "      <th>cut_by_price</th>\n",
       "    </tr>\n",
       "  </thead>\n",
       "  <tbody>\n",
       "    <tr>\n",
       "      <th>0</th>\n",
       "      <td>guest_1</td>\n",
       "      <td>hotel_168</td>\n",
       "      <td>1</td>\n",
       "      <td>13</td>\n",
       "      <td>298</td>\n",
       "      <td>expensive</td>\n",
       "    </tr>\n",
       "    <tr>\n",
       "      <th>1</th>\n",
       "      <td>guest_1004</td>\n",
       "      <td>hotel_168</td>\n",
       "      <td>6</td>\n",
       "      <td>13</td>\n",
       "      <td>298</td>\n",
       "      <td>expensive</td>\n",
       "    </tr>\n",
       "    <tr>\n",
       "      <th>2</th>\n",
       "      <td>guest_1009</td>\n",
       "      <td>hotel_168</td>\n",
       "      <td>12</td>\n",
       "      <td>13</td>\n",
       "      <td>298</td>\n",
       "      <td>expensive</td>\n",
       "    </tr>\n",
       "    <tr>\n",
       "      <th>3</th>\n",
       "      <td>guest_1034</td>\n",
       "      <td>hotel_168</td>\n",
       "      <td>1</td>\n",
       "      <td>13</td>\n",
       "      <td>298</td>\n",
       "      <td>expensive</td>\n",
       "    </tr>\n",
       "    <tr>\n",
       "      <th>4</th>\n",
       "      <td>guest_1036</td>\n",
       "      <td>hotel_168</td>\n",
       "      <td>13</td>\n",
       "      <td>13</td>\n",
       "      <td>298</td>\n",
       "      <td>expensive</td>\n",
       "    </tr>\n",
       "  </tbody>\n",
       "</table>\n",
       "</div>"
      ],
      "text/plain": [
       "        guest      hotel  priority  rooms  price cut_by_price\n",
       "0     guest_1  hotel_168         1     13    298    expensive\n",
       "1  guest_1004  hotel_168         6     13    298    expensive\n",
       "2  guest_1009  hotel_168        12     13    298    expensive\n",
       "3  guest_1034  hotel_168         1     13    298    expensive\n",
       "4  guest_1036  hotel_168        13     13    298    expensive"
      ]
     },
     "execution_count": 14,
     "metadata": {},
     "output_type": "execute_result"
    }
   ],
   "source": [
    "df_pref = df_pref.merge(df_hotel, on='hotel')\n",
    "\n",
    "df_pref.head()"
   ]
  },
  {
   "cell_type": "markdown",
   "id": "8e027fe4-4179-4e84-a1d9-fac0dd63abf1",
   "metadata": {},
   "source": [
    "## Number of preferences per guest"
   ]
  },
  {
   "cell_type": "code",
   "execution_count": 15,
   "id": "95a50109",
   "metadata": {
    "tags": []
   },
   "outputs": [],
   "source": [
    "grouped = df_pref.groupby(\"guest\", as_index=False)[\"hotel\"].count()"
   ]
  },
  {
   "cell_type": "code",
   "execution_count": 16,
   "id": "6f2e7ff9",
   "metadata": {
    "scrolled": true,
    "tags": []
   },
   "outputs": [
    {
     "data": {
      "text/html": [
       "<div>\n",
       "<style scoped>\n",
       "    .dataframe tbody tr th:only-of-type {\n",
       "        vertical-align: middle;\n",
       "    }\n",
       "\n",
       "    .dataframe tbody tr th {\n",
       "        vertical-align: top;\n",
       "    }\n",
       "\n",
       "    .dataframe thead th {\n",
       "        text-align: right;\n",
       "    }\n",
       "</style>\n",
       "<table border=\"1\" class=\"dataframe\">\n",
       "  <thead>\n",
       "    <tr style=\"text-align: right;\">\n",
       "      <th></th>\n",
       "      <th>guest</th>\n",
       "      <th>hotel</th>\n",
       "    </tr>\n",
       "  </thead>\n",
       "  <tbody>\n",
       "    <tr>\n",
       "      <th>0</th>\n",
       "      <td>guest_1</td>\n",
       "      <td>17</td>\n",
       "    </tr>\n",
       "    <tr>\n",
       "      <th>1</th>\n",
       "      <td>guest_10</td>\n",
       "      <td>25</td>\n",
       "    </tr>\n",
       "    <tr>\n",
       "      <th>2</th>\n",
       "      <td>guest_100</td>\n",
       "      <td>31</td>\n",
       "    </tr>\n",
       "    <tr>\n",
       "      <th>3</th>\n",
       "      <td>guest_1000</td>\n",
       "      <td>45</td>\n",
       "    </tr>\n",
       "    <tr>\n",
       "      <th>4</th>\n",
       "      <td>guest_1001</td>\n",
       "      <td>41</td>\n",
       "    </tr>\n",
       "    <tr>\n",
       "      <th>...</th>\n",
       "      <td>...</td>\n",
       "      <td>...</td>\n",
       "    </tr>\n",
       "    <tr>\n",
       "      <th>3995</th>\n",
       "      <td>guest_995</td>\n",
       "      <td>7</td>\n",
       "    </tr>\n",
       "    <tr>\n",
       "      <th>3996</th>\n",
       "      <td>guest_996</td>\n",
       "      <td>2</td>\n",
       "    </tr>\n",
       "    <tr>\n",
       "      <th>3997</th>\n",
       "      <td>guest_997</td>\n",
       "      <td>44</td>\n",
       "    </tr>\n",
       "    <tr>\n",
       "      <th>3998</th>\n",
       "      <td>guest_998</td>\n",
       "      <td>23</td>\n",
       "    </tr>\n",
       "    <tr>\n",
       "      <th>3999</th>\n",
       "      <td>guest_999</td>\n",
       "      <td>3</td>\n",
       "    </tr>\n",
       "  </tbody>\n",
       "</table>\n",
       "<p>4000 rows × 2 columns</p>\n",
       "</div>"
      ],
      "text/plain": [
       "           guest  hotel\n",
       "0        guest_1     17\n",
       "1       guest_10     25\n",
       "2      guest_100     31\n",
       "3     guest_1000     45\n",
       "4     guest_1001     41\n",
       "...          ...    ...\n",
       "3995   guest_995      7\n",
       "3996   guest_996      2\n",
       "3997   guest_997     44\n",
       "3998   guest_998     23\n",
       "3999   guest_999      3\n",
       "\n",
       "[4000 rows x 2 columns]"
      ]
     },
     "execution_count": 16,
     "metadata": {},
     "output_type": "execute_result"
    }
   ],
   "source": [
    "grouped"
   ]
  },
  {
   "cell_type": "code",
   "execution_count": 17,
   "id": "cbe54df6-4a75-4344-9e38-1297bbf8a4fe",
   "metadata": {
    "tags": []
   },
   "outputs": [
    {
     "data": {
      "image/png": "[encoded data removed]",
      "text/plain": [
       "<Figure size 432x288 with 1 Axes>"
      ]
     },
     "metadata": {
      "needs_background": "light"
     },
     "output_type": "display_data"
    }
   ],
   "source": [
    "fig, ax1 = plt.subplots() \n",
    "x = range (grouped.hotel.min()-1,grouped.hotel.max()+3)\n",
    "ax1.hist(grouped.hotel,bins = x, rwidth=0.8,align='mid', color='linen',ec = 'black')\n",
    "plt.title('Number of preferences per guest distribution',fontsize=15,y=1.05)\n",
    "ax1.set_ylabel('Frequency',fontsize=12)\n",
    "ax1.set_xlabel('Number of preferences',fontsize=12)\n",
    "ax1.set_axisbelow(True)\n",
    "ax1.yaxis.grid(color='gray', linestyle='solid')\n",
    "fig.savefig('pics/Number_of_pref_per_guest.png',bbox_inches='tight') "
   ]
  },
  {
   "cell_type": "markdown",
   "id": "994dc1bb-5134-4fb0-a2e7-a4a2c06b26fa",
   "metadata": {},
   "source": [
    "The distribution of number of preferences per guest is quite uniform. Nevertheless guests with more than 45 preferences are underrepresented. "
   ]
  },
  {
   "cell_type": "code",
   "execution_count": 18,
   "id": "328ddc46-6533-44dc-bc8a-6453557aa3c1",
   "metadata": {
    "jupyter": {
     "source_hidden": true
    },
    "tags": []
   },
   "outputs": [],
   "source": [
    "quant_pref = np.quantile(grouped.hotel, [0, 0.33, 0.66, 1])\n",
    "grouped[\"cut_by_pref\"] = pd.cut(grouped.hotel, quant_pref, include_lowest=True, labels=[\"low\", \"medium\", \"top\"])"
   ]
  },
  {
   "cell_type": "code",
   "execution_count": 19,
   "id": "f8aa2a3c-c5e7-4706-9139-1943dafdc7a2",
   "metadata": {
    "jupyter": {
     "outputs_hidden": true,
     "source_hidden": true
    },
    "tags": []
   },
   "outputs": [
    {
     "data": {
      "text/plain": [
       "array([ 1., 16., 32., 49.])"
      ]
     },
     "execution_count": 19,
     "metadata": {},
     "output_type": "execute_result"
    }
   ],
   "source": [
    "quant_pref"
   ]
  },
  {
   "cell_type": "code",
   "execution_count": 20,
   "id": "1d087889-04ef-4896-bf00-34e13bd265e6",
   "metadata": {
    "jupyter": {
     "source_hidden": true
    },
    "tags": []
   },
   "outputs": [
    {
     "data": {
      "text/html": [
       "<div>\n",
       "<style scoped>\n",
       "    .dataframe tbody tr th:only-of-type {\n",
       "        vertical-align: middle;\n",
       "    }\n",
       "\n",
       "    .dataframe tbody tr th {\n",
       "        vertical-align: top;\n",
       "    }\n",
       "\n",
       "    .dataframe thead th {\n",
       "        text-align: right;\n",
       "    }\n",
       "</style>\n",
       "<table border=\"1\" class=\"dataframe\">\n",
       "  <thead>\n",
       "    <tr style=\"text-align: right;\">\n",
       "      <th></th>\n",
       "      <th>guest</th>\n",
       "      <th>hotel</th>\n",
       "      <th>cut_by_pref</th>\n",
       "    </tr>\n",
       "  </thead>\n",
       "  <tbody>\n",
       "    <tr>\n",
       "      <th>0</th>\n",
       "      <td>guest_1</td>\n",
       "      <td>17</td>\n",
       "      <td>medium</td>\n",
       "    </tr>\n",
       "    <tr>\n",
       "      <th>1</th>\n",
       "      <td>guest_10</td>\n",
       "      <td>25</td>\n",
       "      <td>medium</td>\n",
       "    </tr>\n",
       "    <tr>\n",
       "      <th>2</th>\n",
       "      <td>guest_100</td>\n",
       "      <td>31</td>\n",
       "      <td>medium</td>\n",
       "    </tr>\n",
       "    <tr>\n",
       "      <th>3</th>\n",
       "      <td>guest_1000</td>\n",
       "      <td>45</td>\n",
       "      <td>top</td>\n",
       "    </tr>\n",
       "    <tr>\n",
       "      <th>4</th>\n",
       "      <td>guest_1001</td>\n",
       "      <td>41</td>\n",
       "      <td>top</td>\n",
       "    </tr>\n",
       "    <tr>\n",
       "      <th>...</th>\n",
       "      <td>...</td>\n",
       "      <td>...</td>\n",
       "      <td>...</td>\n",
       "    </tr>\n",
       "    <tr>\n",
       "      <th>3995</th>\n",
       "      <td>guest_995</td>\n",
       "      <td>7</td>\n",
       "      <td>low</td>\n",
       "    </tr>\n",
       "    <tr>\n",
       "      <th>3996</th>\n",
       "      <td>guest_996</td>\n",
       "      <td>2</td>\n",
       "      <td>low</td>\n",
       "    </tr>\n",
       "    <tr>\n",
       "      <th>3997</th>\n",
       "      <td>guest_997</td>\n",
       "      <td>44</td>\n",
       "      <td>top</td>\n",
       "    </tr>\n",
       "    <tr>\n",
       "      <th>3998</th>\n",
       "      <td>guest_998</td>\n",
       "      <td>23</td>\n",
       "      <td>medium</td>\n",
       "    </tr>\n",
       "    <tr>\n",
       "      <th>3999</th>\n",
       "      <td>guest_999</td>\n",
       "      <td>3</td>\n",
       "      <td>low</td>\n",
       "    </tr>\n",
       "  </tbody>\n",
       "</table>\n",
       "<p>4000 rows × 3 columns</p>\n",
       "</div>"
      ],
      "text/plain": [
       "           guest  hotel cut_by_pref\n",
       "0        guest_1     17      medium\n",
       "1       guest_10     25      medium\n",
       "2      guest_100     31      medium\n",
       "3     guest_1000     45         top\n",
       "4     guest_1001     41         top\n",
       "...          ...    ...         ...\n",
       "3995   guest_995      7         low\n",
       "3996   guest_996      2         low\n",
       "3997   guest_997     44         top\n",
       "3998   guest_998     23      medium\n",
       "3999   guest_999      3         low\n",
       "\n",
       "[4000 rows x 3 columns]"
      ]
     },
     "execution_count": 20,
     "metadata": {},
     "output_type": "execute_result"
    }
   ],
   "source": [
    "grouped"
   ]
  },
  {
   "cell_type": "code",
   "execution_count": 21,
   "id": "7cc3ffdc",
   "metadata": {
    "jupyter": {
     "source_hidden": true
    },
    "tags": []
   },
   "outputs": [
    {
     "data": {
      "text/html": [
       "<div>\n",
       "<style scoped>\n",
       "    .dataframe tbody tr th:only-of-type {\n",
       "        vertical-align: middle;\n",
       "    }\n",
       "\n",
       "    .dataframe tbody tr th {\n",
       "        vertical-align: top;\n",
       "    }\n",
       "\n",
       "    .dataframe thead th {\n",
       "        text-align: right;\n",
       "    }\n",
       "</style>\n",
       "<table border=\"1\" class=\"dataframe\">\n",
       "  <thead>\n",
       "    <tr style=\"text-align: right;\">\n",
       "      <th></th>\n",
       "      <th>guest</th>\n",
       "      <th>hotel</th>\n",
       "      <th>cut_by_pref</th>\n",
       "    </tr>\n",
       "  </thead>\n",
       "  <tbody>\n",
       "    <tr>\n",
       "      <th>0</th>\n",
       "      <td>guest_1</td>\n",
       "      <td>17</td>\n",
       "      <td>medium</td>\n",
       "    </tr>\n",
       "    <tr>\n",
       "      <th>1</th>\n",
       "      <td>guest_10</td>\n",
       "      <td>25</td>\n",
       "      <td>medium</td>\n",
       "    </tr>\n",
       "    <tr>\n",
       "      <th>2</th>\n",
       "      <td>guest_100</td>\n",
       "      <td>31</td>\n",
       "      <td>medium</td>\n",
       "    </tr>\n",
       "    <tr>\n",
       "      <th>3</th>\n",
       "      <td>guest_1000</td>\n",
       "      <td>45</td>\n",
       "      <td>top</td>\n",
       "    </tr>\n",
       "    <tr>\n",
       "      <th>4</th>\n",
       "      <td>guest_1001</td>\n",
       "      <td>41</td>\n",
       "      <td>top</td>\n",
       "    </tr>\n",
       "    <tr>\n",
       "      <th>...</th>\n",
       "      <td>...</td>\n",
       "      <td>...</td>\n",
       "      <td>...</td>\n",
       "    </tr>\n",
       "    <tr>\n",
       "      <th>3995</th>\n",
       "      <td>guest_995</td>\n",
       "      <td>7</td>\n",
       "      <td>low</td>\n",
       "    </tr>\n",
       "    <tr>\n",
       "      <th>3996</th>\n",
       "      <td>guest_996</td>\n",
       "      <td>2</td>\n",
       "      <td>low</td>\n",
       "    </tr>\n",
       "    <tr>\n",
       "      <th>3997</th>\n",
       "      <td>guest_997</td>\n",
       "      <td>44</td>\n",
       "      <td>top</td>\n",
       "    </tr>\n",
       "    <tr>\n",
       "      <th>3998</th>\n",
       "      <td>guest_998</td>\n",
       "      <td>23</td>\n",
       "      <td>medium</td>\n",
       "    </tr>\n",
       "    <tr>\n",
       "      <th>3999</th>\n",
       "      <td>guest_999</td>\n",
       "      <td>3</td>\n",
       "      <td>low</td>\n",
       "    </tr>\n",
       "  </tbody>\n",
       "</table>\n",
       "<p>4000 rows × 3 columns</p>\n",
       "</div>"
      ],
      "text/plain": [
       "           guest  hotel cut_by_pref\n",
       "0        guest_1     17      medium\n",
       "1       guest_10     25      medium\n",
       "2      guest_100     31      medium\n",
       "3     guest_1000     45         top\n",
       "4     guest_1001     41         top\n",
       "...          ...    ...         ...\n",
       "3995   guest_995      7         low\n",
       "3996   guest_996      2         low\n",
       "3997   guest_997     44         top\n",
       "3998   guest_998     23      medium\n",
       "3999   guest_999      3         low\n",
       "\n",
       "[4000 rows x 3 columns]"
      ]
     },
     "execution_count": 21,
     "metadata": {},
     "output_type": "execute_result"
    }
   ],
   "source": [
    "grouped"
   ]
  },
  {
   "cell_type": "code",
   "execution_count": 22,
   "id": "9384f371",
   "metadata": {
    "jupyter": {
     "source_hidden": true
    },
    "tags": []
   },
   "outputs": [],
   "source": [
    "df_pref = df_pref.merge(grouped[[\"guest\", \"cut_by_pref\"]], on='guest')"
   ]
  },
  {
   "cell_type": "code",
   "execution_count": 23,
   "id": "779634e8",
   "metadata": {
    "jupyter": {
     "source_hidden": true
    },
    "tags": []
   },
   "outputs": [
    {
     "data": {
      "text/html": [
       "<div>\n",
       "<style scoped>\n",
       "    .dataframe tbody tr th:only-of-type {\n",
       "        vertical-align: middle;\n",
       "    }\n",
       "\n",
       "    .dataframe tbody tr th {\n",
       "        vertical-align: top;\n",
       "    }\n",
       "\n",
       "    .dataframe thead th {\n",
       "        text-align: right;\n",
       "    }\n",
       "</style>\n",
       "<table border=\"1\" class=\"dataframe\">\n",
       "  <thead>\n",
       "    <tr style=\"text-align: right;\">\n",
       "      <th></th>\n",
       "      <th>hotel</th>\n",
       "    </tr>\n",
       "  </thead>\n",
       "  <tbody>\n",
       "    <tr>\n",
       "      <th>count</th>\n",
       "      <td>4000.000000</td>\n",
       "    </tr>\n",
       "    <tr>\n",
       "      <th>mean</th>\n",
       "      <td>23.944500</td>\n",
       "    </tr>\n",
       "    <tr>\n",
       "      <th>std</th>\n",
       "      <td>13.458406</td>\n",
       "    </tr>\n",
       "    <tr>\n",
       "      <th>min</th>\n",
       "      <td>1.000000</td>\n",
       "    </tr>\n",
       "    <tr>\n",
       "      <th>25%</th>\n",
       "      <td>12.000000</td>\n",
       "    </tr>\n",
       "    <tr>\n",
       "      <th>50%</th>\n",
       "      <td>24.000000</td>\n",
       "    </tr>\n",
       "    <tr>\n",
       "      <th>75%</th>\n",
       "      <td>36.000000</td>\n",
       "    </tr>\n",
       "    <tr>\n",
       "      <th>max</th>\n",
       "      <td>49.000000</td>\n",
       "    </tr>\n",
       "  </tbody>\n",
       "</table>\n",
       "</div>"
      ],
      "text/plain": [
       "             hotel\n",
       "count  4000.000000\n",
       "mean     23.944500\n",
       "std      13.458406\n",
       "min       1.000000\n",
       "25%      12.000000\n",
       "50%      24.000000\n",
       "75%      36.000000\n",
       "max      49.000000"
      ]
     },
     "execution_count": 23,
     "metadata": {},
     "output_type": "execute_result"
    }
   ],
   "source": [
    "df_pref.pivot_table(index='guest', aggfunc='count', values='hotel').describe()"
   ]
  },
  {
   "cell_type": "code",
   "execution_count": 24,
   "id": "f83a48e0",
   "metadata": {
    "jupyter": {
     "source_hidden": true
    },
    "tags": []
   },
   "outputs": [
    {
     "data": {
      "text/html": [
       "<div>\n",
       "<style scoped>\n",
       "    .dataframe tbody tr th:only-of-type {\n",
       "        vertical-align: middle;\n",
       "    }\n",
       "\n",
       "    .dataframe tbody tr th {\n",
       "        vertical-align: top;\n",
       "    }\n",
       "\n",
       "    .dataframe thead th {\n",
       "        text-align: right;\n",
       "    }\n",
       "</style>\n",
       "<table border=\"1\" class=\"dataframe\">\n",
       "  <thead>\n",
       "    <tr style=\"text-align: right;\">\n",
       "      <th></th>\n",
       "      <th>guest</th>\n",
       "      <th>hotel</th>\n",
       "      <th>priority</th>\n",
       "      <th>rooms</th>\n",
       "      <th>price</th>\n",
       "      <th>cut_by_price</th>\n",
       "      <th>cut_by_pref</th>\n",
       "    </tr>\n",
       "  </thead>\n",
       "  <tbody>\n",
       "    <tr>\n",
       "      <th>0</th>\n",
       "      <td>guest_1</td>\n",
       "      <td>hotel_168</td>\n",
       "      <td>1</td>\n",
       "      <td>13</td>\n",
       "      <td>298</td>\n",
       "      <td>expensive</td>\n",
       "      <td>medium</td>\n",
       "    </tr>\n",
       "    <tr>\n",
       "      <th>1</th>\n",
       "      <td>guest_1</td>\n",
       "      <td>hotel_207</td>\n",
       "      <td>2</td>\n",
       "      <td>8</td>\n",
       "      <td>128</td>\n",
       "      <td>cheap</td>\n",
       "      <td>medium</td>\n",
       "    </tr>\n",
       "    <tr>\n",
       "      <th>2</th>\n",
       "      <td>guest_1</td>\n",
       "      <td>hotel_222</td>\n",
       "      <td>3</td>\n",
       "      <td>17</td>\n",
       "      <td>231</td>\n",
       "      <td>expensive</td>\n",
       "      <td>medium</td>\n",
       "    </tr>\n",
       "    <tr>\n",
       "      <th>3</th>\n",
       "      <td>guest_1</td>\n",
       "      <td>hotel_124</td>\n",
       "      <td>4</td>\n",
       "      <td>10</td>\n",
       "      <td>255</td>\n",
       "      <td>expensive</td>\n",
       "      <td>medium</td>\n",
       "    </tr>\n",
       "    <tr>\n",
       "      <th>4</th>\n",
       "      <td>guest_1</td>\n",
       "      <td>hotel_223</td>\n",
       "      <td>5</td>\n",
       "      <td>17</td>\n",
       "      <td>291</td>\n",
       "      <td>expensive</td>\n",
       "      <td>medium</td>\n",
       "    </tr>\n",
       "  </tbody>\n",
       "</table>\n",
       "</div>"
      ],
      "text/plain": [
       "     guest      hotel  priority  rooms  price cut_by_price cut_by_pref\n",
       "0  guest_1  hotel_168         1     13    298    expensive      medium\n",
       "1  guest_1  hotel_207         2      8    128        cheap      medium\n",
       "2  guest_1  hotel_222         3     17    231    expensive      medium\n",
       "3  guest_1  hotel_124         4     10    255    expensive      medium\n",
       "4  guest_1  hotel_223         5     17    291    expensive      medium"
      ]
     },
     "execution_count": 24,
     "metadata": {},
     "output_type": "execute_result"
    }
   ],
   "source": [
    "df_pref.head()"
   ]
  },
  {
   "cell_type": "code",
   "execution_count": 25,
   "id": "e4218aad",
   "metadata": {
    "jupyter": {
     "source_hidden": true
    },
    "tags": []
   },
   "outputs": [
    {
     "data": {
      "text/html": [
       "<div>\n",
       "<style scoped>\n",
       "    .dataframe tbody tr th:only-of-type {\n",
       "        vertical-align: middle;\n",
       "    }\n",
       "\n",
       "    .dataframe tbody tr th {\n",
       "        vertical-align: top;\n",
       "    }\n",
       "\n",
       "    .dataframe thead th {\n",
       "        text-align: right;\n",
       "    }\n",
       "</style>\n",
       "<table border=\"1\" class=\"dataframe\">\n",
       "  <thead>\n",
       "    <tr style=\"text-align: right;\">\n",
       "      <th></th>\n",
       "      <th>percentile</th>\n",
       "      <th>guest</th>\n",
       "      <th>priority_cutoff</th>\n",
       "    </tr>\n",
       "  </thead>\n",
       "  <tbody>\n",
       "    <tr>\n",
       "      <th>0</th>\n",
       "      <td>0.33</td>\n",
       "      <td>guest_1</td>\n",
       "      <td>6</td>\n",
       "    </tr>\n",
       "    <tr>\n",
       "      <th>1</th>\n",
       "      <td>0.66</td>\n",
       "      <td>guest_1</td>\n",
       "      <td>11</td>\n",
       "    </tr>\n",
       "    <tr>\n",
       "      <th>2</th>\n",
       "      <td>1.00</td>\n",
       "      <td>guest_1</td>\n",
       "      <td>17</td>\n",
       "    </tr>\n",
       "    <tr>\n",
       "      <th>3</th>\n",
       "      <td>0.33</td>\n",
       "      <td>guest_10</td>\n",
       "      <td>8</td>\n",
       "    </tr>\n",
       "    <tr>\n",
       "      <th>4</th>\n",
       "      <td>0.66</td>\n",
       "      <td>guest_10</td>\n",
       "      <td>16</td>\n",
       "    </tr>\n",
       "    <tr>\n",
       "      <th>...</th>\n",
       "      <td>...</td>\n",
       "      <td>...</td>\n",
       "      <td>...</td>\n",
       "    </tr>\n",
       "    <tr>\n",
       "      <th>11995</th>\n",
       "      <td>0.66</td>\n",
       "      <td>guest_998</td>\n",
       "      <td>15</td>\n",
       "    </tr>\n",
       "    <tr>\n",
       "      <th>11996</th>\n",
       "      <td>1.00</td>\n",
       "      <td>guest_998</td>\n",
       "      <td>23</td>\n",
       "    </tr>\n",
       "    <tr>\n",
       "      <th>11997</th>\n",
       "      <td>0.33</td>\n",
       "      <td>guest_999</td>\n",
       "      <td>1</td>\n",
       "    </tr>\n",
       "    <tr>\n",
       "      <th>11998</th>\n",
       "      <td>0.66</td>\n",
       "      <td>guest_999</td>\n",
       "      <td>2</td>\n",
       "    </tr>\n",
       "    <tr>\n",
       "      <th>11999</th>\n",
       "      <td>1.00</td>\n",
       "      <td>guest_999</td>\n",
       "      <td>3</td>\n",
       "    </tr>\n",
       "  </tbody>\n",
       "</table>\n",
       "<p>12000 rows × 3 columns</p>\n",
       "</div>"
      ],
      "text/plain": [
       "       percentile      guest  priority_cutoff\n",
       "0            0.33    guest_1                6\n",
       "1            0.66    guest_1               11\n",
       "2            1.00    guest_1               17\n",
       "3            0.33   guest_10                8\n",
       "4            0.66   guest_10               16\n",
       "...           ...        ...              ...\n",
       "11995        0.66  guest_998               15\n",
       "11996        1.00  guest_998               23\n",
       "11997        0.33  guest_999                1\n",
       "11998        0.66  guest_999                2\n",
       "11999        1.00  guest_999                3\n",
       "\n",
       "[12000 rows x 3 columns]"
      ]
     },
     "execution_count": 25,
     "metadata": {},
     "output_type": "execute_result"
    }
   ],
   "source": [
    "df_pref.groupby('guest', as_index=False)['priority'].quantile([.33, .66, 1], 'lower').reset_index().drop(columns=[\"level_0\"]).rename(columns={'level_1': \"percentile\", 'priority': 'priority_cutoff'})"
   ]
  },
  {
   "cell_type": "code",
   "execution_count": 26,
   "id": "f132e857",
   "metadata": {
    "jupyter": {
     "source_hidden": true
    },
    "tags": []
   },
   "outputs": [],
   "source": [
    "guest_percentile = df_pref.groupby('guest', as_index=False)['priority'].quantile([.33, .66, 1], 'lower').reset_index().drop(columns=[\"level_0\"]).rename(columns={'level_1': \"percentile\", 'priority': 'priority_cutoff'})"
   ]
  },
  {
   "cell_type": "code",
   "execution_count": 27,
   "id": "6589eecb",
   "metadata": {
    "jupyter": {
     "source_hidden": true
    },
    "tags": []
   },
   "outputs": [
    {
     "data": {
      "text/html": [
       "<div>\n",
       "<style scoped>\n",
       "    .dataframe tbody tr th:only-of-type {\n",
       "        vertical-align: middle;\n",
       "    }\n",
       "\n",
       "    .dataframe tbody tr th {\n",
       "        vertical-align: top;\n",
       "    }\n",
       "\n",
       "    .dataframe thead th {\n",
       "        text-align: right;\n",
       "    }\n",
       "</style>\n",
       "<table border=\"1\" class=\"dataframe\">\n",
       "  <thead>\n",
       "    <tr style=\"text-align: right;\">\n",
       "      <th></th>\n",
       "      <th>guest</th>\n",
       "      <th>hotel</th>\n",
       "      <th>priority</th>\n",
       "      <th>rooms</th>\n",
       "      <th>price</th>\n",
       "      <th>cut_by_price</th>\n",
       "      <th>cut_by_pref</th>\n",
       "    </tr>\n",
       "  </thead>\n",
       "  <tbody>\n",
       "    <tr>\n",
       "      <th>95758</th>\n",
       "      <td>guest_3671</td>\n",
       "      <td>hotel_356</td>\n",
       "      <td>1</td>\n",
       "      <td>18</td>\n",
       "      <td>208</td>\n",
       "      <td>normal</td>\n",
       "      <td>low</td>\n",
       "    </tr>\n",
       "  </tbody>\n",
       "</table>\n",
       "</div>"
      ],
      "text/plain": [
       "            guest      hotel  priority  rooms  price cut_by_price cut_by_pref\n",
       "95758  guest_3671  hotel_356         1     18    208       normal         low"
      ]
     },
     "execution_count": 27,
     "metadata": {},
     "output_type": "execute_result"
    }
   ],
   "source": [
    "df_pref[df_pref.guest==\"guest_3671\"]"
   ]
  },
  {
   "cell_type": "code",
   "execution_count": 28,
   "id": "99cf33c3",
   "metadata": {
    "jupyter": {
     "source_hidden": true
    },
    "tags": []
   },
   "outputs": [
    {
     "data": {
      "text/html": [
       "<div>\n",
       "<style scoped>\n",
       "    .dataframe tbody tr th:only-of-type {\n",
       "        vertical-align: middle;\n",
       "    }\n",
       "\n",
       "    .dataframe tbody tr th {\n",
       "        vertical-align: top;\n",
       "    }\n",
       "\n",
       "    .dataframe thead th {\n",
       "        text-align: right;\n",
       "    }\n",
       "</style>\n",
       "<table border=\"1\" class=\"dataframe\">\n",
       "  <thead>\n",
       "    <tr style=\"text-align: right;\">\n",
       "      <th></th>\n",
       "      <th>percentile</th>\n",
       "      <th>guest</th>\n",
       "      <th>priority_cutoff</th>\n",
       "    </tr>\n",
       "  </thead>\n",
       "  <tbody>\n",
       "    <tr>\n",
       "      <th>8907</th>\n",
       "      <td>0.33</td>\n",
       "      <td>guest_3671</td>\n",
       "      <td>1</td>\n",
       "    </tr>\n",
       "    <tr>\n",
       "      <th>8908</th>\n",
       "      <td>0.66</td>\n",
       "      <td>guest_3671</td>\n",
       "      <td>1</td>\n",
       "    </tr>\n",
       "    <tr>\n",
       "      <th>8909</th>\n",
       "      <td>1.00</td>\n",
       "      <td>guest_3671</td>\n",
       "      <td>1</td>\n",
       "    </tr>\n",
       "  </tbody>\n",
       "</table>\n",
       "</div>"
      ],
      "text/plain": [
       "      percentile       guest  priority_cutoff\n",
       "8907        0.33  guest_3671                1\n",
       "8908        0.66  guest_3671                1\n",
       "8909        1.00  guest_3671                1"
      ]
     },
     "execution_count": 28,
     "metadata": {},
     "output_type": "execute_result"
    }
   ],
   "source": [
    "guest_percentile[guest_percentile.guest==\"guest_3671\"]"
   ]
  },
  {
   "cell_type": "code",
   "execution_count": 29,
   "id": "9af1537b",
   "metadata": {
    "jupyter": {
     "source_hidden": true
    },
    "tags": []
   },
   "outputs": [],
   "source": [
    "guest_percentile = guest_percentile.groupby([\"guest\", \"priority_cutoff\"], as_index=False).min()"
   ]
  },
  {
   "cell_type": "code",
   "execution_count": 30,
   "id": "0fb1e1ac",
   "metadata": {
    "jupyter": {
     "source_hidden": true
    },
    "tags": []
   },
   "outputs": [],
   "source": [
    "guest_percentile = guest_percentile.replace({\"percentile\": {0.33: \"top\", 0.66:\"medium\", 1:\"low\"}})"
   ]
  },
  {
   "cell_type": "code",
   "execution_count": 31,
   "id": "9f2f71ba",
   "metadata": {
    "jupyter": {
     "source_hidden": true
    },
    "tags": []
   },
   "outputs": [
    {
     "data": {
      "text/html": [
       "<div>\n",
       "<style scoped>\n",
       "    .dataframe tbody tr th:only-of-type {\n",
       "        vertical-align: middle;\n",
       "    }\n",
       "\n",
       "    .dataframe tbody tr th {\n",
       "        vertical-align: top;\n",
       "    }\n",
       "\n",
       "    .dataframe thead th {\n",
       "        text-align: right;\n",
       "    }\n",
       "</style>\n",
       "<table border=\"1\" class=\"dataframe\">\n",
       "  <thead>\n",
       "    <tr style=\"text-align: right;\">\n",
       "      <th></th>\n",
       "      <th>guest</th>\n",
       "      <th>priority_cutoff</th>\n",
       "      <th>percentile</th>\n",
       "    </tr>\n",
       "  </thead>\n",
       "  <tbody>\n",
       "    <tr>\n",
       "      <th>0</th>\n",
       "      <td>guest_1</td>\n",
       "      <td>6</td>\n",
       "      <td>top</td>\n",
       "    </tr>\n",
       "    <tr>\n",
       "      <th>1</th>\n",
       "      <td>guest_1</td>\n",
       "      <td>11</td>\n",
       "      <td>medium</td>\n",
       "    </tr>\n",
       "    <tr>\n",
       "      <th>2</th>\n",
       "      <td>guest_1</td>\n",
       "      <td>17</td>\n",
       "      <td>low</td>\n",
       "    </tr>\n",
       "    <tr>\n",
       "      <th>3</th>\n",
       "      <td>guest_10</td>\n",
       "      <td>8</td>\n",
       "      <td>top</td>\n",
       "    </tr>\n",
       "    <tr>\n",
       "      <th>4</th>\n",
       "      <td>guest_10</td>\n",
       "      <td>16</td>\n",
       "      <td>medium</td>\n",
       "    </tr>\n",
       "  </tbody>\n",
       "</table>\n",
       "</div>"
      ],
      "text/plain": [
       "      guest  priority_cutoff percentile\n",
       "0   guest_1                6        top\n",
       "1   guest_1               11     medium\n",
       "2   guest_1               17        low\n",
       "3  guest_10                8        top\n",
       "4  guest_10               16     medium"
      ]
     },
     "execution_count": 31,
     "metadata": {},
     "output_type": "execute_result"
    }
   ],
   "source": [
    "guest_percentile.head()"
   ]
  },
  {
   "cell_type": "code",
   "execution_count": 32,
   "id": "8ad2e4e6",
   "metadata": {
    "jupyter": {
     "source_hidden": true
    },
    "tags": []
   },
   "outputs": [
    {
     "data": {
      "text/html": [
       "<div>\n",
       "<style scoped>\n",
       "    .dataframe tbody tr th:only-of-type {\n",
       "        vertical-align: middle;\n",
       "    }\n",
       "\n",
       "    .dataframe tbody tr th {\n",
       "        vertical-align: top;\n",
       "    }\n",
       "\n",
       "    .dataframe thead th {\n",
       "        text-align: right;\n",
       "    }\n",
       "</style>\n",
       "<table border=\"1\" class=\"dataframe\">\n",
       "  <thead>\n",
       "    <tr style=\"text-align: right;\">\n",
       "      <th></th>\n",
       "      <th>guest</th>\n",
       "      <th>priority_cutoff</th>\n",
       "      <th>percentile</th>\n",
       "    </tr>\n",
       "  </thead>\n",
       "  <tbody>\n",
       "    <tr>\n",
       "      <th>11742</th>\n",
       "      <td>guest_998</td>\n",
       "      <td>15</td>\n",
       "      <td>medium</td>\n",
       "    </tr>\n",
       "    <tr>\n",
       "      <th>11743</th>\n",
       "      <td>guest_998</td>\n",
       "      <td>23</td>\n",
       "      <td>low</td>\n",
       "    </tr>\n",
       "    <tr>\n",
       "      <th>11744</th>\n",
       "      <td>guest_999</td>\n",
       "      <td>1</td>\n",
       "      <td>top</td>\n",
       "    </tr>\n",
       "    <tr>\n",
       "      <th>11745</th>\n",
       "      <td>guest_999</td>\n",
       "      <td>2</td>\n",
       "      <td>medium</td>\n",
       "    </tr>\n",
       "    <tr>\n",
       "      <th>11746</th>\n",
       "      <td>guest_999</td>\n",
       "      <td>3</td>\n",
       "      <td>low</td>\n",
       "    </tr>\n",
       "  </tbody>\n",
       "</table>\n",
       "</div>"
      ],
      "text/plain": [
       "           guest  priority_cutoff percentile\n",
       "11742  guest_998               15     medium\n",
       "11743  guest_998               23        low\n",
       "11744  guest_999                1        top\n",
       "11745  guest_999                2     medium\n",
       "11746  guest_999                3        low"
      ]
     },
     "execution_count": 32,
     "metadata": {},
     "output_type": "execute_result"
    }
   ],
   "source": [
    "guest_percentile.tail()"
   ]
  },
  {
   "cell_type": "code",
   "execution_count": 33,
   "id": "1fc5bd6d",
   "metadata": {
    "jupyter": {
     "source_hidden": true
    },
    "tags": []
   },
   "outputs": [],
   "source": [
    "df_pref_2 = df_pref.merge(guest_percentile, on='guest')"
   ]
  },
  {
   "cell_type": "code",
   "execution_count": 34,
   "id": "c8e0cd41",
   "metadata": {
    "jupyter": {
     "source_hidden": true
    },
    "tags": []
   },
   "outputs": [],
   "source": [
    "df_pref_2 = df_pref_2[df_pref_2.priority <= df_pref_2.priority_cutoff]"
   ]
  },
  {
   "cell_type": "code",
   "execution_count": 35,
   "id": "7428f2a6",
   "metadata": {
    "jupyter": {
     "source_hidden": true
    },
    "tags": []
   },
   "outputs": [],
   "source": [
    "df_pref_2 = df_pref_2.sort_values(by=['guest', 'priority', 'priority_cutoff'])"
   ]
  },
  {
   "cell_type": "code",
   "execution_count": 36,
   "id": "dd5ea2e9",
   "metadata": {
    "jupyter": {
     "source_hidden": true
    },
    "tags": []
   },
   "outputs": [],
   "source": [
    "df_pref_3 = df_pref_2.drop_duplicates(subset=['guest', 'priority'], keep='first')"
   ]
  },
  {
   "cell_type": "markdown",
   "id": "39305eb2",
   "metadata": {},
   "source": [
    "## Distributions of preferences according to hotel price and given priority"
   ]
  },
  {
   "cell_type": "markdown",
   "id": "a24ff66e-b918-4e92-8ad3-649e6acef143",
   "metadata": {},
   "source": [
    "In the following, hotels have been divided in 3 price categories: \"cheap\", \"normal\", and \"expensive\".   \n",
    "In addition to that, every preference given by each guest has been classified as \"top\" if it is among the first priorities, \"low\" if it is among the lower priorities and the remainings have been classified as \"medium\". "
   ]
  },
  {
   "cell_type": "code",
   "execution_count": 37,
   "id": "af44f471",
   "metadata": {
    "jupyter": {
     "source_hidden": true
    },
    "tags": []
   },
   "outputs": [
    {
     "data": {
      "text/html": [
       "<div>\n",
       "<style scoped>\n",
       "    .dataframe tbody tr th:only-of-type {\n",
       "        vertical-align: middle;\n",
       "    }\n",
       "\n",
       "    .dataframe tbody tr th {\n",
       "        vertical-align: top;\n",
       "    }\n",
       "\n",
       "    .dataframe thead th {\n",
       "        text-align: right;\n",
       "    }\n",
       "</style>\n",
       "<table border=\"1\" class=\"dataframe\">\n",
       "  <thead>\n",
       "    <tr style=\"text-align: right;\">\n",
       "      <th>cut_by_price</th>\n",
       "      <th>cheap</th>\n",
       "      <th>normal</th>\n",
       "      <th>expensive</th>\n",
       "    </tr>\n",
       "    <tr>\n",
       "      <th>percentile</th>\n",
       "      <th></th>\n",
       "      <th></th>\n",
       "      <th></th>\n",
       "    </tr>\n",
       "  </thead>\n",
       "  <tbody>\n",
       "    <tr>\n",
       "      <th>low</th>\n",
       "      <td>11158</td>\n",
       "      <td>10764</td>\n",
       "      <td>11258</td>\n",
       "    </tr>\n",
       "    <tr>\n",
       "      <th>medium</th>\n",
       "      <td>10153</td>\n",
       "      <td>10067</td>\n",
       "      <td>10374</td>\n",
       "    </tr>\n",
       "    <tr>\n",
       "      <th>top</th>\n",
       "      <td>10501</td>\n",
       "      <td>10631</td>\n",
       "      <td>10872</td>\n",
       "    </tr>\n",
       "  </tbody>\n",
       "</table>\n",
       "</div>"
      ],
      "text/plain": [
       "cut_by_price  cheap  normal  expensive\n",
       "percentile                            \n",
       "low           11158   10764      11258\n",
       "medium        10153   10067      10374\n",
       "top           10501   10631      10872"
      ]
     },
     "execution_count": 37,
     "metadata": {},
     "output_type": "execute_result"
    }
   ],
   "source": [
    "df_pref_3.pivot_table(index=['percentile'], columns='cut_by_price', values='hotel', aggfunc='count')"
   ]
  },
  {
   "cell_type": "markdown",
   "id": "2aea72f2-5ae6-4034-a84b-e31d74c9dd5d",
   "metadata": {},
   "source": [
    "To better understand the table above, the value in the first row and first column is the number of preferences with low priority given for \"cheap\" hotels."
   ]
  },
  {
   "cell_type": "code",
   "execution_count": 38,
   "id": "ac1e62fe",
   "metadata": {
    "jupyter": {
     "source_hidden": true
    },
    "tags": []
   },
   "outputs": [],
   "source": [
    "df_pivot = df_pref_3.pivot_table(index=['percentile'], columns='cut_by_price', values='hotel', aggfunc='count')"
   ]
  },
  {
   "cell_type": "code",
   "execution_count": 41,
   "id": "12b45a94",
   "metadata": {
    "jupyter": {
     "source_hidden": true
    },
    "scrolled": true,
    "tags": []
   },
   "outputs": [
    {
     "ename": "AttributeError",
     "evalue": "module 'matplotlib.pyplot' has no attribute 'set_axisbelow'",
     "output_type": "error",
     "traceback": [
      "\u001b[1;31m---------------------------------------------------------------------------\u001b[0m",
      "\u001b[1;31mAttributeError\u001b[0m                            Traceback (most recent call last)",
      "\u001b[1;32m<ipython-input-41-5c4b44094e12>\u001b[0m in \u001b[0;36m<module>\u001b[1;34m\u001b[0m\n\u001b[0;32m      1\u001b[0m \u001b[0mdf_pivot\u001b[0m\u001b[1;33m.\u001b[0m\u001b[0mplot\u001b[0m\u001b[1;33m(\u001b[0m \u001b[0my\u001b[0m\u001b[1;33m=\u001b[0m \u001b[1;33m[\u001b[0m\u001b[1;34m'expensive'\u001b[0m\u001b[1;33m,\u001b[0m\u001b[1;34m'normal'\u001b[0m\u001b[1;33m,\u001b[0m\u001b[1;34m'cheap'\u001b[0m\u001b[1;33m]\u001b[0m\u001b[1;33m,\u001b[0m \u001b[0mkind\u001b[0m \u001b[1;33m=\u001b[0m \u001b[1;34m'bar'\u001b[0m\u001b[1;33m,\u001b[0m \u001b[0mtitle\u001b[0m\u001b[1;33m=\u001b[0m\u001b[1;34m'Correlation price and guest priority'\u001b[0m\u001b[1;33m)\u001b[0m\u001b[1;33m\u001b[0m\u001b[1;33m\u001b[0m\u001b[0m\n\u001b[0;32m      2\u001b[0m \u001b[0mplt\u001b[0m\u001b[1;33m.\u001b[0m\u001b[0mlegend\u001b[0m\u001b[1;33m(\u001b[0m\u001b[0mloc\u001b[0m \u001b[1;33m=\u001b[0m \u001b[1;34m'best'\u001b[0m\u001b[1;33m,\u001b[0m\u001b[0mbbox_to_anchor\u001b[0m\u001b[1;33m=\u001b[0m\u001b[1;33m(\u001b[0m\u001b[1;36m0.8\u001b[0m\u001b[1;33m,\u001b[0m \u001b[1;36m0.5\u001b[0m\u001b[1;33m,\u001b[0m \u001b[1;36m0.5\u001b[0m\u001b[1;33m,\u001b[0m \u001b[1;36m0.5\u001b[0m\u001b[1;33m)\u001b[0m\u001b[1;33m)\u001b[0m\u001b[1;33m\u001b[0m\u001b[1;33m\u001b[0m\u001b[0m\n\u001b[1;32m----> 3\u001b[1;33m \u001b[0mplt\u001b[0m\u001b[1;33m.\u001b[0m\u001b[0mset_axisbelow\u001b[0m\u001b[1;33m(\u001b[0m\u001b[1;32mTrue\u001b[0m\u001b[1;33m)\u001b[0m\u001b[1;33m\u001b[0m\u001b[1;33m\u001b[0m\u001b[0m\n\u001b[0m\u001b[0;32m      4\u001b[0m \u001b[0mplt\u001b[0m\u001b[1;33m.\u001b[0m\u001b[0myaxis\u001b[0m\u001b[1;33m.\u001b[0m\u001b[0mgrid\u001b[0m\u001b[1;33m(\u001b[0m\u001b[0mcolor\u001b[0m\u001b[1;33m=\u001b[0m\u001b[1;34m'gray'\u001b[0m\u001b[1;33m,\u001b[0m \u001b[0mlinestyle\u001b[0m\u001b[1;33m=\u001b[0m\u001b[1;34m'solid'\u001b[0m\u001b[1;33m)\u001b[0m\u001b[1;33m\u001b[0m\u001b[1;33m\u001b[0m\u001b[0m\n\u001b[0;32m      5\u001b[0m \u001b[0mfig\u001b[0m\u001b[1;33m.\u001b[0m\u001b[0msavefig\u001b[0m\u001b[1;33m(\u001b[0m\u001b[1;34m'pics/correlation_price_and_guest_priority.png'\u001b[0m\u001b[1;33m,\u001b[0m\u001b[0mbbox_inches\u001b[0m\u001b[1;33m=\u001b[0m\u001b[1;34m'tight'\u001b[0m\u001b[1;33m)\u001b[0m\u001b[1;33m\u001b[0m\u001b[1;33m\u001b[0m\u001b[0m\n",
      "\u001b[1;31mAttributeError\u001b[0m: module 'matplotlib.pyplot' has no attribute 'set_axisbelow'"
     ]
    },
    {
     "data": {
      "image/png": "[encoded data removed]",
      "text/plain": [
       "<Figure size 432x288 with 1 Axes>"
      ]
     },
     "metadata": {
      "needs_background": "light"
     },
     "output_type": "display_data"
    }
   ],
   "source": [
    "df_pivot.plot( y= ['expensive','normal','cheap'], kind = 'bar', title='Correlation price and guest priority')\n",
    "plt.legend(loc = 'best',bbox_to_anchor=(0.8, 0.5, 0.5, 0.5))\n",
    "plt.set_axisbelow(True)\n",
    "plt.yaxis.grid(color='gray', linestyle='solid')\n",
    "fig.savefig('pics/correlation_price_and_guest_priority.png',bbox_inches='tight') "
   ]
  },
  {
   "cell_type": "markdown",
   "id": "76487471-f2a7-43c8-8e3c-16ee138b6c34",
   "metadata": {},
   "source": [
    "In the plot, the correlation between hotel price and hotel priority is shown.  \n",
    "Guests make their choices regardless of the price."
   ]
  },
  {
   "cell_type": "code",
   "execution_count": 42,
   "id": "9cde1f09",
   "metadata": {
    "jupyter": {
     "source_hidden": true
    },
    "tags": []
   },
   "outputs": [
    {
     "data": {
      "text/html": [
       "<div>\n",
       "<style scoped>\n",
       "    .dataframe tbody tr th:only-of-type {\n",
       "        vertical-align: middle;\n",
       "    }\n",
       "\n",
       "    .dataframe tbody tr th {\n",
       "        vertical-align: top;\n",
       "    }\n",
       "\n",
       "    .dataframe thead th {\n",
       "        text-align: right;\n",
       "    }\n",
       "</style>\n",
       "<table border=\"1\" class=\"dataframe\">\n",
       "  <thead>\n",
       "    <tr style=\"text-align: right;\">\n",
       "      <th></th>\n",
       "      <th>guest</th>\n",
       "      <th>hotel</th>\n",
       "      <th>priority</th>\n",
       "      <th>rooms</th>\n",
       "      <th>price</th>\n",
       "      <th>cut_by_price</th>\n",
       "      <th>cut_by_pref</th>\n",
       "    </tr>\n",
       "  </thead>\n",
       "  <tbody>\n",
       "    <tr>\n",
       "      <th>0</th>\n",
       "      <td>guest_1</td>\n",
       "      <td>hotel_168</td>\n",
       "      <td>1</td>\n",
       "      <td>13</td>\n",
       "      <td>298</td>\n",
       "      <td>expensive</td>\n",
       "      <td>medium</td>\n",
       "    </tr>\n",
       "    <tr>\n",
       "      <th>1</th>\n",
       "      <td>guest_1</td>\n",
       "      <td>hotel_207</td>\n",
       "      <td>2</td>\n",
       "      <td>8</td>\n",
       "      <td>128</td>\n",
       "      <td>cheap</td>\n",
       "      <td>medium</td>\n",
       "    </tr>\n",
       "    <tr>\n",
       "      <th>2</th>\n",
       "      <td>guest_1</td>\n",
       "      <td>hotel_222</td>\n",
       "      <td>3</td>\n",
       "      <td>17</td>\n",
       "      <td>231</td>\n",
       "      <td>expensive</td>\n",
       "      <td>medium</td>\n",
       "    </tr>\n",
       "    <tr>\n",
       "      <th>3</th>\n",
       "      <td>guest_1</td>\n",
       "      <td>hotel_124</td>\n",
       "      <td>4</td>\n",
       "      <td>10</td>\n",
       "      <td>255</td>\n",
       "      <td>expensive</td>\n",
       "      <td>medium</td>\n",
       "    </tr>\n",
       "    <tr>\n",
       "      <th>4</th>\n",
       "      <td>guest_1</td>\n",
       "      <td>hotel_223</td>\n",
       "      <td>5</td>\n",
       "      <td>17</td>\n",
       "      <td>291</td>\n",
       "      <td>expensive</td>\n",
       "      <td>medium</td>\n",
       "    </tr>\n",
       "  </tbody>\n",
       "</table>\n",
       "</div>"
      ],
      "text/plain": [
       "     guest      hotel  priority  rooms  price cut_by_price cut_by_pref\n",
       "0  guest_1  hotel_168         1     13    298    expensive      medium\n",
       "1  guest_1  hotel_207         2      8    128        cheap      medium\n",
       "2  guest_1  hotel_222         3     17    231    expensive      medium\n",
       "3  guest_1  hotel_124         4     10    255    expensive      medium\n",
       "4  guest_1  hotel_223         5     17    291    expensive      medium"
      ]
     },
     "execution_count": 42,
     "metadata": {},
     "output_type": "execute_result"
    }
   ],
   "source": [
    "df_pref.head()"
   ]
  },
  {
   "cell_type": "code",
   "execution_count": 43,
   "id": "6a28edec",
   "metadata": {
    "jupyter": {
     "source_hidden": true
    },
    "tags": []
   },
   "outputs": [
    {
     "data": {
      "text/html": [
       "<div>\n",
       "<style scoped>\n",
       "    .dataframe tbody tr th:only-of-type {\n",
       "        vertical-align: middle;\n",
       "    }\n",
       "\n",
       "    .dataframe tbody tr th {\n",
       "        vertical-align: top;\n",
       "    }\n",
       "\n",
       "    .dataframe thead th {\n",
       "        text-align: right;\n",
       "    }\n",
       "</style>\n",
       "<table border=\"1\" class=\"dataframe\">\n",
       "  <thead>\n",
       "    <tr style=\"text-align: right;\">\n",
       "      <th></th>\n",
       "      <th>hotel</th>\n",
       "      <th>priority</th>\n",
       "    </tr>\n",
       "  </thead>\n",
       "  <tbody>\n",
       "    <tr>\n",
       "      <th>153</th>\n",
       "      <td>hotel_237</td>\n",
       "      <td>290</td>\n",
       "    </tr>\n",
       "    <tr>\n",
       "      <th>197</th>\n",
       "      <td>hotel_277</td>\n",
       "      <td>286</td>\n",
       "    </tr>\n",
       "    <tr>\n",
       "      <th>325</th>\n",
       "      <td>hotel_392</td>\n",
       "      <td>271</td>\n",
       "    </tr>\n",
       "    <tr>\n",
       "      <th>307</th>\n",
       "      <td>hotel_376</td>\n",
       "      <td>270</td>\n",
       "    </tr>\n",
       "    <tr>\n",
       "      <th>95</th>\n",
       "      <td>hotel_185</td>\n",
       "      <td>268</td>\n",
       "    </tr>\n",
       "    <tr>\n",
       "      <th>...</th>\n",
       "      <td>...</td>\n",
       "      <td>...</td>\n",
       "    </tr>\n",
       "    <tr>\n",
       "      <th>33</th>\n",
       "      <td>hotel_129</td>\n",
       "      <td>207</td>\n",
       "    </tr>\n",
       "    <tr>\n",
       "      <th>96</th>\n",
       "      <td>hotel_186</td>\n",
       "      <td>206</td>\n",
       "    </tr>\n",
       "    <tr>\n",
       "      <th>126</th>\n",
       "      <td>hotel_212</td>\n",
       "      <td>199</td>\n",
       "    </tr>\n",
       "    <tr>\n",
       "      <th>328</th>\n",
       "      <td>hotel_395</td>\n",
       "      <td>198</td>\n",
       "    </tr>\n",
       "    <tr>\n",
       "      <th>87</th>\n",
       "      <td>hotel_178</td>\n",
       "      <td>196</td>\n",
       "    </tr>\n",
       "  </tbody>\n",
       "</table>\n",
       "<p>400 rows × 2 columns</p>\n",
       "</div>"
      ],
      "text/plain": [
       "         hotel  priority\n",
       "153  hotel_237       290\n",
       "197  hotel_277       286\n",
       "325  hotel_392       271\n",
       "307  hotel_376       270\n",
       "95   hotel_185       268\n",
       "..         ...       ...\n",
       "33   hotel_129       207\n",
       "96   hotel_186       206\n",
       "126  hotel_212       199\n",
       "328  hotel_395       198\n",
       "87   hotel_178       196\n",
       "\n",
       "[400 rows x 2 columns]"
      ]
     },
     "execution_count": 43,
     "metadata": {},
     "output_type": "execute_result"
    }
   ],
   "source": [
    "df_pref.groupby(\"hotel\", as_index=False)['priority'].count().sort_values('priority', ascending=False)"
   ]
  },
  {
   "cell_type": "code",
   "execution_count": 44,
   "id": "c465bbbd",
   "metadata": {
    "jupyter": {
     "source_hidden": true
    },
    "tags": []
   },
   "outputs": [
    {
     "data": {
      "text/html": [
       "<div>\n",
       "<style scoped>\n",
       "    .dataframe tbody tr th:only-of-type {\n",
       "        vertical-align: middle;\n",
       "    }\n",
       "\n",
       "    .dataframe tbody tr th {\n",
       "        vertical-align: top;\n",
       "    }\n",
       "\n",
       "    .dataframe thead th {\n",
       "        text-align: right;\n",
       "    }\n",
       "</style>\n",
       "<table border=\"1\" class=\"dataframe\">\n",
       "  <thead>\n",
       "    <tr style=\"text-align: right;\">\n",
       "      <th>percentile</th>\n",
       "      <th>low</th>\n",
       "      <th>medium</th>\n",
       "      <th>top</th>\n",
       "    </tr>\n",
       "    <tr>\n",
       "      <th>hotel</th>\n",
       "      <th></th>\n",
       "      <th></th>\n",
       "      <th></th>\n",
       "    </tr>\n",
       "  </thead>\n",
       "  <tbody>\n",
       "    <tr>\n",
       "      <th>hotel_277</th>\n",
       "      <td>81</td>\n",
       "      <td>96</td>\n",
       "      <td>109</td>\n",
       "    </tr>\n",
       "    <tr>\n",
       "      <th>hotel_43</th>\n",
       "      <td>84</td>\n",
       "      <td>76</td>\n",
       "      <td>102</td>\n",
       "    </tr>\n",
       "    <tr>\n",
       "      <th>hotel_393</th>\n",
       "      <td>80</td>\n",
       "      <td>70</td>\n",
       "      <td>102</td>\n",
       "    </tr>\n",
       "    <tr>\n",
       "      <th>hotel_96</th>\n",
       "      <td>76</td>\n",
       "      <td>74</td>\n",
       "      <td>101</td>\n",
       "    </tr>\n",
       "    <tr>\n",
       "      <th>hotel_345</th>\n",
       "      <td>76</td>\n",
       "      <td>71</td>\n",
       "      <td>99</td>\n",
       "    </tr>\n",
       "    <tr>\n",
       "      <th>...</th>\n",
       "      <td>...</td>\n",
       "      <td>...</td>\n",
       "      <td>...</td>\n",
       "    </tr>\n",
       "    <tr>\n",
       "      <th>hotel_395</th>\n",
       "      <td>73</td>\n",
       "      <td>64</td>\n",
       "      <td>61</td>\n",
       "    </tr>\n",
       "    <tr>\n",
       "      <th>hotel_150</th>\n",
       "      <td>80</td>\n",
       "      <td>76</td>\n",
       "      <td>61</td>\n",
       "    </tr>\n",
       "    <tr>\n",
       "      <th>hotel_325</th>\n",
       "      <td>81</td>\n",
       "      <td>65</td>\n",
       "      <td>61</td>\n",
       "    </tr>\n",
       "    <tr>\n",
       "      <th>hotel_35</th>\n",
       "      <td>90</td>\n",
       "      <td>76</td>\n",
       "      <td>58</td>\n",
       "    </tr>\n",
       "    <tr>\n",
       "      <th>hotel_184</th>\n",
       "      <td>90</td>\n",
       "      <td>77</td>\n",
       "      <td>55</td>\n",
       "    </tr>\n",
       "  </tbody>\n",
       "</table>\n",
       "<p>400 rows × 3 columns</p>\n",
       "</div>"
      ],
      "text/plain": [
       "percentile  low  medium  top\n",
       "hotel                       \n",
       "hotel_277    81      96  109\n",
       "hotel_43     84      76  102\n",
       "hotel_393    80      70  102\n",
       "hotel_96     76      74  101\n",
       "hotel_345    76      71   99\n",
       "...         ...     ...  ...\n",
       "hotel_395    73      64   61\n",
       "hotel_150    80      76   61\n",
       "hotel_325    81      65   61\n",
       "hotel_35     90      76   58\n",
       "hotel_184    90      77   55\n",
       "\n",
       "[400 rows x 3 columns]"
      ]
     },
     "execution_count": 44,
     "metadata": {},
     "output_type": "execute_result"
    }
   ],
   "source": [
    "df_pref_3.pivot_table(index=\"hotel\", columns='percentile', aggfunc='count', values='guest').sort_values(by=[\"top\"], ascending=False)"
   ]
  },
  {
   "cell_type": "code",
   "execution_count": 45,
   "id": "84b2682e",
   "metadata": {
    "jupyter": {
     "source_hidden": true
    },
    "tags": []
   },
   "outputs": [
    {
     "data": {
      "text/html": [
       "<div>\n",
       "<style scoped>\n",
       "    .dataframe tbody tr th:only-of-type {\n",
       "        vertical-align: middle;\n",
       "    }\n",
       "\n",
       "    .dataframe tbody tr th {\n",
       "        vertical-align: top;\n",
       "    }\n",
       "\n",
       "    .dataframe thead th {\n",
       "        text-align: right;\n",
       "    }\n",
       "</style>\n",
       "<table border=\"1\" class=\"dataframe\">\n",
       "  <thead>\n",
       "    <tr style=\"text-align: right;\">\n",
       "      <th></th>\n",
       "      <th>guest</th>\n",
       "      <th>hotel</th>\n",
       "      <th>priority</th>\n",
       "      <th>rooms</th>\n",
       "      <th>price</th>\n",
       "      <th>cut_by_price</th>\n",
       "      <th>cut_by_pref</th>\n",
       "    </tr>\n",
       "  </thead>\n",
       "  <tbody>\n",
       "    <tr>\n",
       "      <th>0</th>\n",
       "      <td>guest_1</td>\n",
       "      <td>hotel_168</td>\n",
       "      <td>1</td>\n",
       "      <td>13</td>\n",
       "      <td>298</td>\n",
       "      <td>expensive</td>\n",
       "      <td>medium</td>\n",
       "    </tr>\n",
       "    <tr>\n",
       "      <th>1</th>\n",
       "      <td>guest_1</td>\n",
       "      <td>hotel_207</td>\n",
       "      <td>2</td>\n",
       "      <td>8</td>\n",
       "      <td>128</td>\n",
       "      <td>cheap</td>\n",
       "      <td>medium</td>\n",
       "    </tr>\n",
       "    <tr>\n",
       "      <th>2</th>\n",
       "      <td>guest_1</td>\n",
       "      <td>hotel_222</td>\n",
       "      <td>3</td>\n",
       "      <td>17</td>\n",
       "      <td>231</td>\n",
       "      <td>expensive</td>\n",
       "      <td>medium</td>\n",
       "    </tr>\n",
       "    <tr>\n",
       "      <th>3</th>\n",
       "      <td>guest_1</td>\n",
       "      <td>hotel_124</td>\n",
       "      <td>4</td>\n",
       "      <td>10</td>\n",
       "      <td>255</td>\n",
       "      <td>expensive</td>\n",
       "      <td>medium</td>\n",
       "    </tr>\n",
       "    <tr>\n",
       "      <th>4</th>\n",
       "      <td>guest_1</td>\n",
       "      <td>hotel_223</td>\n",
       "      <td>5</td>\n",
       "      <td>17</td>\n",
       "      <td>291</td>\n",
       "      <td>expensive</td>\n",
       "      <td>medium</td>\n",
       "    </tr>\n",
       "    <tr>\n",
       "      <th>...</th>\n",
       "      <td>...</td>\n",
       "      <td>...</td>\n",
       "      <td>...</td>\n",
       "      <td>...</td>\n",
       "      <td>...</td>\n",
       "      <td>...</td>\n",
       "      <td>...</td>\n",
       "    </tr>\n",
       "    <tr>\n",
       "      <th>95773</th>\n",
       "      <td>guest_310</td>\n",
       "      <td>hotel_347</td>\n",
       "      <td>1</td>\n",
       "      <td>8</td>\n",
       "      <td>216</td>\n",
       "      <td>expensive</td>\n",
       "      <td>low</td>\n",
       "    </tr>\n",
       "    <tr>\n",
       "      <th>95774</th>\n",
       "      <td>guest_70</td>\n",
       "      <td>hotel_24</td>\n",
       "      <td>1</td>\n",
       "      <td>9</td>\n",
       "      <td>53</td>\n",
       "      <td>cheap</td>\n",
       "      <td>low</td>\n",
       "    </tr>\n",
       "    <tr>\n",
       "      <th>95775</th>\n",
       "      <td>guest_3603</td>\n",
       "      <td>hotel_277</td>\n",
       "      <td>1</td>\n",
       "      <td>18</td>\n",
       "      <td>281</td>\n",
       "      <td>expensive</td>\n",
       "      <td>low</td>\n",
       "    </tr>\n",
       "    <tr>\n",
       "      <th>95776</th>\n",
       "      <td>guest_318</td>\n",
       "      <td>hotel_255</td>\n",
       "      <td>1</td>\n",
       "      <td>8</td>\n",
       "      <td>182</td>\n",
       "      <td>normal</td>\n",
       "      <td>low</td>\n",
       "    </tr>\n",
       "    <tr>\n",
       "      <th>95777</th>\n",
       "      <td>guest_1116</td>\n",
       "      <td>hotel_218</td>\n",
       "      <td>1</td>\n",
       "      <td>10</td>\n",
       "      <td>93</td>\n",
       "      <td>cheap</td>\n",
       "      <td>low</td>\n",
       "    </tr>\n",
       "  </tbody>\n",
       "</table>\n",
       "<p>95778 rows × 7 columns</p>\n",
       "</div>"
      ],
      "text/plain": [
       "            guest      hotel  priority  rooms  price cut_by_price cut_by_pref\n",
       "0         guest_1  hotel_168         1     13    298    expensive      medium\n",
       "1         guest_1  hotel_207         2      8    128        cheap      medium\n",
       "2         guest_1  hotel_222         3     17    231    expensive      medium\n",
       "3         guest_1  hotel_124         4     10    255    expensive      medium\n",
       "4         guest_1  hotel_223         5     17    291    expensive      medium\n",
       "...           ...        ...       ...    ...    ...          ...         ...\n",
       "95773   guest_310  hotel_347         1      8    216    expensive         low\n",
       "95774    guest_70   hotel_24         1      9     53        cheap         low\n",
       "95775  guest_3603  hotel_277         1     18    281    expensive         low\n",
       "95776   guest_318  hotel_255         1      8    182       normal         low\n",
       "95777  guest_1116  hotel_218         1     10     93        cheap         low\n",
       "\n",
       "[95778 rows x 7 columns]"
      ]
     },
     "execution_count": 45,
     "metadata": {},
     "output_type": "execute_result"
    }
   ],
   "source": [
    "df_pref"
   ]
  },
  {
   "cell_type": "code",
   "execution_count": 46,
   "id": "dd901b47",
   "metadata": {
    "jupyter": {
     "source_hidden": true
    },
    "tags": []
   },
   "outputs": [
    {
     "data": {
      "text/plain": [
       "4617"
      ]
     },
     "execution_count": 46,
     "metadata": {},
     "output_type": "execute_result"
    }
   ],
   "source": [
    "df_hotel.rooms.sum()"
   ]
  },
  {
   "cell_type": "code",
   "execution_count": 47,
   "id": "ea5b117e",
   "metadata": {
    "jupyter": {
     "source_hidden": true
    },
    "tags": []
   },
   "outputs": [
    {
     "data": {
      "text/plain": [
       "4000"
      ]
     },
     "execution_count": 47,
     "metadata": {},
     "output_type": "execute_result"
    }
   ],
   "source": [
    "len(df_guest)"
   ]
  },
  {
   "cell_type": "code",
   "execution_count": 48,
   "id": "ed4642aa",
   "metadata": {},
   "outputs": [
    {
     "data": {
      "text/plain": [
       "0.0"
      ]
     },
     "execution_count": 48,
     "metadata": {},
     "output_type": "execute_result"
    }
   ],
   "source": [
    "df_guest['discount'].min()"
   ]
  },
  {
   "cell_type": "code",
   "execution_count": 49,
   "id": "6bbbc14d",
   "metadata": {},
   "outputs": [
    {
     "data": {
      "image/png": "[encoded data removed]",
      "text/plain": [
       "<Figure size 432x288 with 1 Axes>"
      ]
     },
     "metadata": {
      "needs_background": "light"
     },
     "output_type": "display_data"
    }
   ],
   "source": [
    "fig, ax1 = plt.subplots() \n",
    "x = np.arange(df_guest['discount'].min(),df_guest['discount'].max()+0.02,0.01)\n",
    "ax1.hist(df_guest['discount'],bins = x, rwidth=0.8,align='left', color='linen',ec = 'black')\n",
    "plt.title('Discount distribution',fontsize=15,y=1.05)\n",
    "ax1.set_ylabel('Frequency',fontsize=12)\n",
    "ax1.set_xlabel('Discount',fontsize=12)\n",
    "ax1.set_axisbelow(True)\n",
    "ax1.yaxis.grid(color='gray', linestyle='solid')\n",
    "ax1.xaxis.set_ticks(x)\n",
    "ax1.set_xticklabels(x,rotation=45,ha='right', fontsize=10)\n",
    "ax1.xaxis.set_major_formatter(mtick.PercentFormatter(1.0))\n",
    "fig.savefig('pics/discount.png',bbox_inches='tight') "
   ]
  },
  {
   "cell_type": "code",
   "execution_count": null,
   "id": "0234e5c1",
   "metadata": {},
   "outputs": [],
   "source": []
  }
 ],
 "metadata": {
  "kernelspec": {
   "display_name": "Python 3",
   "language": "python",
   "name": "python3"
  },
  "language_info": {
   "codemirror_mode": {
    "name": "ipython",
    "version": 3
   },
   "file_extension": ".py",
   "mimetype": "text/x-python",
   "name": "python",
   "nbconvert_exporter": "python",
   "pygments_lexer": "ipython3",
   "version": "3.8.8"
  },
  "toc-showcode": false,
  "varInspector": {
   "cols": {
    "lenName": 16,
    "lenType": 16,
    "lenVar": 40
   },
   "kernels_config": {
    "python": {
     "delete_cmd_postfix": "",
     "delete_cmd_prefix": "del ",
     "library": "var_list.py",
     "varRefreshCmd": "print(var_dic_list())"
    },
    "r": {
     "delete_cmd_postfix": ") ",
     "delete_cmd_prefix": "rm(",
     "library": "var_list.r",
     "varRefreshCmd": "cat(var_dic_list()) "
    }
   },
   "types_to_exclude": [
    "module",
    "function",
    "builtin_function_or_method",
    "instance",
    "_Feature"
   ],
   "window_display": false
  }
 },
 "nbformat": 4,
 "nbformat_minor": 5
}
