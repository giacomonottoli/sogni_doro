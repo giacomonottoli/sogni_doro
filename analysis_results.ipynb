{
 "cells": [
  {
   "cell_type": "code",
   "execution_count": 1,
   "id": "834fc602",
   "metadata": {},
   "outputs": [],
   "source": [
    "import nbimporter\n",
    "import pandas as pd\n",
    "import numpy as np\n",
    "import os\n",
    "from tqdm.notebook import tqdm\n",
    "from allocation_strategy import RandomGuestAllocation, OrderGustAllocation, PriceHotelAllocation, AvailabilityHotelAllocation\n",
    "import pickle\n",
    "import matplotlib.pyplot as plt\n",
    "from matplotlib.pyplot import figure\n",
    "import matplotlib.ticker as mtick"
   ]
  },
  {
   "cell_type": "code",
   "execution_count": 2,
   "id": "be3849e9",
   "metadata": {},
   "outputs": [],
   "source": [
    "df_guests = pd.read_csv(\"guests.csv\")\n",
    "df_hotels = pd.read_csv(\"hotels.csv\")\n",
    "df_prefs = pd.read_csv(\"preferences.csv\")"
   ]
  },
  {
   "cell_type": "markdown",
   "id": "399d7ad5",
   "metadata": {},
   "source": [
    "# 1) Statistics"
   ]
  },
  {
   "cell_type": "markdown",
   "id": "85f2b757",
   "metadata": {},
   "source": [
    "## 1.1) No assign_all"
   ]
  },
  {
   "cell_type": "code",
   "execution_count": 3,
   "id": "fcd0b081",
   "metadata": {
    "scrolled": true,
    "tags": []
   },
   "outputs": [
    {
     "name": "stdout",
     "output_type": "stream",
     "text": [
      "----Random Association-Completely Random---\n",
      "Total business volume: 641,722.15 €\n",
      "Assigned guests: 4000\n",
      "Vacant rooms: 617\n",
      "Number of fully booked hotels: 249\n",
      "Number of completely vacant hotels: 0\n",
      "Number of neither full nor vacant hotels: 151\n",
      "Overall satisfaction is: 3.19%\n",
      "\n",
      "----Random Association1-random_on=guest---\n",
      "Total business volume: 642,555.05 €\n",
      "Assigned guests: 3977\n",
      "Vacant rooms: 640\n",
      "Number of fully booked hotels: 264\n",
      "Number of completely vacant hotels: 0\n",
      "Number of neither full nor vacant hotels: 136\n",
      "Overall satisfaction is: 97.48%\n",
      "\n",
      "----Random Association2-random_on=guest_priority---\n",
      "Total business volume: 633,301.44 €\n",
      "Assigned guests: 3969\n",
      "Vacant rooms: 648\n",
      "Number of fully booked hotels: 248\n",
      "Number of completely vacant hotels: 0\n",
      "Number of neither full nor vacant hotels: 152\n",
      "Overall satisfaction is: 53.96%\n",
      "\n",
      "----Association by booking order----\n",
      "Total business volume: 643,597.53 €\n",
      "Assigned guests: 3975\n",
      "Vacant rooms: 642\n",
      "Number of fully booked hotels: 255\n",
      "Number of completely vacant hotels: 0\n",
      "Number of neither full nor vacant hotels: 145\n",
      "Overall satisfaction is: 97.49%\n",
      "\n",
      "----Association by hotel price----\n",
      "Total business volume: 564,283.06 €\n",
      "Assigned guests: 3926\n",
      "Vacant rooms: 691\n",
      "Number of fully booked hotels: 321\n",
      "Number of completely vacant hotels: 12\n",
      "Number of neither full nor vacant hotels: 67\n",
      "Overall satisfaction is: 53.57%\n",
      "\n",
      "----Association by hotel rooms availability----\n",
      "Total business volume: 629,646.24 €\n",
      "Assigned guests: 3955\n",
      "Vacant rooms: 662\n",
      "Number of fully booked hotels: 268\n",
      "Number of completely vacant hotels: 41\n",
      "Number of neither full nor vacant hotels: 91\n",
      "Overall satisfaction is: 52.84%\n"
     ]
    }
   ],
   "source": [
    "a = RandomGuestAllocation(df_guests, df_hotels, df_prefs)\n",
    "a.assign()\n",
    "print(\"----Random Association-Completely Random---\")\n",
    "print(a, end='\\n\\n')\n",
    "\n",
    "a1 = RandomGuestAllocation(df_guests, df_hotels, df_prefs,random_on='guest')\n",
    "a1.assign()\n",
    "print(\"----Random Association1-random_on=guest---\")\n",
    "print(a1, end='\\n\\n')\n",
    "\n",
    "a2 = RandomGuestAllocation(df_guests, df_hotels, df_prefs,random_on='guest_priority')\n",
    "a2.assign()\n",
    "print(\"----Random Association2-random_on=guest_priority---\")\n",
    "print(a2, end='\\n\\n')\n",
    "\n",
    "\n",
    "b = OrderGustAllocation(df_guests, df_hotels, df_prefs)\n",
    "b.assign()\n",
    "b._partial_hotel_booking_ratio()\n",
    "print(\"----Association by booking order----\")\n",
    "print(b, end='\\n\\n')\n",
    "\n",
    "c = PriceHotelAllocation(df_guests, df_hotels, df_prefs)\n",
    "c.assign()\n",
    "c._partial_hotel_booking_ratio()\n",
    "print(\"----Association by hotel price----\")\n",
    "print(c, end='\\n\\n')\n",
    "\n",
    "d = AvailabilityHotelAllocation(df_guests, df_hotels, df_prefs)\n",
    "d.assign()\n",
    "d._partial_hotel_booking_ratio()\n",
    "print(\"----Association by hotel rooms availability----\")\n",
    "print(d)\n",
    "\n"
   ]
  },
  {
   "cell_type": "markdown",
   "id": "6c3b53f3",
   "metadata": {},
   "source": [
    "## 1.2) Assign all"
   ]
  },
  {
   "cell_type": "code",
   "execution_count": 4,
   "id": "c806a652",
   "metadata": {
    "scrolled": true,
    "tags": []
   },
   "outputs": [
    {
     "name": "stdout",
     "output_type": "stream",
     "text": [
      "----Random Association-Completely Random---\n",
      "Total business volume: 642,269.06 €\n",
      "Assigned guests: 4000\n",
      "Vacant rooms: 617\n",
      "Number of fully booked hotels: 251\n",
      "Number of completely vacant hotels: 0\n",
      "Number of neither full nor vacant hotels: 149\n",
      "Overall satisfaction is: 3.32%\n",
      "\n",
      "----Random Association1-Assign_all_ON-random_on=guest---\n",
      "Total business volume: 647,210.25 €\n",
      "Assigned guests: 4000\n",
      "Vacant rooms: 617\n",
      "Number of fully booked hotels: 259\n",
      "Number of completely vacant hotels: 0\n",
      "Number of neither full nor vacant hotels: 141\n",
      "Overall satisfaction is: 97.43%\n",
      "\n",
      "----Random Association2-Assign_all_ON-random_on=guest_priority---\n",
      "Total business volume: 645,755.56 €\n",
      "Assigned guests: 4000\n",
      "Vacant rooms: 617\n",
      "Number of fully booked hotels: 249\n",
      "Number of completely vacant hotels: 0\n",
      "Number of neither full nor vacant hotels: 151\n",
      "Overall satisfaction is: 53.57%\n",
      "\n",
      "----Association by booking order-Assign_all_ON----\n",
      "Total business volume: 647,781.96 €\n",
      "Assigned guests: 4000\n",
      "Vacant rooms: 617\n",
      "Number of fully booked hotels: 262\n",
      "Number of completely vacant hotels: 0\n",
      "Number of neither full nor vacant hotels: 138\n",
      "Overall satisfaction is: 97.49%\n",
      "\n",
      "----Association by hotel price-Assign_all_ON----\n",
      "Total business volume: 580,921.34 €\n",
      "Assigned guests: 4000\n",
      "Vacant rooms: 617\n",
      "Number of fully booked hotels: 334\n",
      "Number of completely vacant hotels: 12\n",
      "Number of neither full nor vacant hotels: 54\n",
      "Overall satisfaction is: 53.57%\n",
      "\n",
      "----Association by hotel rooms availability-Assign_all_ON----\n",
      "Total business volume: 637,081.7 €\n",
      "Assigned guests: 4000\n",
      "Vacant rooms: 617\n",
      "Number of fully booked hotels: 269\n",
      "Number of completely vacant hotels: 29\n",
      "Number of neither full nor vacant hotels: 102\n",
      "Overall satisfaction is: 52.84%\n"
     ]
    }
   ],
   "source": [
    "a_aa = RandomGuestAllocation(df_guests, df_hotels, df_prefs,assign_all = True)\n",
    "a_aa.assign()\n",
    "print(\"----Random Association-Completely Random---\")\n",
    "print(a_aa, end='\\n\\n')\n",
    "\n",
    "a1_aa = RandomGuestAllocation(df_guests, df_hotels, df_prefs,assign_all = True,random_on='guest')\n",
    "a1_aa.assign()\n",
    "print(\"----Random Association1-Assign_all_ON-random_on=guest---\")\n",
    "print(a1_aa, end='\\n\\n')\n",
    "\n",
    "a2_aa = RandomGuestAllocation(df_guests, df_hotels, df_prefs,assign_all = True,random_on='guest_priority')\n",
    "a2_aa.assign()\n",
    "print(\"----Random Association2-Assign_all_ON-random_on=guest_priority---\")\n",
    "print(a2_aa, end='\\n\\n')\n",
    "\n",
    "\n",
    "b_aa = OrderGustAllocation(df_guests, df_hotels, df_prefs,assign_all = True)\n",
    "b_aa.assign()\n",
    "print(\"----Association by booking order-Assign_all_ON----\")\n",
    "print(b_aa, end='\\n\\n')\n",
    "\n",
    "c_aa = PriceHotelAllocation(df_guests, df_hotels, df_prefs,assign_all = True)\n",
    "c_aa.assign()\n",
    "print(\"----Association by hotel price-Assign_all_ON----\")\n",
    "print(c_aa, end='\\n\\n')\n",
    "\n",
    "d_aa = AvailabilityHotelAllocation(df_guests, df_hotels, df_prefs,assign_all = True)\n",
    "d_aa.assign()\n",
    "print(\"----Association by hotel rooms availability-Assign_all_ON----\")\n",
    "print(d_aa)"
   ]
  },
  {
   "cell_type": "markdown",
   "id": "5641f19d",
   "metadata": {},
   "source": [
    "# 2) Plots"
   ]
  },
  {
   "cell_type": "markdown",
   "id": "40d1c498",
   "metadata": {},
   "source": [
    "## 2.1) Initializations"
   ]
  },
  {
   "cell_type": "code",
   "execution_count": 5,
   "id": "78f4e663",
   "metadata": {
    "tags": []
   },
   "outputs": [],
   "source": [
    "sl, sl1, sl2, sl_aa, sl1_aa, sl2_aa = ([] for i in range(6))\n",
    "bv, bv1, bv2, bv_aa, bv1_aa, bv2_aa = ([] for i in range(6))\n",
    "ag, ag1, ag2, ag_aa, ag1_aa, ag2_aa = ([] for i in range(6))\n",
    "fh, fh1, fh2, fh_aa, fh1_aa, fh2_aa = ([] for i in range(6))\n",
    "eh, eh1, eh2, eh_aa, eh1_aa, eh2_aa = ([] for i in range(6))\n",
    "neh, neh1, neh2, neh_aa, neh1_aa, neh2_aa = ([] for i in range(6))"
   ]
  },
  {
   "cell_type": "code",
   "execution_count": null,
   "id": "a3519de3",
   "metadata": {},
   "outputs": [
    {
     "data": {
      "application/vnd.jupyter.widget-view+json": {
       "model_id": "cb19f9a6e09840c7b4fd37a7462474e1",
       "version_major": 2,
       "version_minor": 0
      },
      "text/plain": [
       "  0%|          | 0/100 [00:00<?, ?it/s]"
      ]
     },
     "metadata": {},
     "output_type": "display_data"
    }
   ],
   "source": [
    "for i in tqdm(range(100)):\n",
    "    a = RandomGuestAllocation(df_guests, df_hotels, df_prefs, random_on=None)\n",
    "    a.assign()\n",
    "    a1 = RandomGuestAllocation(df_guests, df_hotels, df_prefs, random_on='guest')\n",
    "    a1.assign()\n",
    "    a2 = RandomGuestAllocation(df_guests, df_hotels, df_prefs, random_on='guest_priority')\n",
    "    a2.assign()\n",
    "    a_aa = RandomGuestAllocation(df_guests, df_hotels, df_prefs, assign_all=True, random_on=None)\n",
    "    a_aa.assign()\n",
    "    a1_aa = RandomGuestAllocation(df_guests, df_hotels, df_prefs,assign_all=True, random_on='guest')\n",
    "    a1_aa.assign()\n",
    "    a2_aa = RandomGuestAllocation(df_guests, df_hotels, df_prefs,assign_all=True, random_on='guest_priority')\n",
    "    a2_aa.assign()\n",
    "    sl.append(a.satifaction_level)\n",
    "    bv.append(a.business_volume)\n",
    "    sl1.append(a1.satifaction_level)\n",
    "    bv1.append(a1.business_volume)\n",
    "    sl2.append(a2.satifaction_level)\n",
    "    bv2.append(a2.business_volume)\n",
    "    sl_aa.append(a_aa.satifaction_level)\n",
    "    sl1_aa.append(a1_aa.satifaction_level)\n",
    "    sl2_aa.append(a2_aa.satifaction_level)\n",
    "    bv_aa.append(a_aa.business_volume)\n",
    "    bv1_aa.append(a1_aa.business_volume)\n",
    "    bv2_aa.append(a2_aa.business_volume)\n",
    "    ag.append(a.number_ass_guest)\n",
    "    ag1.append(a1.number_ass_guest)\n",
    "    ag2.append(a2.number_ass_guest)\n",
    "    ag_aa.append(a_aa.number_ass_guest)\n",
    "    ag1_aa.append(a1_aa.number_ass_guest)\n",
    "    ag2_aa.append(a2_aa.number_ass_guest)\n",
    "    fh.append(a.number_fully_book_hotels)\n",
    "    fh1.append(a1.number_fully_book_hotels)\n",
    "    fh2.append(a2.number_fully_book_hotels)\n",
    "    fh_aa.append(a_aa.number_fully_book_hotels)\n",
    "    fh1_aa.append(a1_aa.number_fully_book_hotels)\n",
    "    fh2_aa.append(a2_aa.number_fully_book_hotels)\n",
    "    eh.append(a.number_empty_hotels)\n",
    "    eh1.append(a1.number_empty_hotels)\n",
    "    eh2.append(a2.number_empty_hotels)\n",
    "    eh_aa.append(a_aa.number_empty_hotels)\n",
    "    eh1_aa.append(a1_aa.number_empty_hotels)\n",
    "    eh2_aa.append(a2_aa.number_empty_hotels)\n",
    "    neh.append(a.number_not_full_empty_hotel)\n",
    "    neh1.append(a1.number_not_full_empty_hotel)\n",
    "    neh2.append(a2.number_not_full_empty_hotel)\n",
    "    neh_aa.append(a_aa.number_not_full_empty_hotel)\n",
    "    neh1_aa.append(a1_aa.number_not_full_empty_hotel)\n",
    "    neh2_aa.append(a2_aa.number_not_full_empty_hotel)"
   ]
  },
  {
   "cell_type": "markdown",
   "id": "93405d48",
   "metadata": {},
   "source": [
    "## 2.2) Summary table"
   ]
  },
  {
   "cell_type": "code",
   "execution_count": null,
   "id": "b6637314",
   "metadata": {
    "scrolled": true,
    "tags": []
   },
   "outputs": [],
   "source": [
    "business_volume_list = [round(sum(bv)/len(bv),-2)/1000, round(sum(bv1)/len(bv1),-2)/1000, round(sum(bv2)/len(bv2),-2)/1000,\n",
    "                        round(b.business_volume,-2)/1000, round(c.business_volume,-2)/1000, round(d.business_volume,-2)/1000]\n",
    "\n",
    "satisfaction_level_list = [round(sum(sl)/len(sl)*100,2), round(sum(sl1)/len(sl1)*100,2), round(sum(sl2)/len(sl2)*100,2),\n",
    "                           round(b.satifaction_level*100,2), round(c.satifaction_level*100,2), round(d.satifaction_level*100,2)]\n",
    "\n",
    "assigned_guest_list = [round(sum(ag)/len(ag)), round(sum(ag1)/len(ag1)), \n",
    "                       round(sum(ag2)/len(ag2)),int(b.number_ass_guest), int(c. number_ass_guest), int(d.number_ass_guest)]\n",
    "                                                 \n",
    "full_hotels_list = [round(sum(fh)/len(fh)), round(sum(fh1)/len(fh1)), \n",
    "                       round(sum(fh2)/len(fh2)),b.number_fully_book_hotels,c.number_fully_book_hotels,d.number_fully_book_hotels]\n",
    "\n",
    "empty_hotels_list = [round(sum(eh)/len(eh)), round(sum(eh1)/len(eh1)), \n",
    "                       round(sum(eh2)/len(eh2)), b.number_empty_hotels, c.number_empty_hotels, d.number_empty_hotels]\n",
    "\n",
    "part_empty_hotels_list = [round(sum(neh)/len(neh)), round(sum(neh1)/len(neh1)), \n",
    "                       round(sum(neh2)/len(neh2)), b.number_not_full_empty_hotel, c.number_not_full_empty_hotel,\n",
    "                         d.number_not_full_empty_hotel]\n",
    "\n",
    "stat_summary = pd.DataFrame([business_volume_list, satisfaction_level_list, assigned_guest_list,\n",
    "                            full_hotels_list, \n",
    "                             empty_hotels_list,\n",
    "                             part_empty_hotels_list]).transpose().rename(\n",
    "    columns={0:'Business volume [k Euro]',1:'Satisfaction Level [%]',\n",
    "             2:'Assigned guests',3: 'Full Hotels',4:'Empty Hotels',5:'Not full nor empty'}, index={0:'Completely Random (avg)',1:'Random on guest (avg)',2:'Random on guest priority (avg)',3:'Booking order',\n",
    "             4:'Hotel price',5: 'Hotel availability'})\n",
    "\n",
    "stat_summary = stat_summary.rename_axis('Strategy', axis='columns')\n",
    "stat_summary\n",
    "\n",
    "import dataframe_image as dfi\n",
    "\n",
    "dfi.export(stat_summary, 'pics/Results_table.png')"
   ]
  },
  {
   "cell_type": "code",
   "execution_count": null,
   "id": "b68cf233",
   "metadata": {
    "tags": []
   },
   "outputs": [],
   "source": [
    "stat_summary['Full Hotels'] = stat_summary['Full Hotels'].astype(int)\n",
    "stat_summary['Assigned guests'] = stat_summary['Assigned guests'].astype(int)\n",
    "stat_summary['Empty Hotels'] = stat_summary['Empty Hotels'].astype(int)\n",
    "stat_summary['Not full nor empty'] = stat_summary['Not full nor empty'].astype(int)\n",
    "stat_summary"
   ]
  },
  {
   "cell_type": "code",
   "execution_count": null,
   "id": "d1d8371e",
   "metadata": {},
   "outputs": [],
   "source": [
    "stat_summary.max()"
   ]
  },
  {
   "cell_type": "markdown",
   "id": "6e6713a2",
   "metadata": {},
   "source": [
    "## 2.3) Assigned guests"
   ]
  },
  {
   "cell_type": "code",
   "execution_count": null,
   "id": "b6511d85",
   "metadata": {
    "scrolled": true,
    "tags": []
   },
   "outputs": [],
   "source": [
    "fig, ax2 = plt.subplots()\n",
    "values = assigned_guest_list\n",
    "strategy = ['Completely Random','Random on guest','Random on guest priority', 'Booking order', 'Hotel price', 'Hotel availability']\n",
    "ax2.bar(strategy, values, color ='linen',ec = 'black',\n",
    "       width = 0.4)\n",
    "ax2.set_xticklabels(strategy,rotation=45,ha='right')\n",
    "ax2.set_ylabel('Assigned guests')\n",
    "ax2.set_ylim(0,4050)\n",
    "ax2.set_title('Assigned guests',fontsize=20,y=1.05)\n",
    "plt.text(5.6, 4050, 'Completely random = %s'%(assigned_guest_list[0])+' assigned guests (avg)' +\n",
    "         '\\nRandom on guest = %s'%(assigned_guest_list[1]) +' assigned guests (avg)'\n",
    "         '\\nRandom on guest priority = %s'%(assigned_guest_list[2]) +' assigned guests (avg)'\n",
    "         '\\nBooking order = %s'%(assigned_guest_list[3]) +' assigned guests'\n",
    "         '\\nHotel price = %s'%(assigned_guest_list[4]) +' assigned guests'\n",
    "         '\\nHotel availability = %s'%(assigned_guest_list[5]) +' assigned guests', size=13, rotation=0.,ha=\"left\", va=\"top\", bbox=dict(boxstyle=\"round\",\n",
    "                   ec=\"black\", fc=\"white\"))\n",
    "plt.show()\n",
    "fig.savefig('pics/ass_guests.png',bbox_inches='tight') "
   ]
  },
  {
   "cell_type": "markdown",
   "id": "cd3e6f56",
   "metadata": {},
   "source": [
    "## 2.4)Hotel booking distribution "
   ]
  },
  {
   "cell_type": "code",
   "execution_count": null,
   "id": "95b4802b",
   "metadata": {
    "scrolled": true,
    "tags": []
   },
   "outputs": [],
   "source": [
    "fig, ax2 = plt.subplots()\n",
    "values= full_hotels_list\n",
    "values1 = empty_hotels_list\n",
    "values2 = part_empty_hotels_list\n",
    "strategy = ['Completely Random','Random on guest','Random on guest priority', 'Booking order', 'Hotel price', 'Hotel availability']\n",
    "ax2.bar(strategy, values, color ='limegreen',ec = 'black',\n",
    "       width = 0.4)\n",
    "ax2.bar(strategy,values2, bottom = values, color ='orange',ec = 'black',\n",
    "       width = 0.4)\n",
    "ax2.bar(strategy, values1, bottom=[i+j for i,j in zip(values, values2)],color ='tomato',ec = 'black',\n",
    "       width = 0.4)\n",
    "ax2.set_xticklabels(strategy,rotation=45,ha='right', fontsize=12)\n",
    "ax2.set_ylabel('Hotels', fontsize=12)\n",
    "ax2.set_ylim(0,400)\n",
    "ax2.set_title('Hotel booking distribution' ,fontsize=20,y=1.05)\n",
    "colors = {'Full hotels':'limegreen', 'Partially empty hotels':'orange', 'Empty hotels':'tomato'}         \n",
    "labels = list(colors.keys())\n",
    "handles = [plt.Rectangle((0,0),1,1, color=colors[label]) for label in labels]\n",
    "ax2.legend(handles, labels, loc='upper left',handleheight = 1, fontsize =10,\n",
    "         bbox_to_anchor=(1.01,1), borderaxespad=0.0,edgecolor = 'black', facecolor = 'white',framealpha=1)\n",
    "fig.savefig('pics/Hotel_booking_distribution.png',bbox_inches='tight') \n",
    "\n",
    "\n"
   ]
  },
  {
   "cell_type": "markdown",
   "id": "40c92a24",
   "metadata": {},
   "source": [
    "##  2.5) Description of partially booked hotels for different strategies  "
   ]
  },
  {
   "cell_type": "code",
   "execution_count": null,
   "id": "95d9be10",
   "metadata": {
    "scrolled": true,
    "tags": []
   },
   "outputs": [],
   "source": [
    "fig, ax = plt.subplots() #ax1,ax2 refer to your two pies\n",
    "x = np.arange(0,1.1,0.1)\n",
    "ax.hist([b.partially_vacant_hotels,\n",
    "         c.partially_vacant_hotels,\n",
    "         d.partially_vacant_hotels],bins = x,rwidth=0.8,color=['lightsteelblue','palegreen','linen'],ec='black')\n",
    "#ax.hist(partially_vacant_hotels_c,bins = x,rwidth=0.2, color='red',ec = 'black')\n",
    "#ax.hist(partially_vacant_hotels_d,bins = x,rwidth=0.2, color='blue',ec = 'black')\n",
    "ax.xaxis.set_major_formatter(mtick.PercentFormatter(1.0))\n",
    "ax.xaxis.set_ticks(x)\n",
    "#ax.set_ylim([0,max(y)+1])\n",
    "plt.title('Booking ratio of partially occupied hotels',fontsize=15,y=1.05)\n",
    "ax.set_ylabel('Frequency',fontsize=12)\n",
    "ax.set_xlabel('Booking ratio[%]',fontsize=12)\n",
    "plt.xticks(x)\n",
    "colors = {'Booking order':'lightsteelblue', 'Hotel price':'palegreen','Hotel availability':'linen'}         \n",
    "labels = list(colors.keys())\n",
    "handles = [plt.Rectangle((0,0),1,1, color=colors[label]) for label in labels]\n",
    "ax.legend(handles, labels, loc='upper left',handleheight = 1, fontsize = 10,\n",
    "         bbox_to_anchor=(1.01,1), borderaxespad=0.0,edgecolor = 'black', facecolor = 'white',framealpha=1)\n",
    "plt.show()\n",
    "fig.savefig('pics/partial_hotels.png',bbox_inches='tight') "
   ]
  },
  {
   "cell_type": "markdown",
   "id": "b2446e88",
   "metadata": {},
   "source": [
    "### Hotel booking distribution + Assigned guests"
   ]
  },
  {
   "cell_type": "code",
   "execution_count": null,
   "id": "f3aaf3af",
   "metadata": {
    "scrolled": true,
    "tags": []
   },
   "outputs": [],
   "source": [
    "fig, (ax2,ax1) = plt.subplots(1,2,figsize=(20,7))\n",
    "values= full_hotels_list\n",
    "values1 = empty_hotels_list\n",
    "values2 = part_empty_hotels_list\n",
    "strategy = ['Completely Random','Random on guest','Random on guest priority', 'Booking order', 'Hotel price', 'Hotel availability']\n",
    "ax2.bar(strategy, values, color ='limegreen',ec = 'black',\n",
    "       width = 0.4)\n",
    "ax2.bar(strategy,values2, bottom = values, color ='orange',ec = 'black',\n",
    "       width = 0.4)\n",
    "ax2.bar(strategy, values1, bottom=[i+j for i,j in zip(values, values2)],color ='tomato',ec = 'black',\n",
    "       width = 0.4)\n",
    "ax2.set_xticklabels(strategy,rotation=45,ha='right', fontsize=12)\n",
    "ax2.set_ylabel('Hotels', fontsize=12)\n",
    "ax2.set_ylim(0,400)\n",
    "ax2.set_title('Hotel booking distribution' ,fontsize=20,y=1.05)\n",
    "colors = {'Full hotels':'limegreen', 'Partially empty hotels':'orange', 'Empty hotels':'tomato'}         \n",
    "labels = list(colors.keys())\n",
    "handles = [plt.Rectangle((0,0),1,1, color=colors[label]) for label in labels]\n",
    "ax2.legend(handles, labels, loc='upper left',handleheight = 1, fontsize =10,\n",
    "         bbox_to_anchor=(0.7,0.2), borderaxespad=0.0,edgecolor = 'black', facecolor = 'white',framealpha=1)\n",
    "\n",
    "values_ = assigned_guest_list\n",
    "strategy_ = ['Completely Random','Random on guest','Random on guest priority', 'Booking order', 'Hotel price', 'Hotel availability']\n",
    "ax1.bar(strategy_, values_, color ='linen',ec = 'black',\n",
    "       width = 0.4)\n",
    "ax1.set_xticklabels(strategy_,rotation=45,ha='right', fontsize=15)\n",
    "ax1.set_ylabel('Assigned guests', fontsize=15)\n",
    "ax1.set_ylim(0,4050)\n",
    "ax1.set_title('Assigned guests',fontsize=30,y=1.05)\n",
    "ax1.text(5.6, 4050, 'Completely random = %s'%(assigned_guest_list[0])+' assigned guests (avg)' +\n",
    "         '\\nRandom on guest = %s'%(assigned_guest_list[1]) +' assigned guests (avg)'\n",
    "         '\\nRandom on guest priority = %s'%(assigned_guest_list[2]) +' assigned guests (avg)'\n",
    "         '\\nBooking order = %s'%(assigned_guest_list[3]) +' assigned guests'\n",
    "         '\\nHotel price = %s'%(assigned_guest_list[4]) +' assigned guests'\n",
    "         '\\nHotel availability = %s'%(assigned_guest_list[5]) +' assigned guests', size=13, rotation=0.,ha=\"left\", va=\"top\", bbox=dict(boxstyle=\"round\",\n",
    "                   ec=\"black\", fc=\"white\"))\n",
    "fig.savefig('pics/Hotel_booking_distribution_&_ass_guests.png',bbox_inches='tight') \n"
   ]
  },
  {
   "cell_type": "markdown",
   "id": "b4c3354d",
   "metadata": {},
   "source": [
    "### Hotel booking distribution + Partially empty hotels"
   ]
  },
  {
   "cell_type": "code",
   "execution_count": null,
   "id": "496051fb",
   "metadata": {
    "tags": []
   },
   "outputs": [],
   "source": [
    "fig, (ax2,ax1) = plt.subplots(1,2,figsize=(20,7))\n",
    "values= full_hotels_list\n",
    "values1 = empty_hotels_list\n",
    "values2 = part_empty_hotels_list\n",
    "strategy = ['Completely Random','Random on guest','Random on guest priority', 'Booking order', 'Hotel price', 'Hotel availability']\n",
    "ax2.bar(strategy, values, color ='limegreen',ec = 'black',\n",
    "       width = 0.4)\n",
    "ax2.bar(strategy,values2, bottom = values, color ='orange',ec = 'black',\n",
    "       width = 0.4)\n",
    "ax2.bar(strategy, values1, bottom=[i+j for i,j in zip(values, values2)],color ='tomato',ec = 'black',\n",
    "       width = 0.4)\n",
    "ax2.set_xticklabels(strategy,rotation=45,ha='right', fontsize=12)\n",
    "ax2.set_ylabel('Hotels', fontsize=12)\n",
    "ax2.set_ylim(0,400)\n",
    "ax2.set_title('Hotel booking distribution' ,fontsize=20,y=1.05)\n",
    "colors = {'Full hotels':'limegreen', 'Partially empty hotels':'orange', 'Empty hotels':'tomato'}         \n",
    "labels = list(colors.keys())\n",
    "handles = [plt.Rectangle((0,0),1,1, color=colors[label]) for label in labels]\n",
    "ax2.legend(handles, labels, loc='upper left',handleheight = 1, fontsize =10,\n",
    "         bbox_to_anchor=(0.7,0.2), borderaxespad=0.0,edgecolor = 'black', facecolor = 'white',framealpha=1)\n",
    "\n",
    "x = np.arange(0,1.1,0.1)\n",
    "ax1.hist([b.partially_vacant_hotels,\n",
    "         c.partially_vacant_hotels,\n",
    "         d.partially_vacant_hotels],bins = x,rwidth=0.8,color=['lightsteelblue','palegreen','linen'],ec='black')\n",
    "ax1.xaxis.set_major_formatter(mtick.PercentFormatter(1.0))\n",
    "ax1.xaxis.set_ticks(x)\n",
    "#ax.set_ylim([0,max(y)+1])\n",
    "ax1.set_title('Booking ratio of partially occupied hotels',fontsize=20,y=1.05)\n",
    "ax1.set_ylabel('Frequency',fontsize=15)\n",
    "ax1.set_xlabel('Booking ratio[%]',fontsize=15)\n",
    "plt.xticks(x)\n",
    "colors = {'Booking order':'lightsteelblue', 'Hotel price':'palegreen','Hotel availability':'linen'}         \n",
    "labels = list(colors.keys())\n",
    "handles = [plt.Rectangle((0,0),1,1, color=colors[label]) for label in labels]\n",
    "ax1.legend(handles, labels, loc='upper left',handleheight = 1, fontsize = 10,\n",
    "         bbox_to_anchor=(1.01,1), borderaxespad=0.0,edgecolor = 'black', facecolor = 'white',framealpha=1)\n",
    "plt.show()\n",
    "fig.savefig('pics/Hotel_booking_distribution_&_partial_hotels.png',bbox_inches='tight') "
   ]
  },
  {
   "cell_type": "markdown",
   "id": "ead8c291",
   "metadata": {},
   "source": [
    "## 2.6) Satisfaction level"
   ]
  },
  {
   "cell_type": "code",
   "execution_count": null,
   "id": "e6abaccd",
   "metadata": {
    "tags": []
   },
   "outputs": [],
   "source": [
    "fig, (ax2,ax1) = plt.subplots(1,2,figsize=(17,5))\n",
    "ax1.boxplot([sl,sl1,sl2])\n",
    "ax1.set_ylabel('Satisfaction level [%]')\n",
    "ax1.set_xticks([1,2,3])\n",
    "ax1.set_xticklabels(['Completely Random','Random on guest', 'Random on guest_priority'],rotation = 45,ha='right')\n",
    "left, right = plt.xlim()\n",
    "ax1.l1 = plt.hlines(b.satifaction_level, xmin=left, xmax=right, colors='red',linestyles='dashed')\n",
    "ax1.l2 = plt.hlines(c.satifaction_level, xmin=left, xmax=right, colors='black',linestyles='dotted')\n",
    "ax1.l3 = plt.hlines(d.satifaction_level, xmin=left, xmax=right, colors='green',linestyles='solid')\n",
    "ax1.legend([ax1.l1,ax1.l2,ax1.l3],['Booking order', 'Hotel price','Hotel availability'],handleheight = 1, fontsize = 10,\n",
    "         bbox_to_anchor=(1.05, 1),loc='upper left', borderaxespad=0.0)\n",
    "ax1.set_title('Satisfaction level - Boxplots',fontsize=20,y=1.05)\n",
    "ax1.yaxis.set_major_formatter(mtick.PercentFormatter(1))\n",
    "\n",
    "sl_average_values = {'Completely random':sum(sl)/len(sl), \n",
    "                     'Random on guest':sum(sl1)/len(sl1),\n",
    "                     'Random on guest_priority':sum(sl2)/len(sl2),\n",
    "                    'Booking order':b.satifaction_level,'Hotel price':c.satifaction_level,\n",
    "                    'Hotel availability': d.satifaction_level}\n",
    "\n",
    "strategy = list(sl_average_values.keys())\n",
    "values = list(sl_average_values.values())\n",
    "\n",
    "ax2.bar(strategy, values, color ='linen',ec = 'black',\n",
    "        width = 0.4)\n",
    "ax2.set_xticklabels(strategy,rotation=45,ha='right')\n",
    "ax2.set_ylabel('Satisfaction level [%]')\n",
    "#ax2.set_ylim(630000,650000)\n",
    "ax2.set_title('Satisfaction level - Average',fontsize=20,y=1.05)\n",
    "ax2.yaxis.set_major_formatter(mtick.PercentFormatter(1))\n",
    "\n",
    "plt.show()\n",
    "fig.savefig('pics/Satisfaction_level.png',bbox_inches='tight') "
   ]
  },
  {
   "cell_type": "markdown",
   "id": "efb3d072",
   "metadata": {},
   "source": [
    "## 2.7) Business volume"
   ]
  },
  {
   "cell_type": "code",
   "execution_count": null,
   "id": "a6b13c01",
   "metadata": {
    "scrolled": true,
    "tags": []
   },
   "outputs": [],
   "source": [
    "fig, (ax2,ax1) = plt.subplots(1,2,figsize=(17,5))\n",
    "ax1.boxplot([bv,bv1,bv2])\n",
    "ax1.set_ylabel('Business volume [€]')\n",
    "ax1.set_xticks([1,2,3])\n",
    "ax1.set_xticklabels(['Completely Random','Random on guest', 'Random on guest_priority'],rotation = 45,ha='right')\n",
    "left, right = plt.xlim()\n",
    "ax1.l1 = plt.hlines(b.business_volume, xmin=left, xmax=right, colors='red',linestyles='dashed')\n",
    "#l2 = plt.hlines(c.business_volume, xmin=left, xmax=right, colors='black',linestyles='dashed')\n",
    "ax1.l3 = plt.hlines(d.business_volume, xmin=left, xmax=right, colors='green',linestyles='solid')\n",
    "ax1.legend([ax1.l1, ax1.l3],['Booking order', 'Hotel availability'],handleheight = 1, fontsize = 10,\n",
    "         bbox_to_anchor=(1.05, 1),loc='upper left', borderaxespad=0.0)\n",
    "ax1.set_title('Business Volume - Boxplots',fontsize=20,y=1.05)\n",
    "\n",
    "bv_average_values = {'Completely random':sum(bv)/len(bv), \n",
    "                     'Random on guest':sum(bv1)/len(bv1),\n",
    "                     'Random on guest_priority':sum(bv2)/len(bv2),\n",
    "                    'Booking order':b.business_volume,'Hotel price':c.business_volume,\n",
    "                    'Hotel availability': d.business_volume}\n",
    "\n",
    "strategy = list(bv_average_values.keys())\n",
    "values = list(bv_average_values.values())\n",
    "\n",
    "ax2.bar(strategy, values, color ='linen',ec = 'black',\n",
    "        width = 0.4)\n",
    "ax2.set_xticklabels(strategy,rotation=45,ha='right')\n",
    "ax2.set_ylabel('Business volume [€]')\n",
    "#ax2.set_ylim(630000,650000)\n",
    "ax2.set_title('Business Volume - Average',fontsize=20,y=1.05)\n",
    "\n",
    "\n",
    "\n",
    "plt.show()\n",
    "fig.savefig('pics/Business_volume.png',bbox_inches='tight') "
   ]
  },
  {
   "cell_type": "markdown",
   "id": "9de3fd3f",
   "metadata": {},
   "source": [
    "### 2.7.1) Business volume (effect of assign_all)"
   ]
  },
  {
   "cell_type": "code",
   "execution_count": null,
   "id": "a60fa9bd",
   "metadata": {
    "tags": []
   },
   "outputs": [],
   "source": [
    "fig, (ax2,ax1) = plt.subplots(1,2,figsize=(17,5))\n",
    "ax1.boxplot([bv,bv1,bv2])\n",
    "ax1.set_ylabel('Business volume [€]')\n",
    "ax1.set_xticks([1,2,3])\n",
    "ax1.set_xticklabels(['Completely Random','Random on guest', 'Random on guest_priority'],rotation = 45,ha='right')\n",
    "left, right = plt.xlim()\n",
    "ax1.l1 = plt.hlines(b.business_volume, xmin=left, xmax=right, colors='red',linestyles='dashed')\n",
    "#l2 = plt.hlines(c.business_volume, xmin=left, xmax=right, colors='black',linestyles='dashed')\n",
    "ax1.l3 = plt.hlines(d.business_volume, xmin=left, xmax=right, colors='green',linestyles='solid')\n",
    "ax1.legend([ax1.l1,ax1.l3],['Booking order', 'Hotel availability'],handleheight = 1, fontsize = 10,\n",
    "         bbox_to_anchor=(1.05, 1),loc='upper left', borderaxespad=0.0,edgecolor = 'black')\n",
    "ax1.set_title('Business Volume - Boxplots',fontsize=20,y=1.05)\n",
    "\n",
    "bv_average_values = {'Completely random':sum(bv)/len(bv), \n",
    "                     'Random on guest':sum(bv1)/len(bv1),\n",
    "                     'Random on guest_priority':sum(bv2)/len(bv2),\n",
    "                    'Booking order':b.business_volume,'Hotel price':c.business_volume,\n",
    "                    'Hotel availability': d.business_volume}\n",
    "\n",
    "bv_aa_average_values = {'Completely random':sum(bv_aa)/len(bv_aa), \n",
    "                     'Random on guest':sum(bv1_aa)/len(bv1_aa),\n",
    "                     'Random on guest_priority':sum(bv2_aa)/len(bv2_aa),\n",
    "                    'Booking order':b_aa.business_volume,'Hotel price':c_aa.business_volume,\n",
    "                    'Hotel availability': d_aa.business_volume}\n",
    "\n",
    "strategy = list(bv_average_values.keys())\n",
    "values = list(bv_average_values.values())\n",
    "values_aa = list(bv_aa_average_values.values())\n",
    "\n",
    "ax2.bar(strategy, values, color ='salmon',ec = 'black',\n",
    "       width = 0.4)\n",
    "ax2.bar(strategy, values_aa, color ='linen',ec = 'black',\n",
    "        width = 0.2)\n",
    "ax2.set_xticklabels(strategy,rotation=45,ha='right')\n",
    "ax2.set_ylabel('Business volume [€]')\n",
    "#ax2.set_ylim(636000,642000)\n",
    "ax2.set_title('Business Volume - Average',fontsize=20,y=1.05)\n",
    "colors = {'No Assign_all':'salmon', 'Assign_all':'linen'}         \n",
    "labels = list(colors.keys())\n",
    "handles = [plt.Rectangle((0,0),1,1, color=colors[label]) for label in labels]\n",
    "ax2.legend(handles, labels, loc='lower left',handleheight = 1, fontsize = 10,\n",
    "         bbox_to_anchor=(0.75, 0.05), borderaxespad=0.0,edgecolor = 'black', facecolor = 'white',framealpha=1)\n",
    "\n",
    "\n",
    "\n",
    "plt.show()\n",
    "fig.savefig('pics/Business_volume_assign_all.png',bbox_inches='tight') "
   ]
  },
  {
   "cell_type": "markdown",
   "id": "01652805-2561-4fa0-af21-b88b8c3b0d7a",
   "metadata": {},
   "source": [
    "## 2.8) Detailed hotel booking distribution for different strategies "
   ]
  },
  {
   "cell_type": "markdown",
   "id": "90050ece",
   "metadata": {},
   "source": [
    "### Association by booking order"
   ]
  },
  {
   "cell_type": "code",
   "execution_count": null,
   "id": "11fb71d2",
   "metadata": {
    "tags": []
   },
   "outputs": [],
   "source": [
    "fig, (ax2,ax1) = plt.subplots(1,2,figsize=(17,5)) #ax1,ax2 refer to your two pies\n",
    "x = np.arange(0,1.1,0.1)\n",
    "y,z,_ = ax1.hist(b.partially_vacant_hotels,bins = x,rwidth=0.8,align='mid', color='linen',ec = 'black')\n",
    "ax1.xaxis.set_major_formatter(mtick.PercentFormatter(1.0))\n",
    "ax1.xaxis.set_ticks(x)\n",
    "ax1.set_ylim([0,max(y)+1])\n",
    "plt.text(0, max(y)*0.95, 'Partially occupied hotels = %s'%(b.number_not_full_empty_hotel), size=12, rotation=0.,ha=\"left\", va=\"top\", bbox=dict(boxstyle=\"round\",\n",
    "                   ec=\"black\", fc=\"white\"))\n",
    "plt.text(1.1, max(y)*1.05, 'Fully booked hotels = %s'%(b.number_fully_book_hotels), size=15, rotation=0.,ha=\"left\", va=\"top\", bbox=dict(boxstyle=\"round\",\n",
    "                   ec=\"black\", fc=\"limegreen\"))\n",
    "plt.text(1.1, max(y)*0.9, 'Empty hotels = %s'%(b.number_empty_hotels), size=15, rotation=0.,ha=\"left\", va=\"top\", bbox=dict(boxstyle=\"round\",\n",
    "                   ec=\"black\", fc=\"tomato\"))\n",
    "plt.title('Booking ratio of partially occupied hotels',fontsize=15,y=1.05)\n",
    "ax1.set_ylabel('Frequency',fontsize=12)\n",
    "ax1.set_xlabel('Booking ratio[%]',fontsize=12)\n",
    "\n",
    "labels = 'Fully booked hotels', 'Empty hotels', 'Partially occupied hotels'\n",
    "sizes = [b.number_fully_book_hotels, b.number_empty_hotels, len(b.partially_vacant_hotels)]\n",
    "explode = (0, 0, 0.1)  # only \"explode\" the 3rd slice.\n",
    "ax2.pie(sizes, explode=explode, labels=labels, autopct='%1.1f%%',\n",
    "        shadow=True, startangle=90, textprops={'fontsize': 12})\n",
    "ax2.axis('equal')  # Equal aspect ratio ensures that pie is drawn as a circle.\n",
    "\n",
    "plt.show()\n",
    "fig.savefig('pics/Booking_ratio_booking_order.png',bbox_inches='tight') \n"
   ]
  },
  {
   "cell_type": "markdown",
   "id": "06545f56",
   "metadata": {},
   "source": [
    "### Association by hotel price"
   ]
  },
  {
   "cell_type": "code",
   "execution_count": null,
   "id": "a8d785e9",
   "metadata": {
    "scrolled": true,
    "tags": []
   },
   "outputs": [],
   "source": [
    "fig, (ax2,ax1) = plt.subplots(1,2,figsize=(17,5)) #ax1,ax2 refer to your two pies\n",
    "x = np.arange(0,1.1,0.1)\n",
    "y,z,_ = ax1.hist(c.partially_vacant_hotels,bins = x,rwidth=0.8,align='mid', color='linen',ec = 'black')\n",
    "ax1.xaxis.set_major_formatter(mtick.PercentFormatter(1.0))\n",
    "ax1.xaxis.set_ticks(x)\n",
    "ax1.set_ylim([0,max(y)+1])\n",
    "plt.text(0.95, max(y)*0.95, 'Partially occupied hotels = %s'%(c.number_not_full_empty_hotel), size=12, rotation=0.,ha=\"right\", va=\"top\", bbox=dict(boxstyle=\"round\",\n",
    "                   ec=\"black\", fc=\"white\"))\n",
    "plt.text(1.1, max(y)*1.05, 'Fully booked hotels = %s'%(c.number_fully_book_hotels), size=15, rotation=0.,ha=\"left\", va=\"top\", bbox=dict(boxstyle=\"round\",\n",
    "                   ec=\"black\", fc=\"limegreen\"))\n",
    "plt.text(1.1, max(y)*0.9, 'Empty hotels = %s'%(c.number_empty_hotels), size=15, rotation=0.,ha=\"left\", va=\"top\", bbox=dict(boxstyle=\"round\",\n",
    "                   ec=\"black\", fc=\"tomato\"))\n",
    "plt.title('Booking ratio of partially occupied hotels',fontsize=15,y=1.05)\n",
    "ax1.set_ylabel('Frequency',fontsize=12)\n",
    "ax1.set_xlabel('Booking ratio[%]',fontsize=12)\n",
    "\n",
    "labels = 'Fully booked hotels', 'Empty hotels', 'Partially occupied hotels'\n",
    "sizes = [c.number_fully_book_hotels, c.number_empty_hotels,len(c.partially_vacant_hotels)]\n",
    "explode = (0, 0, 0.1)  # only \"explode\" the 3rd slice.\n",
    "ax2.pie(sizes, explode=explode, labels=labels, autopct='%1.1f%%',\n",
    "        shadow=True, startangle=90, textprops={'fontsize': 12})\n",
    "ax2.axis('equal')  # Equal aspect ratio ensures that pie is drawn as a circle.\n",
    "\n",
    "plt.show()\n",
    "fig.savefig('pics/Booking_ratio_hotel_price.png',bbox_inches='tight') "
   ]
  },
  {
   "cell_type": "markdown",
   "id": "c8dbdf36",
   "metadata": {},
   "source": [
    "### Association by hotel rooms availabilty"
   ]
  },
  {
   "cell_type": "code",
   "execution_count": null,
   "id": "86186165",
   "metadata": {
    "scrolled": true,
    "tags": []
   },
   "outputs": [],
   "source": [
    "fig, (ax2,ax1) = plt.subplots(1,2,figsize=(17,5)) #ax1,ax2 refer to your two pies\n",
    "x = np.arange(0,1.1,0.1)\n",
    "y,z,_ = ax1.hist(d.partially_vacant_hotels,bins = x,rwidth=1,align='mid', color='linen',ec = 'black')\n",
    "ax1.xaxis.set_major_formatter(mtick.PercentFormatter(1.0))\n",
    "ax1.xaxis.set_ticks(x)\n",
    "ax1.set_ylim([0,max(y)+1])\n",
    "plt.text(0.95, max(y)*0.95, 'Partially occupied hotels = %s'%(d.number_not_full_empty_hotel), size=12, rotation=0.,ha=\"right\", va=\"top\", bbox=dict(boxstyle=\"round\",\n",
    "                   ec=\"black\", fc=\"white\"))\n",
    "plt.text(1.1, max(y)*1.05, 'Fully booked hotels = %s'%(d.number_fully_book_hotels), size=15, rotation=0.,ha=\"left\", va=\"top\", bbox=dict(boxstyle=\"round\",\n",
    "                   ec=\"black\", fc=\"limegreen\"))\n",
    "plt.text(1.1, max(y)*0.9, 'Empty hotels = %s'%(d.number_empty_hotels), size=15, rotation=0.,ha=\"left\", va=\"top\", bbox=dict(boxstyle=\"round\",\n",
    "                   ec=\"black\", fc=\"tomato\"))\n",
    "plt.title('Booking ratio of partially occupied hotels',fontsize=15,y=1.05)\n",
    "ax1.set_ylabel('Frequency',fontsize=12)\n",
    "ax1.set_xlabel('Booking ratio[%]',fontsize=12)\n",
    "\n",
    "labels = 'Fully booked hotels', 'Empty hotels', 'Partially occupied hotels'\n",
    "sizes = [d.number_fully_book_hotels, d.number_empty_hotels, len(d.partially_vacant_hotels)]\n",
    "explode = (0, 0, 0.1)  # only \"explode\" the 3rd slice.\n",
    "ax2.pie(sizes, explode=explode, labels=labels, autopct='%1.1f%%',\n",
    "        shadow=True, startangle=90, textprops={'fontsize': 12})\n",
    "ax2.axis('equal')  # Equal aspect ratio ensures that pie is drawn as a circle.\n",
    "\n",
    "plt.show()\n",
    "fig.savefig('pics/Booking_ratio_hotel_availabilty.png',bbox_inches='tight') "
   ]
  },
  {
   "cell_type": "code",
   "execution_count": null,
   "id": "82bf8c7c",
   "metadata": {},
   "outputs": [],
   "source": []
  }
 ],
 "metadata": {
  "kernelspec": {
   "display_name": "Python 3",
   "language": "python",
   "name": "python3"
  },
  "language_info": {
   "codemirror_mode": {
    "name": "ipython",
    "version": 3
   },
   "file_extension": ".py",
   "mimetype": "text/x-python",
   "name": "python",
   "nbconvert_exporter": "python",
   "pygments_lexer": "ipython3",
   "version": "3.8.8"
  },
  "toc-showcode": true,
  "varInspector": {
   "cols": {
    "lenName": 16,
    "lenType": 16,
    "lenVar": 40
   },
   "kernels_config": {
    "python": {
     "delete_cmd_postfix": "",
     "delete_cmd_prefix": "del ",
     "library": "var_list.py",
     "varRefreshCmd": "print(var_dic_list())"
    },
    "r": {
     "delete_cmd_postfix": ") ",
     "delete_cmd_prefix": "rm(",
     "library": "var_list.r",
     "varRefreshCmd": "cat(var_dic_list()) "
    }
   },
   "types_to_exclude": [
    "module",
    "function",
    "builtin_function_or_method",
    "instance",
    "_Feature"
   ],
   "window_display": false
  }
 },
 "nbformat": 4,
 "nbformat_minor": 5
}
