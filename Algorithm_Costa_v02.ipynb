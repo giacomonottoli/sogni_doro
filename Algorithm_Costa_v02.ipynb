{
 "cells": [
  {
   "cell_type": "markdown",
   "id": "00ad1dd3",
   "metadata": {},
   "source": [
    "## 1. Import relevant libraries"
   ]
  },
  {
   "cell_type": "code",
   "execution_count": 146,
   "id": "b7bc94a3",
   "metadata": {},
   "outputs": [],
   "source": [
    "import pandas as pd\n",
    "import numpy as np\n",
    "import os\n",
    "import random"
   ]
  },
  {
   "cell_type": "markdown",
   "id": "384b2324",
   "metadata": {},
   "source": [
    "## 2. Open csv files"
   ]
  },
  {
   "cell_type": "code",
   "execution_count": 147,
   "id": "012b3732",
   "metadata": {},
   "outputs": [],
   "source": [
    "df_guest = pd.read_csv(\"guests.csv\")\n",
    "df_hotel = pd.read_csv(\"hotels.csv\")\n",
    "df_pref = pd.read_csv(\"preferences.csv\")"
   ]
  },
  {
   "cell_type": "code",
   "execution_count": 148,
   "id": "56676eff",
   "metadata": {},
   "outputs": [
    {
     "data": {
      "text/html": [
       "<div>\n",
       "<style scoped>\n",
       "    .dataframe tbody tr th:only-of-type {\n",
       "        vertical-align: middle;\n",
       "    }\n",
       "\n",
       "    .dataframe tbody tr th {\n",
       "        vertical-align: top;\n",
       "    }\n",
       "\n",
       "    .dataframe thead th {\n",
       "        text-align: right;\n",
       "    }\n",
       "</style>\n",
       "<table border=\"1\" class=\"dataframe\">\n",
       "  <thead>\n",
       "    <tr style=\"text-align: right;\">\n",
       "      <th></th>\n",
       "      <th>guest</th>\n",
       "      <th>hotel</th>\n",
       "      <th>priority</th>\n",
       "    </tr>\n",
       "  </thead>\n",
       "  <tbody>\n",
       "    <tr>\n",
       "      <th>0</th>\n",
       "      <td>guest_1</td>\n",
       "      <td>hotel_168</td>\n",
       "      <td>1</td>\n",
       "    </tr>\n",
       "    <tr>\n",
       "      <th>1</th>\n",
       "      <td>guest_1</td>\n",
       "      <td>hotel_207</td>\n",
       "      <td>2</td>\n",
       "    </tr>\n",
       "    <tr>\n",
       "      <th>2</th>\n",
       "      <td>guest_1</td>\n",
       "      <td>hotel_222</td>\n",
       "      <td>3</td>\n",
       "    </tr>\n",
       "    <tr>\n",
       "      <th>3</th>\n",
       "      <td>guest_1</td>\n",
       "      <td>hotel_124</td>\n",
       "      <td>4</td>\n",
       "    </tr>\n",
       "    <tr>\n",
       "      <th>4</th>\n",
       "      <td>guest_1</td>\n",
       "      <td>hotel_223</td>\n",
       "      <td>5</td>\n",
       "    </tr>\n",
       "  </tbody>\n",
       "</table>\n",
       "</div>"
      ],
      "text/plain": [
       "     guest      hotel  priority\n",
       "0  guest_1  hotel_168         1\n",
       "1  guest_1  hotel_207         2\n",
       "2  guest_1  hotel_222         3\n",
       "3  guest_1  hotel_124         4\n",
       "4  guest_1  hotel_223         5"
      ]
     },
     "execution_count": 148,
     "metadata": {},
     "output_type": "execute_result"
    }
   ],
   "source": [
    "df_pref.head()"
   ]
  },
  {
   "cell_type": "code",
   "execution_count": 149,
   "id": "3db3b75c",
   "metadata": {},
   "outputs": [
    {
     "data": {
      "text/html": [
       "<div>\n",
       "<style scoped>\n",
       "    .dataframe tbody tr th:only-of-type {\n",
       "        vertical-align: middle;\n",
       "    }\n",
       "\n",
       "    .dataframe tbody tr th {\n",
       "        vertical-align: top;\n",
       "    }\n",
       "\n",
       "    .dataframe thead th {\n",
       "        text-align: right;\n",
       "    }\n",
       "</style>\n",
       "<table border=\"1\" class=\"dataframe\">\n",
       "  <thead>\n",
       "    <tr style=\"text-align: right;\">\n",
       "      <th></th>\n",
       "      <th>guest</th>\n",
       "      <th>discount</th>\n",
       "    </tr>\n",
       "  </thead>\n",
       "  <tbody>\n",
       "    <tr>\n",
       "      <th>0</th>\n",
       "      <td>guest_1</td>\n",
       "      <td>0.09</td>\n",
       "    </tr>\n",
       "    <tr>\n",
       "      <th>1</th>\n",
       "      <td>guest_2</td>\n",
       "      <td>0.00</td>\n",
       "    </tr>\n",
       "    <tr>\n",
       "      <th>2</th>\n",
       "      <td>guest_3</td>\n",
       "      <td>0.07</td>\n",
       "    </tr>\n",
       "    <tr>\n",
       "      <th>3</th>\n",
       "      <td>guest_4</td>\n",
       "      <td>0.00</td>\n",
       "    </tr>\n",
       "    <tr>\n",
       "      <th>4</th>\n",
       "      <td>guest_5</td>\n",
       "      <td>0.10</td>\n",
       "    </tr>\n",
       "  </tbody>\n",
       "</table>\n",
       "</div>"
      ],
      "text/plain": [
       "     guest  discount\n",
       "0  guest_1      0.09\n",
       "1  guest_2      0.00\n",
       "2  guest_3      0.07\n",
       "3  guest_4      0.00\n",
       "4  guest_5      0.10"
      ]
     },
     "execution_count": 149,
     "metadata": {},
     "output_type": "execute_result"
    }
   ],
   "source": [
    "df_guest.head()"
   ]
  },
  {
   "cell_type": "code",
   "execution_count": 150,
   "id": "e8bf3402",
   "metadata": {},
   "outputs": [
    {
     "data": {
      "text/html": [
       "<div>\n",
       "<style scoped>\n",
       "    .dataframe tbody tr th:only-of-type {\n",
       "        vertical-align: middle;\n",
       "    }\n",
       "\n",
       "    .dataframe tbody tr th {\n",
       "        vertical-align: top;\n",
       "    }\n",
       "\n",
       "    .dataframe thead th {\n",
       "        text-align: right;\n",
       "    }\n",
       "</style>\n",
       "<table border=\"1\" class=\"dataframe\">\n",
       "  <thead>\n",
       "    <tr style=\"text-align: right;\">\n",
       "      <th></th>\n",
       "      <th>hotel</th>\n",
       "      <th>rooms</th>\n",
       "      <th>price</th>\n",
       "    </tr>\n",
       "  </thead>\n",
       "  <tbody>\n",
       "    <tr>\n",
       "      <th>0</th>\n",
       "      <td>hotel_1</td>\n",
       "      <td>13</td>\n",
       "      <td>273</td>\n",
       "    </tr>\n",
       "    <tr>\n",
       "      <th>1</th>\n",
       "      <td>hotel_2</td>\n",
       "      <td>18</td>\n",
       "      <td>92</td>\n",
       "    </tr>\n",
       "    <tr>\n",
       "      <th>2</th>\n",
       "      <td>hotel_3</td>\n",
       "      <td>12</td>\n",
       "      <td>141</td>\n",
       "    </tr>\n",
       "    <tr>\n",
       "      <th>3</th>\n",
       "      <td>hotel_4</td>\n",
       "      <td>18</td>\n",
       "      <td>157</td>\n",
       "    </tr>\n",
       "    <tr>\n",
       "      <th>4</th>\n",
       "      <td>hotel_5</td>\n",
       "      <td>7</td>\n",
       "      <td>298</td>\n",
       "    </tr>\n",
       "    <tr>\n",
       "      <th>...</th>\n",
       "      <td>...</td>\n",
       "      <td>...</td>\n",
       "      <td>...</td>\n",
       "    </tr>\n",
       "    <tr>\n",
       "      <th>395</th>\n",
       "      <td>hotel_396</td>\n",
       "      <td>5</td>\n",
       "      <td>212</td>\n",
       "    </tr>\n",
       "    <tr>\n",
       "      <th>396</th>\n",
       "      <td>hotel_397</td>\n",
       "      <td>12</td>\n",
       "      <td>68</td>\n",
       "    </tr>\n",
       "    <tr>\n",
       "      <th>397</th>\n",
       "      <td>hotel_398</td>\n",
       "      <td>14</td>\n",
       "      <td>102</td>\n",
       "    </tr>\n",
       "    <tr>\n",
       "      <th>398</th>\n",
       "      <td>hotel_399</td>\n",
       "      <td>16</td>\n",
       "      <td>284</td>\n",
       "    </tr>\n",
       "    <tr>\n",
       "      <th>399</th>\n",
       "      <td>hotel_400</td>\n",
       "      <td>14</td>\n",
       "      <td>145</td>\n",
       "    </tr>\n",
       "  </tbody>\n",
       "</table>\n",
       "<p>400 rows × 3 columns</p>\n",
       "</div>"
      ],
      "text/plain": [
       "         hotel  rooms  price\n",
       "0      hotel_1     13    273\n",
       "1      hotel_2     18     92\n",
       "2      hotel_3     12    141\n",
       "3      hotel_4     18    157\n",
       "4      hotel_5      7    298\n",
       "..         ...    ...    ...\n",
       "395  hotel_396      5    212\n",
       "396  hotel_397     12     68\n",
       "397  hotel_398     14    102\n",
       "398  hotel_399     16    284\n",
       "399  hotel_400     14    145\n",
       "\n",
       "[400 rows x 3 columns]"
      ]
     },
     "execution_count": 150,
     "metadata": {},
     "output_type": "execute_result"
    }
   ],
   "source": [
    "df_hotel"
   ]
  },
  {
   "cell_type": "markdown",
   "id": "c9ff62a9",
   "metadata": {},
   "source": [
    "#### Reset hotel and guest index \n",
    "\n"
   ]
  },
  {
   "cell_type": "code",
   "execution_count": 151,
   "id": "6bbff47a",
   "metadata": {},
   "outputs": [],
   "source": [
    "df_pref['guest_index'] = df_pref.guest.str.split(\"_\").apply(lambda x: int(x[1])-1)\n",
    "df_pref['hotel_index'] = df_pref.hotel.str.split(\"_\").apply(lambda x: int(x[1])-1)"
   ]
  },
  {
   "cell_type": "code",
   "execution_count": 152,
   "id": "87454c99",
   "metadata": {},
   "outputs": [],
   "source": [
    "df_hotel['hotel_index'] = df_hotel.hotel.str.split(\"_\").apply(lambda x: int(x[1])-1)"
   ]
  },
  {
   "cell_type": "markdown",
   "id": "c18bce50",
   "metadata": {},
   "source": [
    "1. Definire un ordinamento di assegnazione basato sulla randomizzazione degli utenti e delle loro preferenze\n",
    "2. Allocazione guest - hotel. Per ogni guest e fintantoché ho hotel da assegnare:\n",
    "    - sorteggiare un hotel nelle preferenze\n",
    "    - se la disponibilità delle camere dell'hotel è > 0 assegnare guest all'hotel\n",
    "    - altrimenti ripetere 2\n",
    "    - se non ci sono più hotel per un dato guest. Il guest non va in vacanza! "
   ]
  },
  {
   "cell_type": "markdown",
   "id": "37741143",
   "metadata": {},
   "source": [
    "## 3. Initializations"
   ]
  },
  {
   "cell_type": "markdown",
   "id": "12c1a2a0",
   "metadata": {},
   "source": [
    "#### Define a dictionary where the keys are the guests and the values are the lists of hotels chosen by each guest.  "
   ]
  },
  {
   "cell_type": "markdown",
   "id": "97197b23",
   "metadata": {},
   "source": [
    "{\"guest_x\": \n",
    "    \n",
    "    \\[\"hotel_c\", \"hotel_a\", ..., \"hotel_s\"\\],\n",
    "    \n",
    "    ...}\n",
    "    \n",
    "Dove  \\[\"hotel_c\", \"hotel_a\", ..., \"hotel_s\"\\] è una lista di alberghi ordinata per preferenza"
   ]
  },
  {
   "cell_type": "code",
   "execution_count": 153,
   "id": "1277a23d",
   "metadata": {},
   "outputs": [],
   "source": [
    "pref_by_guest = df_pref.groupby(\"guest_index\").agg({\"hotel_index\":list}).to_dict()[\"hotel_index\"]"
   ]
  },
  {
   "cell_type": "markdown",
   "id": "740f2610",
   "metadata": {},
   "source": [
    "#### Initialization matrix of preferences"
   ]
  },
  {
   "cell_type": "code",
   "execution_count": 154,
   "id": "d8c5ee89",
   "metadata": {},
   "outputs": [],
   "source": [
    "pref_matrix = np.zeros((len(df_guest), len(df_hotel)))"
   ]
  },
  {
   "cell_type": "markdown",
   "id": "e582c82a",
   "metadata": {},
   "source": [
    "#### Creating hotel matrix"
   ]
  },
  {
   "cell_type": "code",
   "execution_count": 155,
   "id": "7ac24679",
   "metadata": {
    "scrolled": false
   },
   "outputs": [],
   "source": [
    "hotel_matrix = df_hotel.drop(columns=['hotel']).set_index(\"hotel_index\").values"
   ]
  },
  {
   "cell_type": "markdown",
   "id": "199a9dbf",
   "metadata": {},
   "source": [
    "#### Adding third column in hotel_matrix to keep track of booked rooms"
   ]
  },
  {
   "cell_type": "code",
   "execution_count": 156,
   "id": "334e1452",
   "metadata": {},
   "outputs": [
    {
     "data": {
      "text/plain": [
       "array([[ 13., 273.,   0.],\n",
       "       [ 18.,  92.,   0.],\n",
       "       [ 12., 141.,   0.],\n",
       "       ...,\n",
       "       [ 14., 102.,   0.],\n",
       "       [ 16., 284.,   0.],\n",
       "       [ 14., 145.,   0.]])"
      ]
     },
     "execution_count": 156,
     "metadata": {},
     "output_type": "execute_result"
    }
   ],
   "source": [
    "hotel_matrix = np.c_[hotel_matrix, np.zeros(len(df_hotel))]\n",
    "hotel_matrix"
   ]
  },
  {
   "cell_type": "markdown",
   "id": "bb304369",
   "metadata": {},
   "source": [
    "## 4. Guest distribution algorithms"
   ]
  },
  {
   "cell_type": "markdown",
   "id": "fce93b40",
   "metadata": {},
   "source": [
    "### 4.1 Casual distribution"
   ]
  },
  {
   "cell_type": "markdown",
   "id": "df6dfd62",
   "metadata": {},
   "source": [
    "- Shuffle randomly the list of guests and the lists of hotels related to each guest. "
   ]
  },
  {
   "cell_type": "code",
   "execution_count": 157,
   "id": "3f89066d",
   "metadata": {
    "scrolled": true
   },
   "outputs": [],
   "source": [
    "initial_guest_list = random.sample(list(pref_by_guest.keys()), len(list(pref_by_guest.keys())))\n",
    "\n",
    "pref_by_guest_random = {guest: random.sample(pref_by_guest[guest], len(pref_by_guest[guest])) for guest in initial_guest_list}\n"
   ]
  },
  {
   "cell_type": "code",
   "execution_count": 158,
   "id": "4670ed0b",
   "metadata": {
    "scrolled": true
   },
   "outputs": [],
   "source": [
    "# for guest in initial_guest_list:\n",
    "#     hotel_list_per_guest = pref_by_guest_random[guest]  # lista contenente le preferenze del guest i-esimo\n",
    "#     for hotel in hotel_list_per_guest:\n",
    "#          # Verifica se c'è posto\n",
    "#          # if pref_matrix[:,hotel].sum() < hotel_matrix[hotel, 0]: #Soluzione più lenta\n",
    "#         if hotel_matrix[hotel, 2] < hotel_matrix[hotel, 0]:\n",
    "#             pref_matrix[guest, hotel] = 1\n",
    "#             hotel_matrix[hotel, 2] += 1\n",
    "#             break"
   ]
  },
  {
   "cell_type": "markdown",
   "id": "20826dbe",
   "metadata": {},
   "source": [
    "### 4.2 Distribution by booking order and priorities declared by the guests"
   ]
  },
  {
   "cell_type": "markdown",
   "id": "42de0f5e",
   "metadata": {},
   "source": [
    "- The distribution of the guests in the hotels follows the booking order (guest list shall be sorted numerically) and the indicated priorities (priority order shall be the one declared in preferences.csv).  "
   ]
  },
  {
   "cell_type": "code",
   "execution_count": 159,
   "id": "5770a789",
   "metadata": {},
   "outputs": [],
   "source": [
    "initial_guest_list = sorted(list(pref_by_guest.keys()))\n",
    "\n",
    "pref_by_guest_random = pref_by_guest"
   ]
  },
  {
   "cell_type": "code",
   "execution_count": 160,
   "id": "aef4a497",
   "metadata": {},
   "outputs": [],
   "source": [
    "# for guest in initial_guest_list:\n",
    "#     hotel_list_per_guest = pref_by_guest_random[guest]  # lista contenente le preferenze del guest i-esimo\n",
    "#     for hotel in hotel_list_per_guest:\n",
    "#      # Verifica se c'è posto\n",
    "#          # if pref_matrix[:,hotel].sum() < hotel_matrix[hotel, 0]: #Soluzione più lenta\n",
    "#         if hotel_matrix[hotel, 2] < hotel_matrix[hotel, 0]:\n",
    "#             pref_matrix[guest, hotel] = 1\n",
    "#             hotel_matrix[hotel, 2] += 1\n",
    "#             break"
   ]
  },
  {
   "cell_type": "markdown",
   "id": "2aa13ddf",
   "metadata": {},
   "source": [
    "### 4.3 Distribution by room price"
   ]
  },
  {
   "cell_type": "markdown",
   "id": "85f2692a",
   "metadata": {},
   "source": [
    "- The distribution will start from the cheapest hotel to the most expensive one."
   ]
  },
  {
   "cell_type": "code",
   "execution_count": 161,
   "id": "e4668b16",
   "metadata": {},
   "outputs": [],
   "source": [
    "initial_guest_list = sorted(list(pref_by_guest.keys()))\n",
    "pref_by_guest_random = pref_by_guest"
   ]
  },
  {
   "cell_type": "code",
   "execution_count": 162,
   "id": "a1c96535",
   "metadata": {
    "scrolled": false
   },
   "outputs": [],
   "source": [
    "hotel_price = df_hotel.sort_values('price').drop(columns = ['hotel']).values\n",
    "hotel_price_list = list(hotel_price[:,2])"
   ]
  },
  {
   "cell_type": "code",
   "execution_count": 163,
   "id": "2c4381b4",
   "metadata": {},
   "outputs": [
    {
     "data": {
      "text/plain": [
       "array([[ 10,  50, 189],\n",
       "       [ 19,  50,  48],\n",
       "       [ 12,  52, 353],\n",
       "       ...,\n",
       "       [ 13, 298, 167],\n",
       "       [  9, 299, 229],\n",
       "       [ 10, 299,  26]], dtype=int64)"
      ]
     },
     "execution_count": 163,
     "metadata": {},
     "output_type": "execute_result"
    }
   ],
   "source": [
    "hotel_price"
   ]
  },
  {
   "cell_type": "code",
   "execution_count": 164,
   "id": "1ac574b1",
   "metadata": {},
   "outputs": [],
   "source": [
    "from timeit import default_timer as timer\n",
    "\n",
    "start= timer()"
   ]
  },
  {
   "cell_type": "code",
   "execution_count": 165,
   "id": "d362ff7c",
   "metadata": {
    "scrolled": true
   },
   "outputs": [],
   "source": [
    "# for hotel_ch in hotel_price_list:\n",
    "#     for guest in initial_guest_list:\n",
    "#         if hotel_matrix[hotel_ch, 2] == hotel_matrix[hotel_ch, 0]:\n",
    "#             break\n",
    "#         else:\n",
    "#             if pref_matrix[guest,:].sum() == 0:\n",
    "#                 hotel_list_per_guest = pref_by_guest_random[guest]  # lista contenente le preferenze del guest i-esimo\n",
    "#                 for hotel in hotel_list_per_guest:\n",
    "#                     if hotel == hotel_ch:\n",
    "#                         pref_matrix[guest, hotel_ch] = 1\n",
    "#                         hotel_matrix[hotel_ch, 2] += 1\n",
    "#                         break"
   ]
  },
  {
   "cell_type": "code",
   "execution_count": 166,
   "id": "44c30772",
   "metadata": {},
   "outputs": [
    {
     "name": "stdout",
     "output_type": "stream",
     "text": [
      "Time taken: 0.032124700002896134\n"
     ]
    }
   ],
   "source": [
    "end = timer()\n",
    "\n",
    "print(\"Time taken:\", end-start)"
   ]
  },
  {
   "cell_type": "markdown",
   "id": "ac7e7724",
   "metadata": {},
   "source": [
    "### 4.4 Distribution by room availability"
   ]
  },
  {
   "cell_type": "markdown",
   "id": "3c821ef4",
   "metadata": {},
   "source": [
    "- The distribution will start from the largest hotel to the smallest one (big/small in terms of room availability). "
   ]
  },
  {
   "cell_type": "code",
   "execution_count": 167,
   "id": "e205211c",
   "metadata": {},
   "outputs": [],
   "source": [
    "initial_guest_list = sorted(list(pref_by_guest.keys()))\n",
    "pref_by_guest_random = pref_by_guest"
   ]
  },
  {
   "cell_type": "code",
   "execution_count": 168,
   "id": "30eca6b4",
   "metadata": {},
   "outputs": [],
   "source": [
    "hotel_avail = df_hotel.sort_values('rooms', ascending=False).drop(columns = ['hotel']).values\n",
    "hotel_avail_list = list(hotel_avail[:,2])"
   ]
  },
  {
   "cell_type": "code",
   "execution_count": 169,
   "id": "91c3bedd",
   "metadata": {},
   "outputs": [],
   "source": [
    "for hotel_ch in hotel_avail_list:\n",
    "    for guest in initial_guest_list:\n",
    "        if hotel_matrix[hotel_ch, 2] == hotel_matrix[hotel_ch, 0]:\n",
    "            break\n",
    "        else:\n",
    "            if pref_matrix[guest,:].sum() == 0:\n",
    "                hotel_list_per_guest = pref_by_guest_random[guest]  # lista contenente le preferenze del guest i-esimo\n",
    "                for hotel in hotel_list_per_guest:\n",
    "                    if hotel == hotel_ch:\n",
    "                        pref_matrix[guest, hotel_ch] = 1\n",
    "                        hotel_matrix[hotel_ch, 2] += 1\n",
    "                        break"
   ]
  },
  {
   "cell_type": "code",
   "execution_count": 170,
   "id": "d83b4980",
   "metadata": {},
   "outputs": [
    {
     "data": {
      "text/plain": [
       "array([[0., 0., 0., ..., 0., 0., 0.],\n",
       "       [0., 0., 0., ..., 0., 0., 0.],\n",
       "       [0., 0., 0., ..., 0., 0., 0.],\n",
       "       ...,\n",
       "       [0., 0., 0., ..., 0., 0., 0.],\n",
       "       [0., 0., 0., ..., 0., 0., 0.],\n",
       "       [0., 0., 0., ..., 0., 0., 0.]])"
      ]
     },
     "execution_count": 170,
     "metadata": {},
     "output_type": "execute_result"
    }
   ],
   "source": [
    "pref_matrix"
   ]
  },
  {
   "cell_type": "code",
   "execution_count": 171,
   "id": "5c852b8d",
   "metadata": {},
   "outputs": [
    {
     "data": {
      "text/plain": [
       "array([[ 13., 273.,  13.],\n",
       "       [ 18.,  92.,  18.],\n",
       "       [ 12., 141.,  12.],\n",
       "       ...,\n",
       "       [ 14., 102.,  14.],\n",
       "       [ 16., 284.,  16.],\n",
       "       [ 14., 145.,  14.]])"
      ]
     },
     "execution_count": 171,
     "metadata": {},
     "output_type": "execute_result"
    }
   ],
   "source": [
    "hotel_matrix"
   ]
  },
  {
   "cell_type": "code",
   "execution_count": 172,
   "id": "76626cb6",
   "metadata": {
    "scrolled": true
   },
   "outputs": [
    {
     "data": {
      "text/html": [
       "<div>\n",
       "<style scoped>\n",
       "    .dataframe tbody tr th:only-of-type {\n",
       "        vertical-align: middle;\n",
       "    }\n",
       "\n",
       "    .dataframe tbody tr th {\n",
       "        vertical-align: top;\n",
       "    }\n",
       "\n",
       "    .dataframe thead th {\n",
       "        text-align: right;\n",
       "    }\n",
       "</style>\n",
       "<table border=\"1\" class=\"dataframe\">\n",
       "  <thead>\n",
       "    <tr style=\"text-align: right;\">\n",
       "      <th></th>\n",
       "      <th>0</th>\n",
       "      <th>1</th>\n",
       "      <th>2</th>\n",
       "    </tr>\n",
       "  </thead>\n",
       "  <tbody>\n",
       "    <tr>\n",
       "      <th>398</th>\n",
       "      <td>16.0</td>\n",
       "      <td>284.0</td>\n",
       "      <td>16.0</td>\n",
       "    </tr>\n",
       "    <tr>\n",
       "      <th>230</th>\n",
       "      <td>9.0</td>\n",
       "      <td>285.0</td>\n",
       "      <td>9.0</td>\n",
       "    </tr>\n",
       "    <tr>\n",
       "      <th>92</th>\n",
       "      <td>11.0</td>\n",
       "      <td>285.0</td>\n",
       "      <td>11.0</td>\n",
       "    </tr>\n",
       "    <tr>\n",
       "      <th>163</th>\n",
       "      <td>5.0</td>\n",
       "      <td>286.0</td>\n",
       "      <td>0.0</td>\n",
       "    </tr>\n",
       "    <tr>\n",
       "      <th>311</th>\n",
       "      <td>15.0</td>\n",
       "      <td>286.0</td>\n",
       "      <td>15.0</td>\n",
       "    </tr>\n",
       "    <tr>\n",
       "      <th>387</th>\n",
       "      <td>17.0</td>\n",
       "      <td>286.0</td>\n",
       "      <td>17.0</td>\n",
       "    </tr>\n",
       "    <tr>\n",
       "      <th>17</th>\n",
       "      <td>8.0</td>\n",
       "      <td>287.0</td>\n",
       "      <td>8.0</td>\n",
       "    </tr>\n",
       "    <tr>\n",
       "      <th>201</th>\n",
       "      <td>10.0</td>\n",
       "      <td>288.0</td>\n",
       "      <td>10.0</td>\n",
       "    </tr>\n",
       "    <tr>\n",
       "      <th>96</th>\n",
       "      <td>16.0</td>\n",
       "      <td>288.0</td>\n",
       "      <td>16.0</td>\n",
       "    </tr>\n",
       "    <tr>\n",
       "      <th>138</th>\n",
       "      <td>8.0</td>\n",
       "      <td>289.0</td>\n",
       "      <td>2.0</td>\n",
       "    </tr>\n",
       "    <tr>\n",
       "      <th>323</th>\n",
       "      <td>5.0</td>\n",
       "      <td>289.0</td>\n",
       "      <td>1.0</td>\n",
       "    </tr>\n",
       "    <tr>\n",
       "      <th>62</th>\n",
       "      <td>16.0</td>\n",
       "      <td>290.0</td>\n",
       "      <td>16.0</td>\n",
       "    </tr>\n",
       "    <tr>\n",
       "      <th>244</th>\n",
       "      <td>17.0</td>\n",
       "      <td>290.0</td>\n",
       "      <td>17.0</td>\n",
       "    </tr>\n",
       "    <tr>\n",
       "      <th>379</th>\n",
       "      <td>17.0</td>\n",
       "      <td>290.0</td>\n",
       "      <td>17.0</td>\n",
       "    </tr>\n",
       "    <tr>\n",
       "      <th>393</th>\n",
       "      <td>19.0</td>\n",
       "      <td>291.0</td>\n",
       "      <td>19.0</td>\n",
       "    </tr>\n",
       "    <tr>\n",
       "      <th>222</th>\n",
       "      <td>17.0</td>\n",
       "      <td>291.0</td>\n",
       "      <td>17.0</td>\n",
       "    </tr>\n",
       "    <tr>\n",
       "      <th>216</th>\n",
       "      <td>13.0</td>\n",
       "      <td>292.0</td>\n",
       "      <td>13.0</td>\n",
       "    </tr>\n",
       "    <tr>\n",
       "      <th>84</th>\n",
       "      <td>5.0</td>\n",
       "      <td>293.0</td>\n",
       "      <td>0.0</td>\n",
       "    </tr>\n",
       "    <tr>\n",
       "      <th>301</th>\n",
       "      <td>5.0</td>\n",
       "      <td>293.0</td>\n",
       "      <td>1.0</td>\n",
       "    </tr>\n",
       "    <tr>\n",
       "      <th>94</th>\n",
       "      <td>5.0</td>\n",
       "      <td>293.0</td>\n",
       "      <td>0.0</td>\n",
       "    </tr>\n",
       "    <tr>\n",
       "      <th>288</th>\n",
       "      <td>5.0</td>\n",
       "      <td>295.0</td>\n",
       "      <td>1.0</td>\n",
       "    </tr>\n",
       "    <tr>\n",
       "      <th>175</th>\n",
       "      <td>12.0</td>\n",
       "      <td>297.0</td>\n",
       "      <td>12.0</td>\n",
       "    </tr>\n",
       "    <tr>\n",
       "      <th>105</th>\n",
       "      <td>11.0</td>\n",
       "      <td>297.0</td>\n",
       "      <td>11.0</td>\n",
       "    </tr>\n",
       "    <tr>\n",
       "      <th>340</th>\n",
       "      <td>12.0</td>\n",
       "      <td>298.0</td>\n",
       "      <td>12.0</td>\n",
       "    </tr>\n",
       "    <tr>\n",
       "      <th>249</th>\n",
       "      <td>14.0</td>\n",
       "      <td>298.0</td>\n",
       "      <td>14.0</td>\n",
       "    </tr>\n",
       "    <tr>\n",
       "      <th>183</th>\n",
       "      <td>8.0</td>\n",
       "      <td>298.0</td>\n",
       "      <td>3.0</td>\n",
       "    </tr>\n",
       "    <tr>\n",
       "      <th>4</th>\n",
       "      <td>7.0</td>\n",
       "      <td>298.0</td>\n",
       "      <td>0.0</td>\n",
       "    </tr>\n",
       "    <tr>\n",
       "      <th>167</th>\n",
       "      <td>13.0</td>\n",
       "      <td>298.0</td>\n",
       "      <td>13.0</td>\n",
       "    </tr>\n",
       "    <tr>\n",
       "      <th>229</th>\n",
       "      <td>9.0</td>\n",
       "      <td>299.0</td>\n",
       "      <td>3.0</td>\n",
       "    </tr>\n",
       "    <tr>\n",
       "      <th>26</th>\n",
       "      <td>10.0</td>\n",
       "      <td>299.0</td>\n",
       "      <td>10.0</td>\n",
       "    </tr>\n",
       "  </tbody>\n",
       "</table>\n",
       "</div>"
      ],
      "text/plain": [
       "        0      1     2\n",
       "398  16.0  284.0  16.0\n",
       "230   9.0  285.0   9.0\n",
       "92   11.0  285.0  11.0\n",
       "163   5.0  286.0   0.0\n",
       "311  15.0  286.0  15.0\n",
       "387  17.0  286.0  17.0\n",
       "17    8.0  287.0   8.0\n",
       "201  10.0  288.0  10.0\n",
       "96   16.0  288.0  16.0\n",
       "138   8.0  289.0   2.0\n",
       "323   5.0  289.0   1.0\n",
       "62   16.0  290.0  16.0\n",
       "244  17.0  290.0  17.0\n",
       "379  17.0  290.0  17.0\n",
       "393  19.0  291.0  19.0\n",
       "222  17.0  291.0  17.0\n",
       "216  13.0  292.0  13.0\n",
       "84    5.0  293.0   0.0\n",
       "301   5.0  293.0   1.0\n",
       "94    5.0  293.0   0.0\n",
       "288   5.0  295.0   1.0\n",
       "175  12.0  297.0  12.0\n",
       "105  11.0  297.0  11.0\n",
       "340  12.0  298.0  12.0\n",
       "249  14.0  298.0  14.0\n",
       "183   8.0  298.0   3.0\n",
       "4     7.0  298.0   0.0\n",
       "167  13.0  298.0  13.0\n",
       "229   9.0  299.0   3.0\n",
       "26   10.0  299.0  10.0"
      ]
     },
     "execution_count": 172,
     "metadata": {},
     "output_type": "execute_result"
    }
   ],
   "source": [
    "hotel_dataframe1 = pd.DataFrame(hotel_matrix).sort_values(1)\n",
    "hotel_dataframe1.tail(30)"
   ]
  },
  {
   "cell_type": "code",
   "execution_count": 173,
   "id": "c72928fc",
   "metadata": {
    "scrolled": true
   },
   "outputs": [
    {
     "data": {
      "text/plain": [
       "0     4617.0\n",
       "1    71058.0\n",
       "2     3954.0\n",
       "dtype: float64"
      ]
     },
     "execution_count": 173,
     "metadata": {},
     "output_type": "execute_result"
    }
   ],
   "source": [
    "x = hotel_dataframe1.sum(0)\n",
    "x"
   ]
  },
  {
   "cell_type": "code",
   "execution_count": 174,
   "id": "b68c8385",
   "metadata": {
    "scrolled": true
   },
   "outputs": [
    {
     "data": {
      "text/html": [
       "<div>\n",
       "<style scoped>\n",
       "    .dataframe tbody tr th:only-of-type {\n",
       "        vertical-align: middle;\n",
       "    }\n",
       "\n",
       "    .dataframe tbody tr th {\n",
       "        vertical-align: top;\n",
       "    }\n",
       "\n",
       "    .dataframe thead th {\n",
       "        text-align: right;\n",
       "    }\n",
       "</style>\n",
       "<table border=\"1\" class=\"dataframe\">\n",
       "  <thead>\n",
       "    <tr style=\"text-align: right;\">\n",
       "      <th></th>\n",
       "      <th>0</th>\n",
       "      <th>1</th>\n",
       "      <th>2</th>\n",
       "      <th>3</th>\n",
       "      <th>4</th>\n",
       "      <th>5</th>\n",
       "      <th>6</th>\n",
       "      <th>7</th>\n",
       "      <th>8</th>\n",
       "      <th>9</th>\n",
       "      <th>...</th>\n",
       "      <th>390</th>\n",
       "      <th>391</th>\n",
       "      <th>392</th>\n",
       "      <th>393</th>\n",
       "      <th>394</th>\n",
       "      <th>395</th>\n",
       "      <th>396</th>\n",
       "      <th>397</th>\n",
       "      <th>398</th>\n",
       "      <th>399</th>\n",
       "    </tr>\n",
       "  </thead>\n",
       "  <tbody>\n",
       "    <tr>\n",
       "      <th>728</th>\n",
       "      <td>0.0</td>\n",
       "      <td>0.0</td>\n",
       "      <td>0.0</td>\n",
       "      <td>0.0</td>\n",
       "      <td>0.0</td>\n",
       "      <td>0.0</td>\n",
       "      <td>0.0</td>\n",
       "      <td>0.0</td>\n",
       "      <td>0.0</td>\n",
       "      <td>0.0</td>\n",
       "      <td>...</td>\n",
       "      <td>0.0</td>\n",
       "      <td>0.0</td>\n",
       "      <td>0.0</td>\n",
       "      <td>0.0</td>\n",
       "      <td>0.0</td>\n",
       "      <td>0.0</td>\n",
       "      <td>0.0</td>\n",
       "      <td>0.0</td>\n",
       "      <td>0.0</td>\n",
       "      <td>0.0</td>\n",
       "    </tr>\n",
       "    <tr>\n",
       "      <th>773</th>\n",
       "      <td>0.0</td>\n",
       "      <td>0.0</td>\n",
       "      <td>0.0</td>\n",
       "      <td>0.0</td>\n",
       "      <td>0.0</td>\n",
       "      <td>0.0</td>\n",
       "      <td>0.0</td>\n",
       "      <td>0.0</td>\n",
       "      <td>0.0</td>\n",
       "      <td>0.0</td>\n",
       "      <td>...</td>\n",
       "      <td>0.0</td>\n",
       "      <td>0.0</td>\n",
       "      <td>0.0</td>\n",
       "      <td>0.0</td>\n",
       "      <td>0.0</td>\n",
       "      <td>0.0</td>\n",
       "      <td>0.0</td>\n",
       "      <td>0.0</td>\n",
       "      <td>0.0</td>\n",
       "      <td>0.0</td>\n",
       "    </tr>\n",
       "    <tr>\n",
       "      <th>1703</th>\n",
       "      <td>0.0</td>\n",
       "      <td>0.0</td>\n",
       "      <td>0.0</td>\n",
       "      <td>0.0</td>\n",
       "      <td>0.0</td>\n",
       "      <td>0.0</td>\n",
       "      <td>0.0</td>\n",
       "      <td>0.0</td>\n",
       "      <td>0.0</td>\n",
       "      <td>0.0</td>\n",
       "      <td>...</td>\n",
       "      <td>0.0</td>\n",
       "      <td>0.0</td>\n",
       "      <td>0.0</td>\n",
       "      <td>0.0</td>\n",
       "      <td>0.0</td>\n",
       "      <td>0.0</td>\n",
       "      <td>0.0</td>\n",
       "      <td>0.0</td>\n",
       "      <td>0.0</td>\n",
       "      <td>0.0</td>\n",
       "    </tr>\n",
       "    <tr>\n",
       "      <th>1882</th>\n",
       "      <td>0.0</td>\n",
       "      <td>0.0</td>\n",
       "      <td>0.0</td>\n",
       "      <td>0.0</td>\n",
       "      <td>0.0</td>\n",
       "      <td>0.0</td>\n",
       "      <td>0.0</td>\n",
       "      <td>0.0</td>\n",
       "      <td>0.0</td>\n",
       "      <td>0.0</td>\n",
       "      <td>...</td>\n",
       "      <td>0.0</td>\n",
       "      <td>0.0</td>\n",
       "      <td>0.0</td>\n",
       "      <td>0.0</td>\n",
       "      <td>0.0</td>\n",
       "      <td>0.0</td>\n",
       "      <td>0.0</td>\n",
       "      <td>0.0</td>\n",
       "      <td>0.0</td>\n",
       "      <td>0.0</td>\n",
       "    </tr>\n",
       "    <tr>\n",
       "      <th>1936</th>\n",
       "      <td>0.0</td>\n",
       "      <td>0.0</td>\n",
       "      <td>0.0</td>\n",
       "      <td>0.0</td>\n",
       "      <td>0.0</td>\n",
       "      <td>0.0</td>\n",
       "      <td>0.0</td>\n",
       "      <td>0.0</td>\n",
       "      <td>0.0</td>\n",
       "      <td>0.0</td>\n",
       "      <td>...</td>\n",
       "      <td>0.0</td>\n",
       "      <td>0.0</td>\n",
       "      <td>0.0</td>\n",
       "      <td>0.0</td>\n",
       "      <td>0.0</td>\n",
       "      <td>0.0</td>\n",
       "      <td>0.0</td>\n",
       "      <td>0.0</td>\n",
       "      <td>0.0</td>\n",
       "      <td>0.0</td>\n",
       "    </tr>\n",
       "    <tr>\n",
       "      <th>...</th>\n",
       "      <td>...</td>\n",
       "      <td>...</td>\n",
       "      <td>...</td>\n",
       "      <td>...</td>\n",
       "      <td>...</td>\n",
       "      <td>...</td>\n",
       "      <td>...</td>\n",
       "      <td>...</td>\n",
       "      <td>...</td>\n",
       "      <td>...</td>\n",
       "      <td>...</td>\n",
       "      <td>...</td>\n",
       "      <td>...</td>\n",
       "      <td>...</td>\n",
       "      <td>...</td>\n",
       "      <td>...</td>\n",
       "      <td>...</td>\n",
       "      <td>...</td>\n",
       "      <td>...</td>\n",
       "      <td>...</td>\n",
       "      <td>...</td>\n",
       "    </tr>\n",
       "    <tr>\n",
       "      <th>3935</th>\n",
       "      <td>0.0</td>\n",
       "      <td>0.0</td>\n",
       "      <td>0.0</td>\n",
       "      <td>0.0</td>\n",
       "      <td>0.0</td>\n",
       "      <td>0.0</td>\n",
       "      <td>0.0</td>\n",
       "      <td>0.0</td>\n",
       "      <td>0.0</td>\n",
       "      <td>0.0</td>\n",
       "      <td>...</td>\n",
       "      <td>0.0</td>\n",
       "      <td>0.0</td>\n",
       "      <td>0.0</td>\n",
       "      <td>0.0</td>\n",
       "      <td>0.0</td>\n",
       "      <td>0.0</td>\n",
       "      <td>0.0</td>\n",
       "      <td>0.0</td>\n",
       "      <td>0.0</td>\n",
       "      <td>0.0</td>\n",
       "    </tr>\n",
       "    <tr>\n",
       "      <th>3952</th>\n",
       "      <td>0.0</td>\n",
       "      <td>0.0</td>\n",
       "      <td>0.0</td>\n",
       "      <td>0.0</td>\n",
       "      <td>0.0</td>\n",
       "      <td>0.0</td>\n",
       "      <td>0.0</td>\n",
       "      <td>0.0</td>\n",
       "      <td>0.0</td>\n",
       "      <td>0.0</td>\n",
       "      <td>...</td>\n",
       "      <td>0.0</td>\n",
       "      <td>0.0</td>\n",
       "      <td>0.0</td>\n",
       "      <td>0.0</td>\n",
       "      <td>0.0</td>\n",
       "      <td>0.0</td>\n",
       "      <td>0.0</td>\n",
       "      <td>0.0</td>\n",
       "      <td>0.0</td>\n",
       "      <td>0.0</td>\n",
       "    </tr>\n",
       "    <tr>\n",
       "      <th>3957</th>\n",
       "      <td>0.0</td>\n",
       "      <td>0.0</td>\n",
       "      <td>0.0</td>\n",
       "      <td>0.0</td>\n",
       "      <td>0.0</td>\n",
       "      <td>0.0</td>\n",
       "      <td>0.0</td>\n",
       "      <td>0.0</td>\n",
       "      <td>0.0</td>\n",
       "      <td>0.0</td>\n",
       "      <td>...</td>\n",
       "      <td>0.0</td>\n",
       "      <td>0.0</td>\n",
       "      <td>0.0</td>\n",
       "      <td>0.0</td>\n",
       "      <td>0.0</td>\n",
       "      <td>0.0</td>\n",
       "      <td>0.0</td>\n",
       "      <td>0.0</td>\n",
       "      <td>0.0</td>\n",
       "      <td>0.0</td>\n",
       "    </tr>\n",
       "    <tr>\n",
       "      <th>3969</th>\n",
       "      <td>0.0</td>\n",
       "      <td>0.0</td>\n",
       "      <td>0.0</td>\n",
       "      <td>0.0</td>\n",
       "      <td>0.0</td>\n",
       "      <td>0.0</td>\n",
       "      <td>0.0</td>\n",
       "      <td>0.0</td>\n",
       "      <td>0.0</td>\n",
       "      <td>0.0</td>\n",
       "      <td>...</td>\n",
       "      <td>0.0</td>\n",
       "      <td>0.0</td>\n",
       "      <td>0.0</td>\n",
       "      <td>0.0</td>\n",
       "      <td>0.0</td>\n",
       "      <td>0.0</td>\n",
       "      <td>0.0</td>\n",
       "      <td>0.0</td>\n",
       "      <td>0.0</td>\n",
       "      <td>0.0</td>\n",
       "    </tr>\n",
       "    <tr>\n",
       "      <th>3992</th>\n",
       "      <td>0.0</td>\n",
       "      <td>0.0</td>\n",
       "      <td>0.0</td>\n",
       "      <td>0.0</td>\n",
       "      <td>0.0</td>\n",
       "      <td>0.0</td>\n",
       "      <td>0.0</td>\n",
       "      <td>0.0</td>\n",
       "      <td>0.0</td>\n",
       "      <td>0.0</td>\n",
       "      <td>...</td>\n",
       "      <td>0.0</td>\n",
       "      <td>0.0</td>\n",
       "      <td>0.0</td>\n",
       "      <td>0.0</td>\n",
       "      <td>0.0</td>\n",
       "      <td>0.0</td>\n",
       "      <td>0.0</td>\n",
       "      <td>0.0</td>\n",
       "      <td>0.0</td>\n",
       "      <td>0.0</td>\n",
       "    </tr>\n",
       "  </tbody>\n",
       "</table>\n",
       "<p>75 rows × 400 columns</p>\n",
       "</div>"
      ],
      "text/plain": [
       "      0    1    2    3    4    5    6    7    8    9    ...  390  391  392  \\\n",
       "728   0.0  0.0  0.0  0.0  0.0  0.0  0.0  0.0  0.0  0.0  ...  0.0  0.0  0.0   \n",
       "773   0.0  0.0  0.0  0.0  0.0  0.0  0.0  0.0  0.0  0.0  ...  0.0  0.0  0.0   \n",
       "1703  0.0  0.0  0.0  0.0  0.0  0.0  0.0  0.0  0.0  0.0  ...  0.0  0.0  0.0   \n",
       "1882  0.0  0.0  0.0  0.0  0.0  0.0  0.0  0.0  0.0  0.0  ...  0.0  0.0  0.0   \n",
       "1936  0.0  0.0  0.0  0.0  0.0  0.0  0.0  0.0  0.0  0.0  ...  0.0  0.0  0.0   \n",
       "...   ...  ...  ...  ...  ...  ...  ...  ...  ...  ...  ...  ...  ...  ...   \n",
       "3935  0.0  0.0  0.0  0.0  0.0  0.0  0.0  0.0  0.0  0.0  ...  0.0  0.0  0.0   \n",
       "3952  0.0  0.0  0.0  0.0  0.0  0.0  0.0  0.0  0.0  0.0  ...  0.0  0.0  0.0   \n",
       "3957  0.0  0.0  0.0  0.0  0.0  0.0  0.0  0.0  0.0  0.0  ...  0.0  0.0  0.0   \n",
       "3969  0.0  0.0  0.0  0.0  0.0  0.0  0.0  0.0  0.0  0.0  ...  0.0  0.0  0.0   \n",
       "3992  0.0  0.0  0.0  0.0  0.0  0.0  0.0  0.0  0.0  0.0  ...  0.0  0.0  0.0   \n",
       "\n",
       "      393  394  395  396  397  398  399  \n",
       "728   0.0  0.0  0.0  0.0  0.0  0.0  0.0  \n",
       "773   0.0  0.0  0.0  0.0  0.0  0.0  0.0  \n",
       "1703  0.0  0.0  0.0  0.0  0.0  0.0  0.0  \n",
       "1882  0.0  0.0  0.0  0.0  0.0  0.0  0.0  \n",
       "1936  0.0  0.0  0.0  0.0  0.0  0.0  0.0  \n",
       "...   ...  ...  ...  ...  ...  ...  ...  \n",
       "3935  0.0  0.0  0.0  0.0  0.0  0.0  0.0  \n",
       "3952  0.0  0.0  0.0  0.0  0.0  0.0  0.0  \n",
       "3957  0.0  0.0  0.0  0.0  0.0  0.0  0.0  \n",
       "3969  0.0  0.0  0.0  0.0  0.0  0.0  0.0  \n",
       "3992  0.0  0.0  0.0  0.0  0.0  0.0  0.0  \n",
       "\n",
       "[75 rows x 400 columns]"
      ]
     },
     "execution_count": 174,
     "metadata": {},
     "output_type": "execute_result"
    }
   ],
   "source": [
    "df_pref_matrix[df_pref_matrix.sum(1) == 0]"
   ]
  },
  {
   "cell_type": "code",
   "execution_count": null,
   "id": "161242ab",
   "metadata": {},
   "outputs": [],
   "source": []
  },
  {
   "cell_type": "code",
   "execution_count": null,
   "id": "1fe55691",
   "metadata": {},
   "outputs": [],
   "source": []
  }
 ],
 "metadata": {
  "kernelspec": {
   "display_name": "Python 3",
   "language": "python",
   "name": "python3"
  },
  "language_info": {
   "codemirror_mode": {
    "name": "ipython",
    "version": 3
   },
   "file_extension": ".py",
   "mimetype": "text/x-python",
   "name": "python",
   "nbconvert_exporter": "python",
   "pygments_lexer": "ipython3",
   "version": "3.8.8"
  },
  "varInspector": {
   "cols": {
    "lenName": 16,
    "lenType": 16,
    "lenVar": 40
   },
   "kernels_config": {
    "python": {
     "delete_cmd_postfix": "",
     "delete_cmd_prefix": "del ",
     "library": "var_list.py",
     "varRefreshCmd": "print(var_dic_list())"
    },
    "r": {
     "delete_cmd_postfix": ") ",
     "delete_cmd_prefix": "rm(",
     "library": "var_list.r",
     "varRefreshCmd": "cat(var_dic_list()) "
    }
   },
   "types_to_exclude": [
    "module",
    "function",
    "builtin_function_or_method",
    "instance",
    "_Feature"
   ],
   "window_display": false
  }
 },
 "nbformat": 4,
 "nbformat_minor": 5
}
