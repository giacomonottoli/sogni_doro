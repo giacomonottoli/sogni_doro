{
 "cells": [
  {
   "cell_type": "code",
   "execution_count": 1,
   "id": "834fc602",
   "metadata": {},
   "outputs": [],
   "source": [
    "import nbimporter\n",
    "import pandas as pd\n",
    "import numpy as np\n",
    "import os\n",
    "from tqdm.notebook import tqdm\n",
    "from allocation_strategy import RandomGuestAllocation, OrderGustAllocation, PriceHotelAllocation, AvailabilityHotelAllocation\n",
    "import pickle"
   ]
  },
  {
   "cell_type": "code",
   "execution_count": 2,
   "id": "be3849e9",
   "metadata": {},
   "outputs": [],
   "source": [
    "df_guests = pd.read_csv(\"guests.csv\")\n",
    "df_hotels = pd.read_csv(\"hotels.csv\")\n",
    "df_prefs = pd.read_csv(\"preferences.csv\")"
   ]
  },
  {
   "cell_type": "markdown",
   "id": "45bb4495",
   "metadata": {},
   "source": [
    "# Test Class"
   ]
  },
  {
   "cell_type": "code",
   "execution_count": 3,
   "id": "fcd0b081",
   "metadata": {},
   "outputs": [
    {
     "name": "stdout",
     "output_type": "stream",
     "text": [
      "----Random Association----\n",
      "Total business volume: 644,470.99 €\n",
      "Assigned guests: 4000\n",
      "Vacant rooms: 617\n",
      "Number of fully booked hotels: 255\n",
      "Number of completely vacant hotels: 0\n",
      "Number of neither full nor vacant hotels: 145\n",
      "Overall satisfaction is: 3.34%\n",
      "\n",
      "----Association by booking order----\n",
      "Total business volume: 643,597.53 €\n",
      "Assigned guests: 3975\n",
      "Vacant rooms: 642\n",
      "Number of fully booked hotels: 255\n",
      "Number of completely vacant hotels: 0\n",
      "Number of neither full nor vacant hotels: 145\n",
      "Overall satisfaction is: 97.49%\n",
      "\n",
      "----Association by hotel price----\n",
      "Total business volume: 564,085.08 €\n",
      "Assigned guests: 3925\n",
      "Vacant rooms: 692\n",
      "Number of fully booked hotels: 319\n",
      "Number of completely vacant hotels: 12\n",
      "Number of neither full nor vacant hotels: 69\n",
      "Overall satisfaction is: 53.8%\n",
      "\n",
      "----Association by hotel rooms availability----\n",
      "Total business volume: 630,956.8 €\n",
      "Assigned guests: 3954\n",
      "Vacant rooms: 663\n",
      "Number of fully booked hotels: 266\n",
      "Number of completely vacant hotels: 38\n",
      "Number of neither full nor vacant hotels: 96\n",
      "Overall satisfaction is: 53.33%\n"
     ]
    }
   ],
   "source": [
    "a = RandomGuestAllocation(df_guests, df_hotels, df_prefs)\n",
    "a.assign()\n",
    "print(\"----Random Association----\")\n",
    "print(a, end='\\n\\n')\n",
    "\n",
    "b = OrderGustAllocation(df_guests, df_hotels, df_prefs)\n",
    "b.assign()\n",
    "print(\"----Association by booking order----\")\n",
    "print(b, end='\\n\\n')\n",
    "\n",
    "c = PriceHotelAllocation(df_guests, df_hotels, df_prefs)\n",
    "c.assign()\n",
    "print(\"----Association by hotel price----\")\n",
    "print(c, end='\\n\\n')\n",
    "\n",
    "d = AvailabilityHotelAllocation(df_guests, df_hotels, df_prefs)\n",
    "d.assign()\n",
    "print(\"----Association by hotel rooms availability----\")\n",
    "print(d)"
   ]
  },
  {
   "cell_type": "markdown",
   "id": "0c3b9b3d",
   "metadata": {},
   "source": [
    "# Baseline (Random assignment)"
   ]
  },
  {
   "cell_type": "code",
   "execution_count": 20,
   "id": "52c9e110",
   "metadata": {},
   "outputs": [
    {
     "data": {
      "application/vnd.jupyter.widget-view+json": {
       "model_id": "13d912b5dafb40929d3b3d9e08acdaa6",
       "version_major": 2,
       "version_minor": 0
      },
      "text/plain": [
       "  0%|          | 0/1000 [00:00<?, ?it/s]"
      ]
     },
     "metadata": {},
     "output_type": "display_data"
    }
   ],
   "source": [
    "metric = list()\n",
    "for i in tqdm(range(1000)):\n",
    "    a = RandomGuestAllocation(df_guests, df_hotels, df_prefs, random_on=None)\n",
    "    a.assign()\n",
    "    metric.append(a)"
   ]
  },
  {
   "cell_type": "code",
   "execution_count": null,
   "id": "e1771d85",
   "metadata": {},
   "outputs": [],
   "source": []
  }
 ],
 "metadata": {
  "kernelspec": {
   "display_name": "Python 3 (ipykernel)",
   "language": "python",
   "name": "python3"
  },
  "language_info": {
   "codemirror_mode": {
    "name": "ipython",
    "version": 3
   },
   "file_extension": ".py",
   "mimetype": "text/x-python",
   "name": "python",
   "nbconvert_exporter": "python",
   "pygments_lexer": "ipython3",
   "version": "3.9.7"
  }
 },
 "nbformat": 4,
 "nbformat_minor": 5
}
