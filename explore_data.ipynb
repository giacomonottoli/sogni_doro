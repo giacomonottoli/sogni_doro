{
 "cells": [
  {
   "cell_type": "code",
   "execution_count": 19,
   "id": "4e8cf1fb",
   "metadata": {},
   "outputs": [],
   "source": [
    "import pandas as pd\n",
    "import numpy as np\n",
    "import os"
   ]
  },
  {
   "cell_type": "markdown",
   "id": "57012cd5",
   "metadata": {},
   "source": [
    "## File Guest"
   ]
  },
  {
   "cell_type": "code",
   "execution_count": 20,
   "id": "1e977241",
   "metadata": {},
   "outputs": [],
   "source": [
    "df_guest = pd.read_excel(\"raw_datasets/guests.xlsx\", index_col=0)"
   ]
  },
  {
   "cell_type": "code",
   "execution_count": 21,
   "id": "22c3e1f4",
   "metadata": {},
   "outputs": [
    {
     "data": {
      "text/html": [
       "<div>\n",
       "<style scoped>\n",
       "    .dataframe tbody tr th:only-of-type {\n",
       "        vertical-align: middle;\n",
       "    }\n",
       "\n",
       "    .dataframe tbody tr th {\n",
       "        vertical-align: top;\n",
       "    }\n",
       "\n",
       "    .dataframe thead th {\n",
       "        text-align: right;\n",
       "    }\n",
       "</style>\n",
       "<table border=\"1\" class=\"dataframe\">\n",
       "  <thead>\n",
       "    <tr style=\"text-align: right;\">\n",
       "      <th></th>\n",
       "      <th>guest</th>\n",
       "      <th>discount</th>\n",
       "    </tr>\n",
       "  </thead>\n",
       "  <tbody>\n",
       "    <tr>\n",
       "      <th>0</th>\n",
       "      <td>guest_1</td>\n",
       "      <td>0.09</td>\n",
       "    </tr>\n",
       "    <tr>\n",
       "      <th>1</th>\n",
       "      <td>guest_2</td>\n",
       "      <td>0.00</td>\n",
       "    </tr>\n",
       "    <tr>\n",
       "      <th>2</th>\n",
       "      <td>guest_3</td>\n",
       "      <td>0.07</td>\n",
       "    </tr>\n",
       "    <tr>\n",
       "      <th>3</th>\n",
       "      <td>guest_4</td>\n",
       "      <td>0.00</td>\n",
       "    </tr>\n",
       "    <tr>\n",
       "      <th>4</th>\n",
       "      <td>guest_5</td>\n",
       "      <td>0.10</td>\n",
       "    </tr>\n",
       "  </tbody>\n",
       "</table>\n",
       "</div>"
      ],
      "text/plain": [
       "     guest  discount\n",
       "0  guest_1      0.09\n",
       "1  guest_2      0.00\n",
       "2  guest_3      0.07\n",
       "3  guest_4      0.00\n",
       "4  guest_5      0.10"
      ]
     },
     "execution_count": 21,
     "metadata": {},
     "output_type": "execute_result"
    }
   ],
   "source": [
    "df_guest.head()"
   ]
  },
  {
   "cell_type": "code",
   "execution_count": 22,
   "id": "1c024d3c",
   "metadata": {},
   "outputs": [
    {
     "data": {
      "text/html": [
       "<div>\n",
       "<style scoped>\n",
       "    .dataframe tbody tr th:only-of-type {\n",
       "        vertical-align: middle;\n",
       "    }\n",
       "\n",
       "    .dataframe tbody tr th {\n",
       "        vertical-align: top;\n",
       "    }\n",
       "\n",
       "    .dataframe thead th {\n",
       "        text-align: right;\n",
       "    }\n",
       "</style>\n",
       "<table border=\"1\" class=\"dataframe\">\n",
       "  <thead>\n",
       "    <tr style=\"text-align: right;\">\n",
       "      <th></th>\n",
       "      <th>guest</th>\n",
       "      <th>discount</th>\n",
       "    </tr>\n",
       "  </thead>\n",
       "  <tbody>\n",
       "    <tr>\n",
       "      <th>3995</th>\n",
       "      <td>guest_3996</td>\n",
       "      <td>0.00</td>\n",
       "    </tr>\n",
       "    <tr>\n",
       "      <th>3996</th>\n",
       "      <td>guest_3997</td>\n",
       "      <td>0.15</td>\n",
       "    </tr>\n",
       "    <tr>\n",
       "      <th>3997</th>\n",
       "      <td>guest_3998</td>\n",
       "      <td>0.07</td>\n",
       "    </tr>\n",
       "    <tr>\n",
       "      <th>3998</th>\n",
       "      <td>guest_3999</td>\n",
       "      <td>0.08</td>\n",
       "    </tr>\n",
       "    <tr>\n",
       "      <th>3999</th>\n",
       "      <td>guest_4000</td>\n",
       "      <td>0.07</td>\n",
       "    </tr>\n",
       "  </tbody>\n",
       "</table>\n",
       "</div>"
      ],
      "text/plain": [
       "           guest  discount\n",
       "3995  guest_3996      0.00\n",
       "3996  guest_3997      0.15\n",
       "3997  guest_3998      0.07\n",
       "3998  guest_3999      0.08\n",
       "3999  guest_4000      0.07"
      ]
     },
     "execution_count": 22,
     "metadata": {},
     "output_type": "execute_result"
    }
   ],
   "source": [
    "df_guest.tail()"
   ]
  },
  {
   "cell_type": "code",
   "execution_count": 23,
   "id": "d815288f",
   "metadata": {},
   "outputs": [
    {
     "data": {
      "text/plain": [
       "False"
      ]
     },
     "execution_count": 23,
     "metadata": {},
     "output_type": "execute_result"
    }
   ],
   "source": [
    "# Guest duplicati\n",
    "df_guest.guest.duplicated().any()"
   ]
  },
  {
   "cell_type": "code",
   "execution_count": 24,
   "id": "057e6b38",
   "metadata": {},
   "outputs": [
    {
     "data": {
      "text/plain": [
       "(0.0, 0.19)"
      ]
     },
     "execution_count": 24,
     "metadata": {},
     "output_type": "execute_result"
    }
   ],
   "source": [
    "# Range discount\n",
    "df_guest.discount.min(), df_guest.discount.max()"
   ]
  },
  {
   "cell_type": "code",
   "execution_count": 25,
   "id": "652c03d2",
   "metadata": {},
   "outputs": [
    {
     "data": {
      "text/plain": [
       "guest       False\n",
       "discount    False\n",
       "dtype: bool"
      ]
     },
     "execution_count": 25,
     "metadata": {},
     "output_type": "execute_result"
    }
   ],
   "source": [
    "# Check nan\n",
    "df_guest.isna().any()"
   ]
  },
  {
   "cell_type": "code",
   "execution_count": 26,
   "id": "9bd05936",
   "metadata": {},
   "outputs": [
    {
     "name": "stdout",
     "output_type": "stream",
     "text": [
      "<class 'pandas.core.frame.DataFrame'>\n",
      "Int64Index: 4000 entries, 0 to 3999\n",
      "Data columns (total 2 columns):\n",
      " #   Column    Non-Null Count  Dtype  \n",
      "---  ------    --------------  -----  \n",
      " 0   guest     4000 non-null   object \n",
      " 1   discount  4000 non-null   float64\n",
      "dtypes: float64(1), object(1)\n",
      "memory usage: 93.8+ KB\n"
     ]
    }
   ],
   "source": [
    "# Check Type\n",
    "df_guest.info()"
   ]
  },
  {
   "cell_type": "markdown",
   "id": "243820cb",
   "metadata": {},
   "source": [
    "## File Hotels"
   ]
  },
  {
   "cell_type": "code",
   "execution_count": 27,
   "id": "8d97a888",
   "metadata": {},
   "outputs": [],
   "source": [
    "df_hotel = pd.read_excel('raw_datasets/hotels.xlsx', index_col=0)"
   ]
  },
  {
   "cell_type": "code",
   "execution_count": 28,
   "id": "073bd275",
   "metadata": {},
   "outputs": [
    {
     "data": {
      "text/html": [
       "<div>\n",
       "<style scoped>\n",
       "    .dataframe tbody tr th:only-of-type {\n",
       "        vertical-align: middle;\n",
       "    }\n",
       "\n",
       "    .dataframe tbody tr th {\n",
       "        vertical-align: top;\n",
       "    }\n",
       "\n",
       "    .dataframe thead th {\n",
       "        text-align: right;\n",
       "    }\n",
       "</style>\n",
       "<table border=\"1\" class=\"dataframe\">\n",
       "  <thead>\n",
       "    <tr style=\"text-align: right;\">\n",
       "      <th></th>\n",
       "      <th>hotel</th>\n",
       "      <th>rooms</th>\n",
       "      <th>price</th>\n",
       "    </tr>\n",
       "  </thead>\n",
       "  <tbody>\n",
       "    <tr>\n",
       "      <th>0</th>\n",
       "      <td>hotel_1</td>\n",
       "      <td>13</td>\n",
       "      <td>273</td>\n",
       "    </tr>\n",
       "    <tr>\n",
       "      <th>1</th>\n",
       "      <td>hotel_2</td>\n",
       "      <td>18</td>\n",
       "      <td>92</td>\n",
       "    </tr>\n",
       "    <tr>\n",
       "      <th>2</th>\n",
       "      <td>hotel_3</td>\n",
       "      <td>12</td>\n",
       "      <td>141</td>\n",
       "    </tr>\n",
       "    <tr>\n",
       "      <th>3</th>\n",
       "      <td>hotel_4</td>\n",
       "      <td>18</td>\n",
       "      <td>157</td>\n",
       "    </tr>\n",
       "    <tr>\n",
       "      <th>4</th>\n",
       "      <td>hotel_5</td>\n",
       "      <td>7</td>\n",
       "      <td>298</td>\n",
       "    </tr>\n",
       "  </tbody>\n",
       "</table>\n",
       "</div>"
      ],
      "text/plain": [
       "     hotel  rooms  price\n",
       "0  hotel_1     13    273\n",
       "1  hotel_2     18     92\n",
       "2  hotel_3     12    141\n",
       "3  hotel_4     18    157\n",
       "4  hotel_5      7    298"
      ]
     },
     "execution_count": 28,
     "metadata": {},
     "output_type": "execute_result"
    }
   ],
   "source": [
    "df_hotel.head()"
   ]
  },
  {
   "cell_type": "code",
   "execution_count": 29,
   "id": "fb9f08c7",
   "metadata": {},
   "outputs": [
    {
     "data": {
      "text/html": [
       "<div>\n",
       "<style scoped>\n",
       "    .dataframe tbody tr th:only-of-type {\n",
       "        vertical-align: middle;\n",
       "    }\n",
       "\n",
       "    .dataframe tbody tr th {\n",
       "        vertical-align: top;\n",
       "    }\n",
       "\n",
       "    .dataframe thead th {\n",
       "        text-align: right;\n",
       "    }\n",
       "</style>\n",
       "<table border=\"1\" class=\"dataframe\">\n",
       "  <thead>\n",
       "    <tr style=\"text-align: right;\">\n",
       "      <th></th>\n",
       "      <th>hotel</th>\n",
       "      <th>rooms</th>\n",
       "      <th>price</th>\n",
       "    </tr>\n",
       "  </thead>\n",
       "  <tbody>\n",
       "    <tr>\n",
       "      <th>395</th>\n",
       "      <td>hotel_396</td>\n",
       "      <td>5</td>\n",
       "      <td>212</td>\n",
       "    </tr>\n",
       "    <tr>\n",
       "      <th>396</th>\n",
       "      <td>hotel_397</td>\n",
       "      <td>12</td>\n",
       "      <td>68</td>\n",
       "    </tr>\n",
       "    <tr>\n",
       "      <th>397</th>\n",
       "      <td>hotel_398</td>\n",
       "      <td>14</td>\n",
       "      <td>102</td>\n",
       "    </tr>\n",
       "    <tr>\n",
       "      <th>398</th>\n",
       "      <td>hotel_399</td>\n",
       "      <td>16</td>\n",
       "      <td>284</td>\n",
       "    </tr>\n",
       "    <tr>\n",
       "      <th>399</th>\n",
       "      <td>hotel_400</td>\n",
       "      <td>14</td>\n",
       "      <td>145</td>\n",
       "    </tr>\n",
       "  </tbody>\n",
       "</table>\n",
       "</div>"
      ],
      "text/plain": [
       "         hotel  rooms  price\n",
       "395  hotel_396      5    212\n",
       "396  hotel_397     12     68\n",
       "397  hotel_398     14    102\n",
       "398  hotel_399     16    284\n",
       "399  hotel_400     14    145"
      ]
     },
     "execution_count": 29,
     "metadata": {},
     "output_type": "execute_result"
    }
   ],
   "source": [
    "df_hotel.tail()"
   ]
  },
  {
   "cell_type": "code",
   "execution_count": 30,
   "id": "d8f42385",
   "metadata": {},
   "outputs": [
    {
     "data": {
      "text/plain": [
       "False"
      ]
     },
     "execution_count": 30,
     "metadata": {},
     "output_type": "execute_result"
    }
   ],
   "source": [
    "# Guest duplicati\n",
    "df_hotel.hotel.duplicated().any()"
   ]
  },
  {
   "cell_type": "code",
   "execution_count": 31,
   "id": "493d281f",
   "metadata": {},
   "outputs": [
    {
     "data": {
      "text/plain": [
       "(5, 19)"
      ]
     },
     "execution_count": 31,
     "metadata": {},
     "output_type": "execute_result"
    }
   ],
   "source": [
    "# Range rooms\n",
    "df_hotel.rooms.min(), df_hotel.rooms.max()"
   ]
  },
  {
   "cell_type": "code",
   "execution_count": 32,
   "id": "dea712b4",
   "metadata": {},
   "outputs": [
    {
     "data": {
      "text/plain": [
       "(50, 299)"
      ]
     },
     "execution_count": 32,
     "metadata": {},
     "output_type": "execute_result"
    }
   ],
   "source": [
    "# Range price\n",
    "df_hotel.price.min(), df_hotel.price.max()"
   ]
  },
  {
   "cell_type": "code",
   "execution_count": 33,
   "id": "e5d99705",
   "metadata": {},
   "outputs": [
    {
     "data": {
      "text/plain": [
       "hotel    False\n",
       "rooms    False\n",
       "price    False\n",
       "dtype: bool"
      ]
     },
     "execution_count": 33,
     "metadata": {},
     "output_type": "execute_result"
    }
   ],
   "source": [
    "# Check nan\n",
    "df_hotel.isna().any()"
   ]
  },
  {
   "cell_type": "code",
   "execution_count": 34,
   "id": "d3f41d0d",
   "metadata": {},
   "outputs": [
    {
     "name": "stdout",
     "output_type": "stream",
     "text": [
      "<class 'pandas.core.frame.DataFrame'>\n",
      "Int64Index: 400 entries, 0 to 399\n",
      "Data columns (total 3 columns):\n",
      " #   Column  Non-Null Count  Dtype \n",
      "---  ------  --------------  ----- \n",
      " 0   hotel   400 non-null    object\n",
      " 1   rooms   400 non-null    int64 \n",
      " 2   price   400 non-null    int64 \n",
      "dtypes: int64(2), object(1)\n",
      "memory usage: 12.5+ KB\n"
     ]
    }
   ],
   "source": [
    "# Check Type\n",
    "df_hotel.info()"
   ]
  },
  {
   "cell_type": "markdown",
   "id": "beb21555",
   "metadata": {},
   "source": [
    "## Preferences"
   ]
  },
  {
   "cell_type": "code",
   "execution_count": 35,
   "id": "c32ca284",
   "metadata": {},
   "outputs": [],
   "source": [
    "df_pref = pd.read_excel(\"raw_datasets/preferences.xlsx\", index_col=0)"
   ]
  },
  {
   "cell_type": "code",
   "execution_count": 36,
   "id": "04390038",
   "metadata": {},
   "outputs": [
    {
     "data": {
      "text/html": [
       "<div>\n",
       "<style scoped>\n",
       "    .dataframe tbody tr th:only-of-type {\n",
       "        vertical-align: middle;\n",
       "    }\n",
       "\n",
       "    .dataframe tbody tr th {\n",
       "        vertical-align: top;\n",
       "    }\n",
       "\n",
       "    .dataframe thead th {\n",
       "        text-align: right;\n",
       "    }\n",
       "</style>\n",
       "<table border=\"1\" class=\"dataframe\">\n",
       "  <thead>\n",
       "    <tr style=\"text-align: right;\">\n",
       "      <th></th>\n",
       "      <th>guest</th>\n",
       "      <th>hotel</th>\n",
       "      <th>priority</th>\n",
       "    </tr>\n",
       "  </thead>\n",
       "  <tbody>\n",
       "    <tr>\n",
       "      <th>0</th>\n",
       "      <td>guest_1</td>\n",
       "      <td>hotel_168</td>\n",
       "      <td>1</td>\n",
       "    </tr>\n",
       "    <tr>\n",
       "      <th>1</th>\n",
       "      <td>guest_1</td>\n",
       "      <td>hotel_207</td>\n",
       "      <td>2</td>\n",
       "    </tr>\n",
       "    <tr>\n",
       "      <th>2</th>\n",
       "      <td>guest_1</td>\n",
       "      <td>hotel_222</td>\n",
       "      <td>3</td>\n",
       "    </tr>\n",
       "    <tr>\n",
       "      <th>3</th>\n",
       "      <td>guest_1</td>\n",
       "      <td>hotel_124</td>\n",
       "      <td>4</td>\n",
       "    </tr>\n",
       "    <tr>\n",
       "      <th>4</th>\n",
       "      <td>guest_1</td>\n",
       "      <td>hotel_223</td>\n",
       "      <td>5</td>\n",
       "    </tr>\n",
       "  </tbody>\n",
       "</table>\n",
       "</div>"
      ],
      "text/plain": [
       "     guest      hotel  priority\n",
       "0  guest_1  hotel_168         1\n",
       "1  guest_1  hotel_207         2\n",
       "2  guest_1  hotel_222         3\n",
       "3  guest_1  hotel_124         4\n",
       "4  guest_1  hotel_223         5"
      ]
     },
     "execution_count": 36,
     "metadata": {},
     "output_type": "execute_result"
    }
   ],
   "source": [
    "df_pref.head()"
   ]
  },
  {
   "cell_type": "code",
   "execution_count": 37,
   "id": "e378c9ff",
   "metadata": {},
   "outputs": [
    {
     "data": {
      "text/html": [
       "<div>\n",
       "<style scoped>\n",
       "    .dataframe tbody tr th:only-of-type {\n",
       "        vertical-align: middle;\n",
       "    }\n",
       "\n",
       "    .dataframe tbody tr th {\n",
       "        vertical-align: top;\n",
       "    }\n",
       "\n",
       "    .dataframe thead th {\n",
       "        text-align: right;\n",
       "    }\n",
       "</style>\n",
       "<table border=\"1\" class=\"dataframe\">\n",
       "  <thead>\n",
       "    <tr style=\"text-align: right;\">\n",
       "      <th></th>\n",
       "      <th>guest</th>\n",
       "      <th>hotel</th>\n",
       "      <th>priority</th>\n",
       "    </tr>\n",
       "  </thead>\n",
       "  <tbody>\n",
       "    <tr>\n",
       "      <th>99528</th>\n",
       "      <td>guest_4000</td>\n",
       "      <td>hotel_123</td>\n",
       "      <td>28</td>\n",
       "    </tr>\n",
       "    <tr>\n",
       "      <th>99529</th>\n",
       "      <td>guest_4000</td>\n",
       "      <td>hotel_396</td>\n",
       "      <td>29</td>\n",
       "    </tr>\n",
       "    <tr>\n",
       "      <th>99530</th>\n",
       "      <td>guest_4000</td>\n",
       "      <td>hotel_161</td>\n",
       "      <td>30</td>\n",
       "    </tr>\n",
       "    <tr>\n",
       "      <th>99531</th>\n",
       "      <td>guest_4000</td>\n",
       "      <td>hotel_330</td>\n",
       "      <td>31</td>\n",
       "    </tr>\n",
       "    <tr>\n",
       "      <th>99532</th>\n",
       "      <td>guest_4000</td>\n",
       "      <td>hotel_290</td>\n",
       "      <td>32</td>\n",
       "    </tr>\n",
       "  </tbody>\n",
       "</table>\n",
       "</div>"
      ],
      "text/plain": [
       "            guest      hotel  priority\n",
       "99528  guest_4000  hotel_123        28\n",
       "99529  guest_4000  hotel_396        29\n",
       "99530  guest_4000  hotel_161        30\n",
       "99531  guest_4000  hotel_330        31\n",
       "99532  guest_4000  hotel_290        32"
      ]
     },
     "execution_count": 37,
     "metadata": {},
     "output_type": "execute_result"
    }
   ],
   "source": [
    "df_pref.tail()"
   ]
  },
  {
   "cell_type": "code",
   "execution_count": 38,
   "id": "07dd2a4f",
   "metadata": {},
   "outputs": [
    {
     "data": {
      "text/plain": [
       "(1, 49)"
      ]
     },
     "execution_count": 38,
     "metadata": {},
     "output_type": "execute_result"
    }
   ],
   "source": [
    "# Range price\n",
    "df_pref.priority.min(), df_pref.priority.max()"
   ]
  },
  {
   "cell_type": "code",
   "execution_count": 39,
   "id": "b011411a",
   "metadata": {},
   "outputs": [
    {
     "data": {
      "text/plain": [
       "guest       False\n",
       "hotel       False\n",
       "priority    False\n",
       "dtype: bool"
      ]
     },
     "execution_count": 39,
     "metadata": {},
     "output_type": "execute_result"
    }
   ],
   "source": [
    "# Check nan\n",
    "df_pref.isna().any()"
   ]
  },
  {
   "cell_type": "code",
   "execution_count": 40,
   "id": "072a141f",
   "metadata": {},
   "outputs": [
    {
     "name": "stdout",
     "output_type": "stream",
     "text": [
      "<class 'pandas.core.frame.DataFrame'>\n",
      "Int64Index: 99533 entries, 0 to 99532\n",
      "Data columns (total 3 columns):\n",
      " #   Column    Non-Null Count  Dtype \n",
      "---  ------    --------------  ----- \n",
      " 0   guest     99533 non-null  object\n",
      " 1   hotel     99533 non-null  object\n",
      " 2   priority  99533 non-null  int64 \n",
      "dtypes: int64(1), object(2)\n",
      "memory usage: 3.0+ MB\n"
     ]
    }
   ],
   "source": [
    "# Check Type\n",
    "df_pref.info()"
   ]
  },
  {
   "cell_type": "code",
   "execution_count": 41,
   "id": "35d53169",
   "metadata": {},
   "outputs": [
    {
     "data": {
      "text/plain": [
       "True"
      ]
     },
     "execution_count": 41,
     "metadata": {},
     "output_type": "execute_result"
    }
   ],
   "source": [
    "# Guest Hotel duplicati\n",
    "df_pref.duplicated(subset=[\"guest\", \"hotel\"]).any()"
   ]
  },
  {
   "cell_type": "code",
   "execution_count": 42,
   "id": "c65e7d7e",
   "metadata": {},
   "outputs": [
    {
     "data": {
      "text/plain": [
       "guest      hotel    \n",
       "guest_1    hotel_129    2\n",
       "guest_10   hotel_292    2\n",
       "           hotel_95     2\n",
       "guest_100  hotel_154    2\n",
       "           hotel_300    2\n",
       "                       ..\n",
       "guest_992  hotel_297    2\n",
       "guest_994  hotel_248    2\n",
       "           hotel_351    2\n",
       "guest_998  hotel_199    2\n",
       "           hotel_381    2\n",
       "Name: priority, Length: 3652, dtype: int64"
      ]
     },
     "execution_count": 42,
     "metadata": {},
     "output_type": "execute_result"
    }
   ],
   "source": [
    "p = df_pref.groupby([\"guest\", \"hotel\"])['priority'].count()\n",
    "\n",
    "p[p>1]"
   ]
  },
  {
   "cell_type": "code",
   "execution_count": 43,
   "id": "76cbf63d",
   "metadata": {},
   "outputs": [
    {
     "data": {
      "text/html": [
       "<div>\n",
       "<style scoped>\n",
       "    .dataframe tbody tr th:only-of-type {\n",
       "        vertical-align: middle;\n",
       "    }\n",
       "\n",
       "    .dataframe tbody tr th {\n",
       "        vertical-align: top;\n",
       "    }\n",
       "\n",
       "    .dataframe thead th {\n",
       "        text-align: right;\n",
       "    }\n",
       "</style>\n",
       "<table border=\"1\" class=\"dataframe\">\n",
       "  <thead>\n",
       "    <tr style=\"text-align: right;\">\n",
       "      <th></th>\n",
       "      <th>guest</th>\n",
       "      <th>hotel</th>\n",
       "      <th>priority</th>\n",
       "    </tr>\n",
       "  </thead>\n",
       "  <tbody>\n",
       "    <tr>\n",
       "      <th>6</th>\n",
       "      <td>guest_1</td>\n",
       "      <td>hotel_129</td>\n",
       "      <td>7</td>\n",
       "    </tr>\n",
       "    <tr>\n",
       "      <th>9</th>\n",
       "      <td>guest_1</td>\n",
       "      <td>hotel_129</td>\n",
       "      <td>10</td>\n",
       "    </tr>\n",
       "  </tbody>\n",
       "</table>\n",
       "</div>"
      ],
      "text/plain": [
       "     guest      hotel  priority\n",
       "6  guest_1  hotel_129         7\n",
       "9  guest_1  hotel_129        10"
      ]
     },
     "execution_count": 43,
     "metadata": {},
     "output_type": "execute_result"
    }
   ],
   "source": [
    "df_pref[(df_pref.guest=='guest_1') & (df_pref.hotel=='hotel_129')]"
   ]
  },
  {
   "cell_type": "code",
   "execution_count": 44,
   "id": "a4fc2c0c",
   "metadata": {},
   "outputs": [],
   "source": [
    "df_pref = df_pref.groupby(['guest', 'hotel'], as_index=False)['priority'].min().rename(columns={'priority': '_priority'})\n",
    "df_pref['priority'] = 1\n",
    "\n",
    "df_pref['priority'] = df_pref.sort_values(['guest', '_priority']).groupby(['guest'], as_index=False)['priority'].cumcount() + 1\n",
    "df_pref = df_pref.sort_values(['guest', 'priority'])"
   ]
  },
  {
   "cell_type": "code",
   "execution_count": 45,
   "id": "d6674cf0",
   "metadata": {},
   "outputs": [
    {
     "data": {
      "text/html": [
       "<div>\n",
       "<style scoped>\n",
       "    .dataframe tbody tr th:only-of-type {\n",
       "        vertical-align: middle;\n",
       "    }\n",
       "\n",
       "    .dataframe tbody tr th {\n",
       "        vertical-align: top;\n",
       "    }\n",
       "\n",
       "    .dataframe thead th {\n",
       "        text-align: right;\n",
       "    }\n",
       "</style>\n",
       "<table border=\"1\" class=\"dataframe\">\n",
       "  <thead>\n",
       "    <tr style=\"text-align: right;\">\n",
       "      <th></th>\n",
       "      <th>guest</th>\n",
       "      <th>hotel</th>\n",
       "      <th>_priority</th>\n",
       "      <th>priority</th>\n",
       "    </tr>\n",
       "  </thead>\n",
       "  <tbody>\n",
       "    <tr>\n",
       "      <th>4</th>\n",
       "      <td>guest_1</td>\n",
       "      <td>hotel_168</td>\n",
       "      <td>1</td>\n",
       "      <td>1</td>\n",
       "    </tr>\n",
       "    <tr>\n",
       "      <th>5</th>\n",
       "      <td>guest_1</td>\n",
       "      <td>hotel_207</td>\n",
       "      <td>2</td>\n",
       "      <td>2</td>\n",
       "    </tr>\n",
       "    <tr>\n",
       "      <th>7</th>\n",
       "      <td>guest_1</td>\n",
       "      <td>hotel_222</td>\n",
       "      <td>3</td>\n",
       "      <td>3</td>\n",
       "    </tr>\n",
       "    <tr>\n",
       "      <th>2</th>\n",
       "      <td>guest_1</td>\n",
       "      <td>hotel_124</td>\n",
       "      <td>4</td>\n",
       "      <td>4</td>\n",
       "    </tr>\n",
       "    <tr>\n",
       "      <th>8</th>\n",
       "      <td>guest_1</td>\n",
       "      <td>hotel_223</td>\n",
       "      <td>5</td>\n",
       "      <td>5</td>\n",
       "    </tr>\n",
       "    <tr>\n",
       "      <th>11</th>\n",
       "      <td>guest_1</td>\n",
       "      <td>hotel_297</td>\n",
       "      <td>6</td>\n",
       "      <td>6</td>\n",
       "    </tr>\n",
       "    <tr>\n",
       "      <th>3</th>\n",
       "      <td>guest_1</td>\n",
       "      <td>hotel_129</td>\n",
       "      <td>7</td>\n",
       "      <td>7</td>\n",
       "    </tr>\n",
       "    <tr>\n",
       "      <th>1</th>\n",
       "      <td>guest_1</td>\n",
       "      <td>hotel_12</td>\n",
       "      <td>8</td>\n",
       "      <td>8</td>\n",
       "    </tr>\n",
       "    <tr>\n",
       "      <th>0</th>\n",
       "      <td>guest_1</td>\n",
       "      <td>hotel_1</td>\n",
       "      <td>9</td>\n",
       "      <td>9</td>\n",
       "    </tr>\n",
       "    <tr>\n",
       "      <th>14</th>\n",
       "      <td>guest_1</td>\n",
       "      <td>hotel_46</td>\n",
       "      <td>11</td>\n",
       "      <td>10</td>\n",
       "    </tr>\n",
       "    <tr>\n",
       "      <th>13</th>\n",
       "      <td>guest_1</td>\n",
       "      <td>hotel_343</td>\n",
       "      <td>12</td>\n",
       "      <td>11</td>\n",
       "    </tr>\n",
       "    <tr>\n",
       "      <th>12</th>\n",
       "      <td>guest_1</td>\n",
       "      <td>hotel_338</td>\n",
       "      <td>13</td>\n",
       "      <td>12</td>\n",
       "    </tr>\n",
       "    <tr>\n",
       "      <th>15</th>\n",
       "      <td>guest_1</td>\n",
       "      <td>hotel_90</td>\n",
       "      <td>14</td>\n",
       "      <td>13</td>\n",
       "    </tr>\n",
       "    <tr>\n",
       "      <th>10</th>\n",
       "      <td>guest_1</td>\n",
       "      <td>hotel_269</td>\n",
       "      <td>15</td>\n",
       "      <td>14</td>\n",
       "    </tr>\n",
       "    <tr>\n",
       "      <th>9</th>\n",
       "      <td>guest_1</td>\n",
       "      <td>hotel_237</td>\n",
       "      <td>16</td>\n",
       "      <td>15</td>\n",
       "    </tr>\n",
       "    <tr>\n",
       "      <th>6</th>\n",
       "      <td>guest_1</td>\n",
       "      <td>hotel_22</td>\n",
       "      <td>17</td>\n",
       "      <td>16</td>\n",
       "    </tr>\n",
       "    <tr>\n",
       "      <th>16</th>\n",
       "      <td>guest_1</td>\n",
       "      <td>hotel_97</td>\n",
       "      <td>18</td>\n",
       "      <td>17</td>\n",
       "    </tr>\n",
       "    <tr>\n",
       "      <th>39</th>\n",
       "      <td>guest_10</td>\n",
       "      <td>hotel_60</td>\n",
       "      <td>1</td>\n",
       "      <td>1</td>\n",
       "    </tr>\n",
       "    <tr>\n",
       "      <th>30</th>\n",
       "      <td>guest_10</td>\n",
       "      <td>hotel_317</td>\n",
       "      <td>2</td>\n",
       "      <td>2</td>\n",
       "    </tr>\n",
       "    <tr>\n",
       "      <th>41</th>\n",
       "      <td>guest_10</td>\n",
       "      <td>hotel_95</td>\n",
       "      <td>3</td>\n",
       "      <td>3</td>\n",
       "    </tr>\n",
       "  </tbody>\n",
       "</table>\n",
       "</div>"
      ],
      "text/plain": [
       "       guest      hotel  _priority  priority\n",
       "4    guest_1  hotel_168          1         1\n",
       "5    guest_1  hotel_207          2         2\n",
       "7    guest_1  hotel_222          3         3\n",
       "2    guest_1  hotel_124          4         4\n",
       "8    guest_1  hotel_223          5         5\n",
       "11   guest_1  hotel_297          6         6\n",
       "3    guest_1  hotel_129          7         7\n",
       "1    guest_1   hotel_12          8         8\n",
       "0    guest_1    hotel_1          9         9\n",
       "14   guest_1   hotel_46         11        10\n",
       "13   guest_1  hotel_343         12        11\n",
       "12   guest_1  hotel_338         13        12\n",
       "15   guest_1   hotel_90         14        13\n",
       "10   guest_1  hotel_269         15        14\n",
       "9    guest_1  hotel_237         16        15\n",
       "6    guest_1   hotel_22         17        16\n",
       "16   guest_1   hotel_97         18        17\n",
       "39  guest_10   hotel_60          1         1\n",
       "30  guest_10  hotel_317          2         2\n",
       "41  guest_10   hotel_95          3         3"
      ]
     },
     "execution_count": 45,
     "metadata": {},
     "output_type": "execute_result"
    }
   ],
   "source": [
    "df_pref.head(20)"
   ]
  },
  {
   "cell_type": "code",
   "execution_count": 46,
   "id": "f25c76e3",
   "metadata": {},
   "outputs": [
    {
     "data": {
      "text/plain": [
       "False"
      ]
     },
     "execution_count": 46,
     "metadata": {},
     "output_type": "execute_result"
    }
   ],
   "source": [
    "# Guest Hotel duplicati\n",
    "df_pref.duplicated(subset=[\"guest\", \"hotel\"]).any()"
   ]
  },
  {
   "cell_type": "code",
   "execution_count": 47,
   "id": "f02aaf0e",
   "metadata": {},
   "outputs": [],
   "source": [
    "df_pref = df_pref.drop(columns=['_priority'])"
   ]
  },
  {
   "cell_type": "markdown",
   "id": "f8d29034",
   "metadata": {},
   "source": [
    "## Export in CSV"
   ]
  },
  {
   "cell_type": "code",
   "execution_count": 48,
   "id": "b813faf1",
   "metadata": {},
   "outputs": [],
   "source": [
    "df_guest.to_csv(\"guests.csv\", index=False)\n",
    "df_hotel.to_csv(\"hotels.csv\", index=False)\n",
    "df_pref.to_csv(\"preferences.csv\", index=False)"
   ]
  },
  {
   "cell_type": "code",
   "execution_count": null,
   "id": "71e21907",
   "metadata": {},
   "outputs": [],
   "source": []
  }
 ],
 "metadata": {
  "kernelspec": {
   "display_name": "Python 3 (ipykernel)",
   "language": "python",
   "name": "python3"
  },
  "language_info": {
   "codemirror_mode": {
    "name": "ipython",
    "version": 3
   },
   "file_extension": ".py",
   "mimetype": "text/x-python",
   "name": "python",
   "nbconvert_exporter": "python",
   "pygments_lexer": "ipython3",
   "version": "3.8.12"
  }
 },
 "nbformat": 4,
 "nbformat_minor": 5
}
