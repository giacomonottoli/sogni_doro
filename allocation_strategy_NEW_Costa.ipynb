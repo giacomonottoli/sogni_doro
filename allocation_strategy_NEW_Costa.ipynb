{
 "cells": [
  {
   "cell_type": "code",
   "execution_count": 4,
   "id": "eb6e86b8",
   "metadata": {},
   "outputs": [],
   "source": [
    "import pandas as pd\n",
    "import numpy as np\n",
    "import os\n",
    "import random\n",
    "from tqdm.notebook import tqdm\n",
    "from collections import defaultdict"
   ]
  },
  {
   "cell_type": "code",
   "execution_count": 5,
   "id": "71491c5a",
   "metadata": {},
   "outputs": [],
   "source": [
    "df_guests = pd.read_csv(\"guests.csv\")\n",
    "df_hotels = pd.read_csv(\"hotels.csv\")\n",
    "df_prefs = pd.read_csv(\"preferences.csv\")"
   ]
  },
  {
   "cell_type": "code",
   "execution_count": 6,
   "id": "1759bbd0",
   "metadata": {
    "scrolled": true
   },
   "outputs": [],
   "source": [
    "class BaseAllocation():\n",
    "    \n",
    "    def __init__(self, df_guests: pd.DataFrame, df_hotels: pd.DataFrame, df_preferences: pd.DataFrame, assign_all :bool):\n",
    "        \n",
    "        self.assign_all = assign_all\n",
    "        \n",
    "        # Create a column based on the position of guest and hotel in the table [0, len of table-1]\n",
    "        df_guests = df_guests.reset_index().rename(columns={'index': 'guest_index'})\n",
    "        df_hotels = df_hotels.reset_index().rename(columns={'index': 'hotel_index'})\n",
    "        \n",
    "        df_preferences = df_preferences.merge(df_guests[['guest', 'guest_index']], on='guest')\n",
    "        df_preferences = df_preferences.merge(df_hotels[['hotel', 'hotel_index', 'price', 'rooms']], on='hotel')\n",
    "        \n",
    "        self.guests = df_guests\n",
    "        self.hotels = df_hotels\n",
    "        self.preferences = df_preferences\n",
    "        \n",
    "        self.number_hotel = len(df_hotels)\n",
    "        self.number_guest = len(df_guests)\n",
    "        \n",
    "        # initialize the preferences matrix (# guest, # hotel) where 0 if the guest is not assigned to the specific hotel and 1 if he is assigned\n",
    "        self.pref_matrix = np.zeros((self.number_guest, self.number_hotel))\n",
    "        \n",
    "        # initialize the hotel availability rooms matrix column 1 -> room availability, column 2 -> price, column 3 -> number of rooms assign \n",
    "        hotel_matrix = df_hotels.drop(columns=['hotel']).set_index(\"hotel_index\").values\n",
    "        self.hotel_matrix = np.c_[hotel_matrix, np.zeros(self.number_hotel)]\n",
    "                \n",
    "        # initialize stats\n",
    "        self.df_pref_matrix = None\n",
    "        self.df_hotel_matrix = None\n",
    "        \n",
    "        self.all_guest_assign = False\n",
    "        self.all_room_assign = False\n",
    "        \n",
    "        self.flag_stats = False  # True if called self._compute_stats()\n",
    "        self.satifaction_level = None\n",
    "        self.business_volume = None\n",
    "        self.number_ass_guest = None\n",
    "        self.number_vacant_rooms = None\n",
    "        self.number_fully_book_hotels = None\n",
    "        self.number_empty_hotels = None\n",
    "        self.number_not_full_empty_hotel = None\n",
    "        self.partially_vacant_hotels = list()\n",
    "\n",
    "\n",
    "    def _preprocessing_results(self):\n",
    "        # Trova il massimo indice (index dell'hotel) per colonna per ogni guest. Se il guest non è stato assegnato viene generato un indice non indicato nelle tabelle degli hotel\n",
    "        df_pref_matrix = pd.DataFrame(np.argmax(np.c_[self.pref_matrix, np.array([1]*self.number_guest,)], axis=1), columns=['hotel_index'])\n",
    "        df_pref_matrix = df_pref_matrix.reset_index().rename(columns={'index': 'guest_index'})\n",
    "\n",
    "        # # Assegno sconto per ogni cliente\n",
    "        df_pref_matrix = df_pref_matrix.merge(self.guests, on='guest_index')\n",
    "\n",
    "        # # Assegno prezzo per ogni hotel e filtra via i guest che non hanno una prenotazione (non trova hotel con ID 400)\n",
    "        df_pref_matrix = df_pref_matrix.merge(self.hotels.drop(columns=[\"rooms\"]), on='hotel_index')\n",
    "\n",
    "        # # Calcola il prezzo da applicare ad ogni guest\n",
    "        df_pref_matrix['price_to_set'] = df_pref_matrix.price * (1 - df_pref_matrix.discount)\n",
    "\n",
    "        # # Trasformiamo hotel_matrix in un dataframe per calcolare numero di hotel liberi/pieni\n",
    "        self.df_hotel_matrix = pd.DataFrame(self.hotel_matrix, columns=['rooms', 'price', 'occupied_rooms'])\n",
    "        \n",
    "        df_pref_matrix = df_pref_matrix.merge(self.preferences[[\"guest_index\", \"hotel_index\", \"priority\"]], on=[\"guest_index\", \"hotel_index\"], how='left')\n",
    "        df_pref_matrix['priority'] = df_pref_matrix['priority'] - 1\n",
    "\n",
    "        number_of_priority = self.preferences.groupby(\"guest_index\", as_index=False)['priority'].count().rename(columns={'priority': 'number_of_priority'})\n",
    "        df_pref_matrix = df_pref_matrix.merge(number_of_priority, on='guest_index')\n",
    "\n",
    "        df_pref_matrix['satisfaction'] = (df_pref_matrix.number_of_priority - df_pref_matrix.priority)/df_pref_matrix.number_of_priority\n",
    "        \n",
    "        df_pref_matrix['satisfaction'] = df_pref_matrix.satisfaction.fillna(0)\n",
    "        \n",
    "        self.df_pref_matrix = df_pref_matrix\n",
    "            \n",
    "    \n",
    "    def _compute_stats(self):\n",
    "        \n",
    "        self._preprocessing_results()\n",
    "        \n",
    "        self.satifaction_level = self.df_pref_matrix.satisfaction.sum() / self.number_guest\n",
    "        self.business_volume = self.df_pref_matrix.price_to_set.sum()\n",
    "        self.number_ass_guest = len(self.df_pref_matrix)\n",
    "        self.number_vacant_rooms = self.hotels.rooms.sum() - self.number_ass_guest\n",
    "        self.number_fully_book_hotels = len(self.df_hotel_matrix[(self.df_hotel_matrix['rooms'] == self.df_hotel_matrix['occupied_rooms'])])\n",
    "        self.number_empty_hotels = len(self.df_hotel_matrix[(self.df_hotel_matrix['occupied_rooms'] == 0)])\n",
    "        self.number_not_full_empty_hotel = self.number_hotel - self.number_fully_book_hotels - self.number_empty_hotels\n",
    "        \n",
    "        self.flag_stats = True\n",
    "    \n",
    "    def partial_hotel_booking_ratio(self):\n",
    "        for h in range(len(self.hotels)):\n",
    "            if self.hotel_matrix[h, 2] < self.hotel_matrix[h, 0] and self.hotel_matrix[h, 2]!=0:\n",
    "                self.partially_vacant_hotels.append(self.hotel_matrix[h, 2]/self.hotel_matrix[h, 0])\n",
    "        return self.partially_vacant_hotels\n",
    "        \n",
    "    def __str__(self):\n",
    "        if self.flag_stats:\n",
    "            result = [\n",
    "                f'Total business volume: {round(self.business_volume, 2):,} €',\n",
    "                f'Assigned guests: {self.number_ass_guest}',\n",
    "                f'Vacant rooms: {self.number_vacant_rooms}',\n",
    "                f'Number of fully booked hotels: {self.number_fully_book_hotels}',\n",
    "                f'Number of completely vacant hotels: {self.number_empty_hotels}',\n",
    "                f'Number of neither full nor vacant hotels: {self.number_not_full_empty_hotel}',\n",
    "                f'Overall satisfaction is: {round(self.satifaction_level*100, 2)}%'\n",
    "            ]\n",
    "            return '\\n'.join(result)\n",
    "        else:\n",
    "            return \"Not available statistics. Launch the method assign()\"\n",
    "   \n",
    "    \n",
    "    def _access_pref_matrix(self, guest, hotel):\n",
    "        self.pref_matrix[guest, hotel] = 1\n",
    "        self.hotel_matrix[hotel, 2] += 1\n",
    "\n",
    "        \n",
    "    def assign(self): \n",
    "        self._define_guest_order()\n",
    "        for guest in self.guest_order:\n",
    "            for hotel in self.pref_by_guest[guest]:\n",
    "                if self.hotel_matrix[hotel, 2] < self.hotel_matrix[hotel, 0]:\n",
    "                    self._access_pref_matrix(guest, hotel)\n",
    "                    break\n",
    "            if self.hotel_matrix[:, 0].sum() == self.hotel_matrix[:, 2].sum():\n",
    "                break\n",
    "                \n",
    "        if self.assign_all:\n",
    "            \n",
    "            guest_not_found = np.argwhere(self.pref_matrix.sum(1) == 0)[:,0].tolist()\n",
    "            guest_not_found = [x for x in self.guest_order if x in guest_not_found]\n",
    "            \n",
    "            \n",
    "            for guest in guest_not_found:\n",
    "                \n",
    "                available_hotel = list(np.argwhere((self.hotel_matrix[:,0] - self.hotel_matrix[:,2]) > 0)[:,0].tolist())\n",
    "                \n",
    "                guest_pref = self.preferences[self.preferences.guest_index == guest].copy(deep=True)\n",
    "                guest_pref['key'] = 1\n",
    "                \n",
    "                hotel_donors = self.hotels.loc[self.hotels.hotel_index.isin(available_hotel), ['hotel_index', 'price']]\n",
    "                hotel_donors['key'] = 1\n",
    "                \n",
    "                guest_pref = guest_pref.merge(hotel_donors, how='outer', on='key', suffixes=('_recipient', '_donor'))\n",
    "                guest_pref['delta'] = (guest_pref.price_donor - guest_pref.price_recipient).abs()\n",
    "                hotel_index = guest_pref.sort_values(['delta', 'priority'])['hotel_index_donor'].iloc[0]\n",
    "                self._access_pref_matrix(guest, hotel_index)\n",
    "        self._compute_stats()\n"
   ]
  },
  {
   "cell_type": "code",
   "execution_count": 7,
   "id": "35a1ee60",
   "metadata": {},
   "outputs": [],
   "source": [
    "class RandomGuestAllocation(BaseAllocation):\n",
    "    \n",
    "    def __init__(self, df_guests: pd.DataFrame, df_hotels: pd.DataFrame, df_preferences: pd.DataFrame, assign_all: bool=False, random_on:str =None):\n",
    "        super(RandomGuestAllocation, self).__init__(df_guests, df_hotels, df_preferences, assign_all)\n",
    "        self.random_on = random_on\n",
    "                \n",
    "    def _define_guest_order(self):\n",
    "        # Create a dictionary with the raw association between guest and the hotels preferences\n",
    "        # like {0: [21, 32, 65, ...], 1: [...], ...}\n",
    "        if self.random_on == 'guest':\n",
    "            \n",
    "            self.preferences = self.preferences.sort_values(['guest_index', 'priority'])\n",
    "            self.pref_by_guest = self.preferences.groupby(\"guest_index\").agg({\"hotel_index\":list}).to_dict()[\"hotel_index\"]\n",
    "            self.guest_order = random.sample(list(self.pref_by_guest.keys()), len(self.pref_by_guest))\n",
    "        \n",
    "        elif self.random_on == 'guest_priority':\n",
    "            \n",
    "            self.pref_by_guest = self.preferences.groupby(\"guest_index\").agg({\"hotel_index\":list}).to_dict()[\"hotel_index\"]\n",
    "            self.pref_by_guest = {key: random.sample(value, len(value)) for key, value in self.pref_by_guest.items()}    \n",
    "            self.guest_order = random.sample(list(self.pref_by_guest.keys()), len(self.pref_by_guest))\n",
    "            \n",
    "        else:\n",
    "            \n",
    "            key = list(range(self.number_guest))\n",
    "            values = map(lambda x: random.sample(x, len(x)), [range(self.number_hotel)]*self.number_guest)\n",
    "            self.pref_by_guest = dict (zip(key, values))\n",
    "            self.guest_order = random.sample(list(self.pref_by_guest.keys()), len(self.pref_by_guest))\n",
    "            "
   ]
  },
  {
   "cell_type": "code",
   "execution_count": 8,
   "id": "ee7c5dab",
   "metadata": {},
   "outputs": [],
   "source": [
    "class OrderGustAllocation(BaseAllocation):\n",
    "    \n",
    "    def __init__(self, df_guests: pd.DataFrame, df_hotels: pd.DataFrame, df_preferences: pd.DataFrame, assign_all: bool=False):\n",
    "        super(OrderGustAllocation, self).__init__(df_guests, df_hotels, df_preferences, assign_all)\n",
    "        \n",
    "        \n",
    "    def _define_guest_order(self):\n",
    "        # Create a dictionary with the raw association between guest and the hotels preferences\n",
    "        # like {0: [21, 32, 65, ...], 1: [...], ...}\n",
    "        self.preferences = self.preferences.sort_values(['guest_index', 'priority'])\n",
    "        self.pref_by_guest = self.preferences.groupby(\"guest_index\").agg({\"hotel_index\":list}).to_dict()[\"hotel_index\"]\n",
    "        self.guest_order = sorted(self.pref_by_guest.keys())\n"
   ]
  },
  {
   "cell_type": "code",
   "execution_count": 9,
   "id": "96032ba6",
   "metadata": {
    "scrolled": true
   },
   "outputs": [],
   "source": [
    "class PriceHotelAllocation(BaseAllocation):\n",
    "    \n",
    "    def __init__(self, df_guests: pd.DataFrame, df_hotels: pd.DataFrame, df_preferences: pd.DataFrame, assign_all: bool=False):\n",
    "        super(PriceHotelAllocation, self).__init__(df_guests, df_hotels, df_preferences, assign_all)\n",
    "        \n",
    "    def _define_guest_order(self):\n",
    "        # Create a dictionary with the raw association between guest and the hotels preferences\n",
    "        # like {0: [21, 32, 65, ...], 1: [...], ...}\n",
    "        self.preferences = self.preferences.sort_values(['guest_index', 'price'])\n",
    "        self.pref_by_guest = self.preferences.groupby(\"guest_index\").agg({\"hotel_index\":list}).to_dict()[\"hotel_index\"]\n",
    "        self.guest_order = sorted(self.pref_by_guest.keys())\n",
    "                 \n",
    "        \n",
    "    "
   ]
  },
  {
   "cell_type": "code",
   "execution_count": 10,
   "id": "b94cb2d4",
   "metadata": {},
   "outputs": [],
   "source": [
    "class AvailabilityHotelAllocation(BaseAllocation):\n",
    "    \n",
    "    def __init__(self, df_guests: pd.DataFrame, df_hotels: pd.DataFrame, df_preferences: pd.DataFrame, assign_all: bool=False):\n",
    "        super(AvailabilityHotelAllocation, self).__init__(df_guests, df_hotels, df_preferences, assign_all)\n",
    "        \n",
    "    def _define_guest_order(self):\n",
    "        # Create a dictionary with the raw association between guest and the hotels preferences\n",
    "        # like {0: [21, 32, 65, ...], 1: [...], ...}\n",
    "        self.preferences = self.preferences.sort_values(['guest_index', 'rooms'], ascending=[True, False])\n",
    "        self.pref_by_guest = self.preferences.groupby(\"guest_index\").agg({\"hotel_index\":list}).to_dict()[\"hotel_index\"]\n",
    "        self.guest_order = sorted(self.pref_by_guest.keys())\n",
    "    "
   ]
  },
  {
   "cell_type": "code",
   "execution_count": 11,
   "id": "cfcb1794",
   "metadata": {},
   "outputs": [],
   "source": [
    "c =PriceHotelAllocation(df_guests, df_hotels, df_prefs)\n",
    "c.assign()"
   ]
  },
  {
   "cell_type": "code",
   "execution_count": 12,
   "id": "3983b517",
   "metadata": {
    "scrolled": true
   },
   "outputs": [
    {
     "data": {
      "text/html": [
       "<div>\n",
       "<style scoped>\n",
       "    .dataframe tbody tr th:only-of-type {\n",
       "        vertical-align: middle;\n",
       "    }\n",
       "\n",
       "    .dataframe tbody tr th {\n",
       "        vertical-align: top;\n",
       "    }\n",
       "\n",
       "    .dataframe thead th {\n",
       "        text-align: right;\n",
       "    }\n",
       "</style>\n",
       "<table border=\"1\" class=\"dataframe\">\n",
       "  <thead>\n",
       "    <tr style=\"text-align: right;\">\n",
       "      <th></th>\n",
       "      <th>guest</th>\n",
       "      <th>hotel</th>\n",
       "      <th>priority</th>\n",
       "      <th>guest_index</th>\n",
       "      <th>hotel_index</th>\n",
       "      <th>price</th>\n",
       "      <th>rooms</th>\n",
       "    </tr>\n",
       "  </thead>\n",
       "  <tbody>\n",
       "    <tr>\n",
       "      <th>3638</th>\n",
       "      <td>guest_1</td>\n",
       "      <td>hotel_22</td>\n",
       "      <td>16</td>\n",
       "      <td>0</td>\n",
       "      <td>21</td>\n",
       "      <td>61</td>\n",
       "      <td>17</td>\n",
       "    </tr>\n",
       "    <tr>\n",
       "      <th>1446</th>\n",
       "      <td>guest_1</td>\n",
       "      <td>hotel_129</td>\n",
       "      <td>7</td>\n",
       "      <td>0</td>\n",
       "      <td>128</td>\n",
       "      <td>85</td>\n",
       "      <td>19</td>\n",
       "    </tr>\n",
       "    <tr>\n",
       "      <th>2865</th>\n",
       "      <td>guest_1</td>\n",
       "      <td>hotel_90</td>\n",
       "      <td>13</td>\n",
       "      <td>0</td>\n",
       "      <td>89</td>\n",
       "      <td>85</td>\n",
       "      <td>17</td>\n",
       "    </tr>\n",
       "    <tr>\n",
       "      <th>3092</th>\n",
       "      <td>guest_1</td>\n",
       "      <td>hotel_269</td>\n",
       "      <td>14</td>\n",
       "      <td>0</td>\n",
       "      <td>268</td>\n",
       "      <td>127</td>\n",
       "      <td>5</td>\n",
       "    </tr>\n",
       "    <tr>\n",
       "      <th>238</th>\n",
       "      <td>guest_1</td>\n",
       "      <td>hotel_207</td>\n",
       "      <td>2</td>\n",
       "      <td>0</td>\n",
       "      <td>206</td>\n",
       "      <td>128</td>\n",
       "      <td>8</td>\n",
       "    </tr>\n",
       "    <tr>\n",
       "      <th>...</th>\n",
       "      <td>...</td>\n",
       "      <td>...</td>\n",
       "      <td>...</td>\n",
       "      <td>...</td>\n",
       "      <td>...</td>\n",
       "      <td>...</td>\n",
       "      <td>...</td>\n",
       "    </tr>\n",
       "    <tr>\n",
       "      <th>84447</th>\n",
       "      <td>guest_4000</td>\n",
       "      <td>hotel_81</td>\n",
       "      <td>3</td>\n",
       "      <td>3999</td>\n",
       "      <td>80</td>\n",
       "      <td>252</td>\n",
       "      <td>16</td>\n",
       "    </tr>\n",
       "    <tr>\n",
       "      <th>2114</th>\n",
       "      <td>guest_4000</td>\n",
       "      <td>hotel_1</td>\n",
       "      <td>9</td>\n",
       "      <td>3999</td>\n",
       "      <td>0</td>\n",
       "      <td>273</td>\n",
       "      <td>13</td>\n",
       "    </tr>\n",
       "    <tr>\n",
       "      <th>42238</th>\n",
       "      <td>guest_4000</td>\n",
       "      <td>hotel_352</td>\n",
       "      <td>2</td>\n",
       "      <td>3999</td>\n",
       "      <td>351</td>\n",
       "      <td>276</td>\n",
       "      <td>8</td>\n",
       "    </tr>\n",
       "    <tr>\n",
       "      <th>84661</th>\n",
       "      <td>guest_4000</td>\n",
       "      <td>hotel_278</td>\n",
       "      <td>12</td>\n",
       "      <td>3999</td>\n",
       "      <td>277</td>\n",
       "      <td>279</td>\n",
       "      <td>18</td>\n",
       "    </tr>\n",
       "    <tr>\n",
       "      <th>22568</th>\n",
       "      <td>guest_4000</td>\n",
       "      <td>hotel_399</td>\n",
       "      <td>25</td>\n",
       "      <td>3999</td>\n",
       "      <td>398</td>\n",
       "      <td>284</td>\n",
       "      <td>16</td>\n",
       "    </tr>\n",
       "  </tbody>\n",
       "</table>\n",
       "<p>95778 rows × 7 columns</p>\n",
       "</div>"
      ],
      "text/plain": [
       "            guest      hotel  priority  guest_index  hotel_index  price  rooms\n",
       "3638      guest_1   hotel_22        16            0           21     61     17\n",
       "1446      guest_1  hotel_129         7            0          128     85     19\n",
       "2865      guest_1   hotel_90        13            0           89     85     17\n",
       "3092      guest_1  hotel_269        14            0          268    127      5\n",
       "238       guest_1  hotel_207         2            0          206    128      8\n",
       "...           ...        ...       ...          ...          ...    ...    ...\n",
       "84447  guest_4000   hotel_81         3         3999           80    252     16\n",
       "2114   guest_4000    hotel_1         9         3999            0    273     13\n",
       "42238  guest_4000  hotel_352         2         3999          351    276      8\n",
       "84661  guest_4000  hotel_278        12         3999          277    279     18\n",
       "22568  guest_4000  hotel_399        25         3999          398    284     16\n",
       "\n",
       "[95778 rows x 7 columns]"
      ]
     },
     "execution_count": 12,
     "metadata": {},
     "output_type": "execute_result"
    }
   ],
   "source": [
    "c.preferences"
   ]
  },
  {
   "cell_type": "code",
   "execution_count": 13,
   "id": "d4b957cb",
   "metadata": {
    "scrolled": true
   },
   "outputs": [
    {
     "data": {
      "text/plain": [
       "3926"
      ]
     },
     "execution_count": 13,
     "metadata": {},
     "output_type": "execute_result"
    }
   ],
   "source": [
    "c.number_ass_guest"
   ]
  },
  {
   "cell_type": "code",
   "execution_count": 14,
   "id": "c7384078",
   "metadata": {},
   "outputs": [
    {
     "data": {
      "text/plain": [
       "321"
      ]
     },
     "execution_count": 14,
     "metadata": {},
     "output_type": "execute_result"
    }
   ],
   "source": [
    "c.number_fully_book_hotels"
   ]
  },
  {
   "cell_type": "code",
   "execution_count": 15,
   "id": "83b04e4b",
   "metadata": {},
   "outputs": [
    {
     "data": {
      "text/plain": [
       "564283.0599999999"
      ]
     },
     "execution_count": 15,
     "metadata": {},
     "output_type": "execute_result"
    }
   ],
   "source": [
    "c.business_volume"
   ]
  },
  {
   "cell_type": "code",
   "execution_count": 16,
   "id": "40232a62",
   "metadata": {},
   "outputs": [],
   "source": [
    "d =AvailabilityHotelAllocation(df_guests, df_hotels, df_prefs)\n",
    "d.assign()"
   ]
  },
  {
   "cell_type": "code",
   "execution_count": 17,
   "id": "5e065541",
   "metadata": {},
   "outputs": [
    {
     "data": {
      "text/plain": [
       "3955"
      ]
     },
     "execution_count": 17,
     "metadata": {},
     "output_type": "execute_result"
    }
   ],
   "source": [
    "d.number_ass_guest"
   ]
  },
  {
   "cell_type": "code",
   "execution_count": null,
   "id": "526b92ea",
   "metadata": {},
   "outputs": [],
   "source": []
  }
 ],
 "metadata": {
  "kernelspec": {
   "display_name": "Python 3",
   "language": "python",
   "name": "python3"
  },
  "language_info": {
   "codemirror_mode": {
    "name": "ipython",
    "version": 3
   },
   "file_extension": ".py",
   "mimetype": "text/x-python",
   "name": "python",
   "nbconvert_exporter": "python",
   "pygments_lexer": "ipython3",
   "version": "3.8.8"
  },
  "varInspector": {
   "cols": {
    "lenName": 16,
    "lenType": 16,
    "lenVar": 40
   },
   "kernels_config": {
    "python": {
     "delete_cmd_postfix": "",
     "delete_cmd_prefix": "del ",
     "library": "var_list.py",
     "varRefreshCmd": "print(var_dic_list())"
    },
    "r": {
     "delete_cmd_postfix": ") ",
     "delete_cmd_prefix": "rm(",
     "library": "var_list.r",
     "varRefreshCmd": "cat(var_dic_list()) "
    }
   },
   "types_to_exclude": [
    "module",
    "function",
    "builtin_function_or_method",
    "instance",
    "_Feature"
   ],
   "window_display": false
  }
 },
 "nbformat": 4,
 "nbformat_minor": 5
}
