{
 "cells": [
  {
   "cell_type": "markdown",
   "id": "b61c4907",
   "metadata": {},
   "source": [
    "## 1. Import relevant libraries"
   ]
  },
  {
   "cell_type": "code",
   "execution_count": 1,
   "id": "075398dd",
   "metadata": {},
   "outputs": [],
   "source": [
    "import pandas as pd\n",
    "import numpy as np\n",
    "import os\n",
    "import random"
   ]
  },
  {
   "cell_type": "markdown",
   "id": "2490701a",
   "metadata": {},
   "source": [
    "## 2. Open csv files"
   ]
  },
  {
   "cell_type": "code",
   "execution_count": 2,
   "id": "f801eadf",
   "metadata": {},
   "outputs": [],
   "source": [
    "df_guest = pd.read_csv(\"guests.csv\")\n",
    "df_hotel = pd.read_csv(\"hotels.csv\")\n",
    "df_pref = pd.read_csv(\"preferences.csv\")"
   ]
  },
  {
   "cell_type": "markdown",
   "id": "d5ec3cb0",
   "metadata": {},
   "source": [
    "#### Reset hotel and guest index \n",
    "\n"
   ]
  },
  {
   "cell_type": "code",
   "execution_count": 3,
   "id": "b03c4131",
   "metadata": {},
   "outputs": [],
   "source": [
    "df_pref['guest_index'] = df_pref.guest.str.split(\"_\").apply(lambda x: int(x[1])-1)\n",
    "df_pref['hotel_index'] = df_pref.hotel.str.split(\"_\").apply(lambda x: int(x[1])-1)"
   ]
  },
  {
   "cell_type": "code",
   "execution_count": 4,
   "id": "61a96c49",
   "metadata": {},
   "outputs": [],
   "source": [
    "df_hotel['hotel_index'] = df_hotel.hotel.str.split(\"_\").apply(lambda x: int(x[1])-1)"
   ]
  },
  {
   "cell_type": "code",
   "execution_count": 5,
   "id": "5fec3414",
   "metadata": {},
   "outputs": [],
   "source": [
    "df_guest['guest_index'] = df_guest.guest.str.split(\"_\").apply(lambda x: int(x[1])-1)"
   ]
  },
  {
   "cell_type": "markdown",
   "id": "e44223fd",
   "metadata": {},
   "source": [
    "## 3. Initializations"
   ]
  },
  {
   "cell_type": "code",
   "execution_count": 6,
   "id": "8cac4595",
   "metadata": {},
   "outputs": [],
   "source": [
    "pref_by_guest = df_pref.groupby(\"guest_index\").agg({\"hotel_index\":list}).to_dict()[\"hotel_index\"]"
   ]
  },
  {
   "cell_type": "markdown",
   "id": "5d09310c",
   "metadata": {},
   "source": [
    "#### Initialization matrix of preferences"
   ]
  },
  {
   "cell_type": "code",
   "execution_count": 7,
   "id": "75e6e15b",
   "metadata": {},
   "outputs": [],
   "source": [
    "pref_matrix = np.zeros((len(df_guest), len(df_hotel)))"
   ]
  },
  {
   "cell_type": "markdown",
   "id": "6d363839",
   "metadata": {},
   "source": [
    "#### Creating hotel matrix"
   ]
  },
  {
   "cell_type": "code",
   "execution_count": 8,
   "id": "b40a15f1",
   "metadata": {},
   "outputs": [],
   "source": [
    "hotel_matrix = df_hotel.drop(columns=['hotel']).set_index(\"hotel_index\").values"
   ]
  },
  {
   "cell_type": "markdown",
   "id": "6a623faa",
   "metadata": {},
   "source": [
    "#### Adding third column in hotel_matrix to keep track of booked rooms"
   ]
  },
  {
   "cell_type": "code",
   "execution_count": 9,
   "id": "1031921d",
   "metadata": {},
   "outputs": [],
   "source": [
    "hotel_matrix = np.c_[hotel_matrix, np.zeros(len(df_hotel))]"
   ]
  },
  {
   "cell_type": "markdown",
   "id": "6adbf68e",
   "metadata": {},
   "source": [
    "## 4. Guest distribution algorithms"
   ]
  },
  {
   "cell_type": "markdown",
   "id": "488871c2",
   "metadata": {},
   "source": [
    "### 4.1 Casual distribution"
   ]
  },
  {
   "cell_type": "markdown",
   "id": "f936be63",
   "metadata": {},
   "source": [
    "- Algorithm"
   ]
  },
  {
   "cell_type": "code",
   "execution_count": 46,
   "id": "15ba277d",
   "metadata": {},
   "outputs": [],
   "source": [
    "Avg_Satis = []\n",
    "Avg_bus_vol = []\n",
    "\n",
    "for simulation in range(100):\n",
    "    initial_guest_list = random.sample(list(pref_by_guest.keys()), len(list(pref_by_guest.keys())))\n",
    "    pref_by_guest_random = {guest: random.sample(pref_by_guest[guest], len(pref_by_guest[guest])) for guest in initial_guest_list}\n",
    "    # Inizializzo hotel_matrix e pref_matrix per permettere più calcoli in serie\n",
    "    hotel_matrix[:,2] = 0\n",
    "    pref_matrix[:,:] = 0 \n",
    "    for guest in initial_guest_list:\n",
    "        hotel_list_per_guest = pref_by_guest_random[guest]  # lista contenente le preferenze del guest i-esimo\n",
    "        for hotel in hotel_list_per_guest:\n",
    "            if hotel_matrix[hotel, 2] < hotel_matrix[hotel, 0]:\n",
    "                pref_matrix[guest, hotel] = 1\n",
    "                hotel_matrix[hotel, 2] += 1\n",
    "                break\n",
    "                \n",
    "    # Trova il massimo indice (index dell'hotel) per colonna per ogni guest. Se il guest non è stato assegnato viene generato un indice non indicato nelle tabelle degli hotel\n",
    "    df_pref_matrix = pd.DataFrame(np.argmax(np.c_[pref_matrix, np.array([1]*len(df_guest),)], axis=1), columns=['hotel_index'])\n",
    "    df_pref_matrix = df_pref_matrix.reset_index().rename(columns={'index': 'guest_index'})\n",
    "\n",
    "    # # Assegno sconto per ogni cliente\n",
    "    df_pref_matrix = df_pref_matrix.merge(df_guest, on='guest_index')\n",
    "\n",
    "    # # Assegno prezzo per ogni hotel e filtra via i guest che non hanno una prenotazione (non trova hotel con ID 400)\n",
    "    df_pref_matrix = df_pref_matrix.merge(df_hotel.drop(columns=[\"rooms\"]), on='hotel_index')\n",
    "\n",
    "    # # Calcola il prezzo da applicare ad ogni guest\n",
    "    df_pref_matrix['price_to_set'] = df_pref_matrix.price * (1-df_pref_matrix.discount)\n",
    "\n",
    "    # # Trasformiamo hotel_matrix in un dataframe per calcolare numero di hotel liberi/pieni\n",
    "    df_hotel_matrix = pd.DataFrame(hotel_matrix,columns=['Rooms', 'Price', 'Occupied Rooms'])\n",
    "\n",
    "    # Definiamo qual era la priorità definita dal guest per ogni hotel assegnato\n",
    "\n",
    "    hotel_pref_indeces = []\n",
    "    guest_list = []\n",
    "    index_h = 0\n",
    "\n",
    "    for i,j in zip(df_pref_matrix['guest_index'], df_pref_matrix['hotel_index']):\n",
    "        for hotel in pref_by_guest[i]:\n",
    "            if hotel == j:\n",
    "                index_h = pref_by_guest[i].index(hotel)\n",
    "                hotel_pref_indeces.append(index_h)\n",
    "                guest_list.append(i)\n",
    "                break\n",
    "\n",
    "    df_hotel_pref_indeces = pd.DataFrame(hotel_pref_indeces).rename(columns={0:'Hotel_pref_index'})\n",
    "    df_hotel_pref_indeces['guest_index'] = pd.DataFrame(guest_list)\n",
    "    df_pref_matrix = df_pref_matrix.merge(df_hotel_pref_indeces,on='guest_index')\n",
    "\n",
    "    prio_len_list=[]\n",
    "    guest_list2 = []\n",
    "    for guest in initial_guest_list:\n",
    "        prio_len_list.append(len(pref_by_guest[guest]))\n",
    "        guest_list2.append(guest)\n",
    "\n",
    "    df_num_pref_guest = pd.DataFrame(guest_list2,prio_len_list).reset_index()\n",
    "    df_num_pref_guest = df_num_pref_guest.rename(columns={'index':'num_pref', 0 :'guest_index'})\n",
    "    df_num_pref_guest\n",
    "\n",
    "    df_pref_matrix = df_pref_matrix.merge(df_num_pref_guest,on='guest_index')\n",
    "\n",
    "    # Aggiungiamo livello di soddisfazione\n",
    "\n",
    "    df_pref_matrix['Satisfaction'] = (df_pref_matrix.num_pref - df_pref_matrix.Hotel_pref_index)/df_pref_matrix.num_pref\n",
    "    Satifaction_level = df_pref_matrix.Satisfaction.sum()/df_guest.shape[0]\n",
    "    Avg_Satis.append(Satifaction_level)\n",
    "    \n",
    "    Tot_business_volume = df_pref_matrix.price_to_set.sum()\n",
    "    Avg_bus_vol.append(Tot_business_volume)\n",
    "    "
   ]
  },
  {
   "cell_type": "markdown",
   "id": "bf331710",
   "metadata": {},
   "source": [
    "- Statistics"
   ]
  },
  {
   "cell_type": "code",
   "execution_count": 47,
   "id": "804b556c",
   "metadata": {
    "scrolled": true
   },
   "outputs": [
    {
     "name": "stdout",
     "output_type": "stream",
     "text": [
      "Total business volume: 637325.53 Euros\n",
      "Assigned guests: 3976\n",
      "Vacant rooms: 641\n",
      "Number of fully booked hotels: 259\n",
      "Number of completely vacant hotels: 0\n",
      "Number of neither full nor vacant hotels: 141\n",
      "Overall satisfaction is: 55.21 %\n"
     ]
    }
   ],
   "source": [
    "print ('Total business volume:','%.2f'% df_pref_matrix.price_to_set.sum(),'Euros')\n",
    "print ('Assigned guests:',df_pref_matrix.shape[0])\n",
    "print ('Vacant rooms:',df_hotel.rooms.sum() - df_pref_matrix.shape[0])\n",
    "print ('Number of fully booked hotels:', df_hotel_matrix[(df_hotel_matrix['Rooms'] == df_hotel_matrix['Occupied Rooms'])].shape[0])\n",
    "print ('Number of completely vacant hotels:', df_hotel_matrix[(df_hotel_matrix['Occupied Rooms'] == 0)].shape[0])\n",
    "print ('Number of neither full nor vacant hotels:',df_hotel_matrix.shape[0]\n",
    "       -df_hotel_matrix[(df_hotel_matrix['Rooms'] ==df_hotel_matrix['Occupied Rooms'])].shape[0] \n",
    "       - df_hotel_matrix[(df_hotel_matrix['Occupied Rooms'] == 0)].shape[0])\n",
    "print ('Overall satisfaction is:','%.2f'%(Satifaction_level*100),'%' )"
   ]
  },
  {
   "cell_type": "code",
   "execution_count": 48,
   "id": "9616bc66",
   "metadata": {},
   "outputs": [
    {
     "name": "stdout",
     "output_type": "stream",
     "text": [
      "Average overall satisfaction: 55.03 %\n",
      "Average business volume: 637200.13 Euros\n"
     ]
    }
   ],
   "source": [
    "print ('Average overall satisfaction:','%.2f'%(sum(Satis)/len(Satis)*100),'%')\n",
    "print ('Average business volume:','%.2f'%(sum(Tot_bus_vol)/len(Tot_bus_vol)),'Euros')"
   ]
  },
  {
   "cell_type": "markdown",
   "id": "5ba1cfd8",
   "metadata": {},
   "source": [
    "### 4.2 Distribution by booking order and priorities declared by the guests"
   ]
  },
  {
   "cell_type": "markdown",
   "id": "3d7b3bbb",
   "metadata": {},
   "source": [
    "- The distribution of the guests in the hotels follows the booking order (guest list shall be sorted numerically) and the indicated priorities (priority order shall be the one declared in preferences.csv).  "
   ]
  },
  {
   "cell_type": "markdown",
   "id": "94cda789",
   "metadata": {},
   "source": [
    "- Initializations"
   ]
  },
  {
   "cell_type": "code",
   "execution_count": 15,
   "id": "e3749342",
   "metadata": {},
   "outputs": [],
   "source": [
    "# Inizializzo hotel_matrix epref_matrix per permettere più calcoli in serie\n",
    "hotel_matrix[:,2] = 0\n",
    "pref_matrix[:,:] = 0 "
   ]
  },
  {
   "cell_type": "code",
   "execution_count": 16,
   "id": "aa0b827f",
   "metadata": {},
   "outputs": [],
   "source": [
    "initial_guest_list = sorted(list(pref_by_guest.keys()))"
   ]
  },
  {
   "cell_type": "markdown",
   "id": "060a6beb",
   "metadata": {},
   "source": [
    "- Algorithm"
   ]
  },
  {
   "cell_type": "code",
   "execution_count": 17,
   "id": "febfde90",
   "metadata": {},
   "outputs": [],
   "source": [
    "for guest in initial_guest_list:\n",
    "    hotel_list_per_guest = pref_by_guest[guest]  # lista contenente le preferenze del guest i-esimo\n",
    "    for hotel in hotel_list_per_guest:\n",
    "        if hotel_matrix[hotel, 2] < hotel_matrix[hotel, 0]:\n",
    "            pref_matrix[guest, hotel] = 1\n",
    "            hotel_matrix[hotel, 2] += 1\n",
    "            break"
   ]
  },
  {
   "cell_type": "code",
   "execution_count": 24,
   "id": "15827317",
   "metadata": {},
   "outputs": [
    {
     "data": {
      "text/plain": [
       "(4000, 400)"
      ]
     },
     "execution_count": 24,
     "metadata": {},
     "output_type": "execute_result"
    }
   ],
   "source": [
    "pref_matrix.shape"
   ]
  },
  {
   "cell_type": "code",
   "execution_count": 21,
   "id": "def6f95b",
   "metadata": {},
   "outputs": [
    {
     "data": {
      "text/plain": [
       "[167, 206, 221, 123, 222, 296, 128, 11, 0, 45, 342, 337, 89, 268, 236, 21, 96]"
      ]
     },
     "execution_count": 21,
     "metadata": {},
     "output_type": "execute_result"
    }
   ],
   "source": [
    "pref_by_guest[0]"
   ]
  },
  {
   "cell_type": "markdown",
   "id": "8c31be6e",
   "metadata": {},
   "source": [
    "- Statistics"
   ]
  },
  {
   "cell_type": "code",
   "execution_count": 18,
   "id": "7bbcd502",
   "metadata": {},
   "outputs": [],
   "source": [
    "# Trova il massimo indice (index dell'hotel) per colonna per ogni guest. Se il guest non è stato assegnato viene generato un indice non indicato nelle tabelle degli hotel\n",
    "df_pref_matrix = pd.DataFrame(np.argmax(np.c_[pref_matrix, np.array([1]*len(df_guest),)], axis=1), columns=['hotel_index'])\n",
    "df_pref_matrix = df_pref_matrix.reset_index().rename(columns={'index': 'guest_index'})\n",
    "\n",
    "# # Assegno sconto per ogni cliente\n",
    "df_pref_matrix = df_pref_matrix.merge(df_guest, on='guest_index')\n",
    "\n",
    "# # Assegno prezzo per ogni hotel e filtra via i guest che non hanno una prenotazione (non trova hotel con ID 400)\n",
    "df_pref_matrix = df_pref_matrix.merge(df_hotel.drop(columns=[\"rooms\"]), on='hotel_index')\n",
    "\n",
    "# # Calcola il prezzo da applicare ad ogni guest\n",
    "df_pref_matrix['price_to_set'] = df_pref_matrix.price * (1-df_pref_matrix.discount)\n",
    "\n",
    "# # Trasformiamo hotel_matrix in un dataframe per calcolare numero di hotel liberi/pieni\n",
    "df_hotel_matrix = pd.DataFrame(hotel_matrix,columns=['Rooms', 'Price', 'Occupied Rooms'])\n",
    "\n",
    "# Definiamo qual era la priorità definita dal guest per ogni hotel assegnato\n",
    "\n",
    "hotel_pref_indeces = []\n",
    "guest_list = []\n",
    "index_h = 0\n",
    "\n",
    "for i,j in zip(df_pref_matrix['guest_index'], df_pref_matrix['hotel_index']):\n",
    "    for hotel in pref_by_guest[i]:\n",
    "        if hotel == j:\n",
    "            index_h = pref_by_guest[i].index(hotel)\n",
    "            hotel_pref_indeces.append(index_h)\n",
    "            guest_list.append(i)\n",
    "            break\n",
    "\n",
    "df_hotel_pref_indeces = pd.DataFrame(hotel_pref_indeces).rename(columns={0:'Hotel_pref_index'})\n",
    "df_hotel_pref_indeces['guest_index'] = pd.DataFrame(guest_list)\n",
    "df_pref_matrix = df_pref_matrix.merge(df_hotel_pref_indeces,on='guest_index')\n",
    "\n",
    "prio_len_list=[]\n",
    "guest_list2 = []\n",
    "for guest in initial_guest_list:\n",
    "    prio_len_list.append(len(pref_by_guest[guest]))\n",
    "    guest_list2.append(guest)\n",
    "\n",
    "df_num_pref_guest = pd.DataFrame(guest_list2,prio_len_list).reset_index()\n",
    "df_num_pref_guest = df_num_pref_guest.rename(columns={'index':'num_pref', 0 :'guest_index'})\n",
    "df_num_pref_guest\n",
    "\n",
    "df_pref_matrix = df_pref_matrix.merge(df_num_pref_guest,on='guest_index')\n",
    "\n",
    "# Aggiungiamo livello di soddisfazione\n",
    "\n",
    "df_pref_matrix['Satisfaction'] = (df_pref_matrix.num_pref - df_pref_matrix.Hotel_pref_index)/df_pref_matrix.num_pref\n",
    "Satifaction_level = df_pref_matrix.Satisfaction.sum()/df_guest.shape[0]"
   ]
  },
  {
   "cell_type": "code",
   "execution_count": 19,
   "id": "0fbe2315",
   "metadata": {
    "scrolled": true
   },
   "outputs": [
    {
     "name": "stdout",
     "output_type": "stream",
     "text": [
      "Total business volume: 643597.53 Euros\n",
      "Assigned guests: 3975\n",
      "Vacant rooms: 642\n",
      "Number of fully booked hotels: 255\n",
      "Number of completely vacant hotels: 0\n",
      "Number of neither full nor vacant hotels: 145\n",
      "Overall satisfaction is: 97.49 %\n"
     ]
    }
   ],
   "source": [
    "print ('Total business volume:','%.2f'% df_pref_matrix.price_to_set.sum(),'Euros')\n",
    "print ('Assigned guests:',df_pref_matrix.shape[0])\n",
    "print ('Vacant rooms:',df_hotel.rooms.sum() - df_pref_matrix.shape[0])\n",
    "print ('Number of fully booked hotels:', df_hotel_matrix[(df_hotel_matrix['Rooms'] == df_hotel_matrix['Occupied Rooms'])].shape[0])\n",
    "print ('Number of completely vacant hotels:', df_hotel_matrix[(df_hotel_matrix['Occupied Rooms'] == 0)].shape[0])\n",
    "print ('Number of neither full nor vacant hotels:',df_hotel_matrix.shape[0]\n",
    "       -df_hotel_matrix[(df_hotel_matrix['Rooms'] ==df_hotel_matrix['Occupied Rooms'])].shape[0] \n",
    "       - df_hotel_matrix[(df_hotel_matrix['Occupied Rooms'] == 0)].shape[0])\n",
    "print ('Overall satisfaction is:','%.2f'%(Satifaction_level*100),'%' )"
   ]
  },
  {
   "cell_type": "markdown",
   "id": "31b23550",
   "metadata": {},
   "source": [
    "### 4.3 Distribution by room price"
   ]
  },
  {
   "cell_type": "markdown",
   "id": "83fede14",
   "metadata": {},
   "source": [
    "- The distribution will start from the cheapest hotel to the most expensive one."
   ]
  },
  {
   "cell_type": "markdown",
   "id": "6e631ed2",
   "metadata": {},
   "source": [
    "- Initializations"
   ]
  },
  {
   "cell_type": "code",
   "execution_count": 54,
   "id": "92d2ac6d",
   "metadata": {},
   "outputs": [],
   "source": [
    "# Inizializzo hotel_matrix epref_matrix per permettere più calcoli in serie\n",
    "hotel_matrix[:,2] = 0\n",
    "pref_matrix[:,:] = 0 "
   ]
  },
  {
   "cell_type": "code",
   "execution_count": 55,
   "id": "2deb35b4",
   "metadata": {},
   "outputs": [],
   "source": [
    "initial_guest_list = sorted(list(pref_by_guest.keys()))\n",
    "hotel_price = df_hotel.sort_values('price').drop(columns = ['hotel']).values\n",
    "hotel_price_list = list(hotel_price[:,2])"
   ]
  },
  {
   "cell_type": "markdown",
   "id": "34b6fdd7",
   "metadata": {},
   "source": [
    "- Algorithm"
   ]
  },
  {
   "cell_type": "code",
   "execution_count": 56,
   "id": "c5da534d",
   "metadata": {},
   "outputs": [],
   "source": [
    "for hotel in hotel_price_list:\n",
    "    for guest in initial_guest_list:\n",
    "        if hotel_matrix[hotel, 2] == hotel_matrix[hotel, 0]:\n",
    "            break\n",
    "        else:\n",
    "            if pref_matrix[guest,:].sum() == 0:\n",
    "                hotel_list_per_guest = pref_by_guest[guest]  # lista contenente le preferenze del guest i-esimo\n",
    "                if hotel in hotel_list_per_guest:\n",
    "                    pref_matrix[guest, hotel] = 1\n",
    "                    hotel_matrix[hotel, 2] += 1\n",
    "                    "
   ]
  },
  {
   "cell_type": "markdown",
   "id": "3e10e810",
   "metadata": {},
   "source": [
    "- Statistics"
   ]
  },
  {
   "cell_type": "code",
   "execution_count": 57,
   "id": "84d87b41",
   "metadata": {},
   "outputs": [],
   "source": [
    "# Trova il massimo indice (index dell'hotel) per colonna per ogni guest. Se il guest non è stato assegnato viene generato un indice non indicato nelle tabelle degli hotel\n",
    "df_pref_matrix = pd.DataFrame(np.argmax(np.c_[pref_matrix, np.array([1]*len(df_guest),)], axis=1), columns=['hotel_index'])\n",
    "df_pref_matrix = df_pref_matrix.reset_index().rename(columns={'index': 'guest_index'})\n",
    "\n",
    "# # Assegno sconto per ogni cliente\n",
    "df_pref_matrix = df_pref_matrix.merge(df_guest, on='guest_index')\n",
    "\n",
    "# # Assegno prezzo per ogni hotel e filtra via i guest che non hanno una prenotazione (non trova hotel con ID 400)\n",
    "df_pref_matrix = df_pref_matrix.merge(df_hotel.drop(columns=[\"rooms\"]), on='hotel_index')\n",
    "\n",
    "# # Calcola il prezzo da applicare ad ogni guest\n",
    "df_pref_matrix['price_to_set'] = df_pref_matrix.price * (1-df_pref_matrix.discount)\n",
    "\n",
    "# # Trasformiamo hotel_matrix in un dataframe per calcolare numero di hotel liberi/pieni\n",
    "df_hotel_matrix = pd.DataFrame(hotel_matrix,columns=['Rooms', 'Price', 'Occupied Rooms'])\n",
    "\n",
    "# Definiamo qual era la priorità definita dal guest per ogni hotel assegnato\n",
    "\n",
    "hotel_pref_indeces = []\n",
    "guest_list = []\n",
    "index_h = 0\n",
    "\n",
    "for i,j in zip(df_pref_matrix['guest_index'], df_pref_matrix['hotel_index']):\n",
    "    for hotel in pref_by_guest[i]:\n",
    "        if hotel == j:\n",
    "            index_h = pref_by_guest[i].index(hotel)\n",
    "            hotel_pref_indeces.append(index_h)\n",
    "            guest_list.append(i)\n",
    "            break\n",
    "\n",
    "df_hotel_pref_indeces = pd.DataFrame(hotel_pref_indeces).rename(columns={0:'Hotel_pref_index'})\n",
    "df_hotel_pref_indeces['guest_index'] = pd.DataFrame(guest_list)\n",
    "df_pref_matrix = df_pref_matrix.merge(df_hotel_pref_indeces,on='guest_index')\n",
    "\n",
    "prio_len_list=[]\n",
    "guest_list2 = []\n",
    "for guest in initial_guest_list:\n",
    "    prio_len_list.append(len(pref_by_guest[guest]))\n",
    "    guest_list2.append(guest)\n",
    "    \n",
    "df_num_pref_guest = pd.DataFrame(guest_list2,prio_len_list).reset_index()\n",
    "df_num_pref_guest = df_num_pref_guest.rename(columns={'index':'num_pref', 0 :'guest_index'})\n",
    "df_num_pref_guest\n",
    "\n",
    "df_pref_matrix = df_pref_matrix.merge(df_num_pref_guest,on='guest_index')\n",
    "\n",
    "# Aggiungiamo livello di soddisfazione\n",
    "\n",
    "df_pref_matrix['Satisfaction'] = (df_pref_matrix.num_pref - df_pref_matrix.Hotel_pref_index)/df_pref_matrix.num_pref\n",
    "Satifaction_level = df_pref_matrix.Satisfaction.sum()/df_guest.shape[0]\n"
   ]
  },
  {
   "cell_type": "code",
   "execution_count": 58,
   "id": "9b890db0",
   "metadata": {},
   "outputs": [
    {
     "name": "stdout",
     "output_type": "stream",
     "text": [
      "Total business volume: 564085.08 Euros\n",
      "Assigned guests: 3925\n",
      "Vacant rooms: 692\n",
      "Number of fully booked hotels: 319\n",
      "Number of completely vacant hotels: 12\n",
      "Number of neither full nor vacant hotels: 69\n",
      "Overall satisfaction is: 54.23 %\n"
     ]
    }
   ],
   "source": [
    "print ('Total business volume:','%.2f'% df_pref_matrix.price_to_set.sum(),'Euros')\n",
    "print ('Assigned guests:',df_pref_matrix.shape[0])\n",
    "print ('Vacant rooms:',df_hotel.rooms.sum() - df_pref_matrix.shape[0])\n",
    "print ('Number of fully booked hotels:', df_hotel_matrix[(df_hotel_matrix['Rooms'] == df_hotel_matrix['Occupied Rooms'])].shape[0])\n",
    "print ('Number of completely vacant hotels:', df_hotel_matrix[(df_hotel_matrix['Occupied Rooms'] == 0)].shape[0])\n",
    "print ('Number of neither full nor vacant hotels:',df_hotel_matrix.shape[0]\n",
    "       -df_hotel_matrix[(df_hotel_matrix['Rooms'] ==df_hotel_matrix['Occupied Rooms'])].shape[0] \n",
    "       - df_hotel_matrix[(df_hotel_matrix['Occupied Rooms'] == 0)].shape[0])\n",
    "print ('Overall satisfaction is:','%.2f'%(Satifaction_level*100),'%' )"
   ]
  },
  {
   "cell_type": "markdown",
   "id": "bcb43b2e",
   "metadata": {},
   "source": [
    "### 4.4 Distribution by room availability"
   ]
  },
  {
   "cell_type": "markdown",
   "id": "b59e5e2e",
   "metadata": {},
   "source": [
    "- The distribution will start from the largest hotel to the smallest one (big/small in terms of room availability). "
   ]
  },
  {
   "cell_type": "markdown",
   "id": "173a34ee",
   "metadata": {},
   "source": [
    "- Initializations "
   ]
  },
  {
   "cell_type": "code",
   "execution_count": 59,
   "id": "f89c3f60",
   "metadata": {},
   "outputs": [],
   "source": [
    "# Inizializzo hotel_matrix epref_matrix per permettere più calcoli in serie\n",
    "hotel_matrix[:,2] = 0\n",
    "pref_matrix[:,:] = 0 "
   ]
  },
  {
   "cell_type": "code",
   "execution_count": 60,
   "id": "9c7b85b2",
   "metadata": {},
   "outputs": [],
   "source": [
    "initial_guest_list = sorted(list(pref_by_guest.keys()))\n",
    "pref_by_guest_random = pref_by_guest"
   ]
  },
  {
   "cell_type": "code",
   "execution_count": 61,
   "id": "65ad9170",
   "metadata": {},
   "outputs": [],
   "source": [
    "hotel_avail = df_hotel.sort_values('rooms', ascending=False).drop(columns = ['hotel']).values\n",
    "hotel_avail_list = list(hotel_avail[:,2])"
   ]
  },
  {
   "cell_type": "markdown",
   "id": "d1f4fd0f",
   "metadata": {},
   "source": [
    "- Algorithm "
   ]
  },
  {
   "cell_type": "code",
   "execution_count": 62,
   "id": "47b6be59",
   "metadata": {},
   "outputs": [],
   "source": [
    "for hotel in hotel_avail_list:\n",
    "    for guest in initial_guest_list:\n",
    "        #se tutte le stanze dell'hotel sono prenotate, interrompi il ciclo e passa all'hotel successivo\n",
    "        if hotel_matrix[hotel, 2] == hotel_matrix[hotel, 0]: \n",
    "            break\n",
    "        else:\n",
    "            # se il guest non è stato ancora assegnato, cerca tra le sue preferenze  \n",
    "            if pref_matrix[guest,:].sum() == 0:\n",
    "                hotel_list_per_guest = pref_by_guest_random[guest]  # lista contenente le preferenze del guest i-esimo\n",
    "                if hotel in hotel_list_per_guest:\n",
    "                    pref_matrix[guest, hotel] = 1\n",
    "                    hotel_matrix[hotel, 2] += 1\n",
    "                    "
   ]
  },
  {
   "cell_type": "markdown",
   "id": "63364d75",
   "metadata": {},
   "source": [
    "- Statistics"
   ]
  },
  {
   "cell_type": "code",
   "execution_count": 63,
   "id": "9f294b0c",
   "metadata": {},
   "outputs": [],
   "source": [
    "# Trova il massimo indice (index dell'hotel) per colonna per ogni guest. Se il guest non è stato assegnato viene generato un indice non indicato nelle tabelle degli hotel\n",
    "df_pref_matrix = pd.DataFrame(np.argmax(np.c_[pref_matrix, np.array([1]*len(df_guest),)], axis=1), columns=['hotel_index'])\n",
    "df_pref_matrix = df_pref_matrix.reset_index().rename(columns={'index': 'guest_index'})\n",
    "\n",
    "# # Assegno sconto per ogni cliente\n",
    "df_pref_matrix = df_pref_matrix.merge(df_guest, on='guest_index')\n",
    "\n",
    "# # Assegno prezzo per ogni hotel e filtra via i guest che non hanno una prenotazione (non trova hotel con ID 400)\n",
    "df_pref_matrix = df_pref_matrix.merge(df_hotel.drop(columns=[\"rooms\"]), on='hotel_index')\n",
    "\n",
    "# # Calcola il prezzo da applicare ad ogni guest\n",
    "df_pref_matrix['price_to_set'] = df_pref_matrix.price * (1-df_pref_matrix.discount)\n",
    "\n",
    "# # Trasformiamo hotel_matrix in un dataframe per calcolare numero di hotel liberi/pieni\n",
    "df_hotel_matrix = pd.DataFrame(hotel_matrix,columns=['Rooms', 'Price', 'Occupied Rooms'])\n",
    "\n",
    "# Definiamo qual era la priorità definita dal guest per ogni hotel assegnato\n",
    "\n",
    "hotel_pref_indeces = []\n",
    "guest_list = []\n",
    "index_h = 0\n",
    "\n",
    "for i,j in zip(df_pref_matrix['guest_index'], df_pref_matrix['hotel_index']):\n",
    "    for hotel in pref_by_guest[i]:\n",
    "        if hotel == j:\n",
    "            index_h = pref_by_guest[i].index(hotel)\n",
    "            hotel_pref_indeces.append(index_h)\n",
    "            guest_list.append(i)\n",
    "            break\n",
    "\n",
    "\n",
    "df_hotel_pref_indeces = pd.DataFrame(hotel_pref_indeces).rename(columns={0:'Hotel_pref_index'})\n",
    "df_hotel_pref_indeces['guest_index'] = pd.DataFrame(guest_list)\n",
    "df_pref_matrix = df_pref_matrix.merge(df_hotel_pref_indeces,on='guest_index')\n",
    "\n",
    "prio_len_list=[]\n",
    "guest_list2 = []\n",
    "for guest in initial_guest_list:\n",
    "    prio_len_list.append(len(pref_by_guest[guest]))\n",
    "    guest_list2.append(guest)\n",
    "    \n",
    "df_num_pref_guest = pd.DataFrame(guest_list2,prio_len_list).reset_index()\n",
    "df_num_pref_guest = df_num_pref_guest.rename(columns={'index':'num_pref', 0 :'guest_index'})\n",
    "df_num_pref_guest\n",
    "\n",
    "df_pref_matrix = df_pref_matrix.merge(df_num_pref_guest,on='guest_index')\n",
    "\n",
    "# Aggiungiamo livello di soddisfazione\n",
    "\n",
    "df_pref_matrix['Satisfaction'] = (df_pref_matrix.num_pref - df_pref_matrix.Hotel_pref_index)/df_pref_matrix.num_pref\n",
    "Satifaction_level = df_pref_matrix.Satisfaction.sum()/df_guest.shape[0]"
   ]
  },
  {
   "cell_type": "code",
   "execution_count": 64,
   "id": "14f4545c",
   "metadata": {},
   "outputs": [
    {
     "name": "stdout",
     "output_type": "stream",
     "text": [
      "Total business volume: 630956.80 Euros\n",
      "Assigned guests: 3954\n",
      "Vacant rooms: 663\n",
      "Number of fully booked hotels: 266\n",
      "Number of completely vacant hotels: 38\n",
      "Number of neither full nor vacant hotels: 96\n",
      "Overall satisfaction is: 53.78 %\n"
     ]
    }
   ],
   "source": [
    "print ('Total business volume:','%.2f'% df_pref_matrix.price_to_set.sum(),'Euros')\n",
    "print ('Assigned guests:',df_pref_matrix.shape[0])\n",
    "print ('Vacant rooms:',df_hotel.rooms.sum() - df_pref_matrix.shape[0])\n",
    "print ('Number of fully booked hotels:', df_hotel_matrix[(df_hotel_matrix['Rooms'] == df_hotel_matrix['Occupied Rooms'])].shape[0])\n",
    "print ('Number of completely vacant hotels:', df_hotel_matrix[(df_hotel_matrix['Occupied Rooms'] == 0)].shape[0])\n",
    "print ('Number of neither full nor vacant hotels:',df_hotel_matrix.shape[0]\n",
    "       -df_hotel_matrix[(df_hotel_matrix['Rooms'] ==df_hotel_matrix['Occupied Rooms'])].shape[0] \n",
    "       - df_hotel_matrix[(df_hotel_matrix['Occupied Rooms'] == 0)].shape[0])\n",
    "print ('Overall satisfaction is:','%.2f'%(Satifaction_level*100),'%' )"
   ]
  },
  {
   "cell_type": "code",
   "execution_count": 65,
   "id": "ff0d6d8a",
   "metadata": {},
   "outputs": [
    {
     "data": {
      "text/html": [
       "<div>\n",
       "<style scoped>\n",
       "    .dataframe tbody tr th:only-of-type {\n",
       "        vertical-align: middle;\n",
       "    }\n",
       "\n",
       "    .dataframe tbody tr th {\n",
       "        vertical-align: top;\n",
       "    }\n",
       "\n",
       "    .dataframe thead th {\n",
       "        text-align: right;\n",
       "    }\n",
       "</style>\n",
       "<table border=\"1\" class=\"dataframe\">\n",
       "  <thead>\n",
       "    <tr style=\"text-align: right;\">\n",
       "      <th></th>\n",
       "      <th>guest_index</th>\n",
       "      <th>hotel_index</th>\n",
       "      <th>guest</th>\n",
       "      <th>discount</th>\n",
       "      <th>hotel</th>\n",
       "      <th>price</th>\n",
       "      <th>price_to_set</th>\n",
       "      <th>Hotel_pref_index</th>\n",
       "      <th>num_pref</th>\n",
       "      <th>Satisfaction</th>\n",
       "    </tr>\n",
       "  </thead>\n",
       "  <tbody>\n",
       "    <tr>\n",
       "      <th>0</th>\n",
       "      <td>0</td>\n",
       "      <td>128</td>\n",
       "      <td>guest_1</td>\n",
       "      <td>0.09</td>\n",
       "      <td>hotel_129</td>\n",
       "      <td>85</td>\n",
       "      <td>77.35</td>\n",
       "      <td>6</td>\n",
       "      <td>18</td>\n",
       "      <td>0.666667</td>\n",
       "    </tr>\n",
       "    <tr>\n",
       "      <th>1</th>\n",
       "      <td>11</td>\n",
       "      <td>128</td>\n",
       "      <td>guest_12</td>\n",
       "      <td>0.17</td>\n",
       "      <td>hotel_129</td>\n",
       "      <td>85</td>\n",
       "      <td>70.55</td>\n",
       "      <td>18</td>\n",
       "      <td>36</td>\n",
       "      <td>0.500000</td>\n",
       "    </tr>\n",
       "    <tr>\n",
       "      <th>2</th>\n",
       "      <td>55</td>\n",
       "      <td>128</td>\n",
       "      <td>guest_56</td>\n",
       "      <td>0.19</td>\n",
       "      <td>hotel_129</td>\n",
       "      <td>85</td>\n",
       "      <td>68.85</td>\n",
       "      <td>5</td>\n",
       "      <td>8</td>\n",
       "      <td>0.375000</td>\n",
       "    </tr>\n",
       "    <tr>\n",
       "      <th>3</th>\n",
       "      <td>62</td>\n",
       "      <td>128</td>\n",
       "      <td>guest_63</td>\n",
       "      <td>0.10</td>\n",
       "      <td>hotel_129</td>\n",
       "      <td>85</td>\n",
       "      <td>76.50</td>\n",
       "      <td>3</td>\n",
       "      <td>45</td>\n",
       "      <td>0.933333</td>\n",
       "    </tr>\n",
       "    <tr>\n",
       "      <th>4</th>\n",
       "      <td>90</td>\n",
       "      <td>128</td>\n",
       "      <td>guest_91</td>\n",
       "      <td>0.03</td>\n",
       "      <td>hotel_129</td>\n",
       "      <td>85</td>\n",
       "      <td>82.45</td>\n",
       "      <td>2</td>\n",
       "      <td>30</td>\n",
       "      <td>0.933333</td>\n",
       "    </tr>\n",
       "    <tr>\n",
       "      <th>...</th>\n",
       "      <td>...</td>\n",
       "      <td>...</td>\n",
       "      <td>...</td>\n",
       "      <td>...</td>\n",
       "      <td>...</td>\n",
       "      <td>...</td>\n",
       "      <td>...</td>\n",
       "      <td>...</td>\n",
       "      <td>...</td>\n",
       "      <td>...</td>\n",
       "    </tr>\n",
       "    <tr>\n",
       "      <th>3949</th>\n",
       "      <td>3952</td>\n",
       "      <td>176</td>\n",
       "      <td>guest_3953</td>\n",
       "      <td>0.18</td>\n",
       "      <td>hotel_177</td>\n",
       "      <td>79</td>\n",
       "      <td>64.78</td>\n",
       "      <td>2</td>\n",
       "      <td>5</td>\n",
       "      <td>0.600000</td>\n",
       "    </tr>\n",
       "    <tr>\n",
       "      <th>3950</th>\n",
       "      <td>3956</td>\n",
       "      <td>214</td>\n",
       "      <td>guest_3957</td>\n",
       "      <td>0.08</td>\n",
       "      <td>hotel_215</td>\n",
       "      <td>133</td>\n",
       "      <td>122.36</td>\n",
       "      <td>11</td>\n",
       "      <td>15</td>\n",
       "      <td>0.266667</td>\n",
       "    </tr>\n",
       "    <tr>\n",
       "      <th>3951</th>\n",
       "      <td>3992</td>\n",
       "      <td>214</td>\n",
       "      <td>guest_3993</td>\n",
       "      <td>0.06</td>\n",
       "      <td>hotel_215</td>\n",
       "      <td>133</td>\n",
       "      <td>125.02</td>\n",
       "      <td>5</td>\n",
       "      <td>11</td>\n",
       "      <td>0.545455</td>\n",
       "    </tr>\n",
       "    <tr>\n",
       "      <th>3952</th>\n",
       "      <td>3995</td>\n",
       "      <td>214</td>\n",
       "      <td>guest_3996</td>\n",
       "      <td>0.00</td>\n",
       "      <td>hotel_215</td>\n",
       "      <td>133</td>\n",
       "      <td>133.00</td>\n",
       "      <td>28</td>\n",
       "      <td>44</td>\n",
       "      <td>0.363636</td>\n",
       "    </tr>\n",
       "    <tr>\n",
       "      <th>3953</th>\n",
       "      <td>3957</td>\n",
       "      <td>35</td>\n",
       "      <td>guest_3958</td>\n",
       "      <td>0.12</td>\n",
       "      <td>hotel_36</td>\n",
       "      <td>193</td>\n",
       "      <td>169.84</td>\n",
       "      <td>2</td>\n",
       "      <td>4</td>\n",
       "      <td>0.500000</td>\n",
       "    </tr>\n",
       "  </tbody>\n",
       "</table>\n",
       "<p>3954 rows × 10 columns</p>\n",
       "</div>"
      ],
      "text/plain": [
       "      guest_index  hotel_index       guest  discount      hotel  price  \\\n",
       "0               0          128     guest_1      0.09  hotel_129     85   \n",
       "1              11          128    guest_12      0.17  hotel_129     85   \n",
       "2              55          128    guest_56      0.19  hotel_129     85   \n",
       "3              62          128    guest_63      0.10  hotel_129     85   \n",
       "4              90          128    guest_91      0.03  hotel_129     85   \n",
       "...           ...          ...         ...       ...        ...    ...   \n",
       "3949         3952          176  guest_3953      0.18  hotel_177     79   \n",
       "3950         3956          214  guest_3957      0.08  hotel_215    133   \n",
       "3951         3992          214  guest_3993      0.06  hotel_215    133   \n",
       "3952         3995          214  guest_3996      0.00  hotel_215    133   \n",
       "3953         3957           35  guest_3958      0.12   hotel_36    193   \n",
       "\n",
       "      price_to_set  Hotel_pref_index  num_pref  Satisfaction  \n",
       "0            77.35                 6        18      0.666667  \n",
       "1            70.55                18        36      0.500000  \n",
       "2            68.85                 5         8      0.375000  \n",
       "3            76.50                 3        45      0.933333  \n",
       "4            82.45                 2        30      0.933333  \n",
       "...            ...               ...       ...           ...  \n",
       "3949         64.78                 2         5      0.600000  \n",
       "3950        122.36                11        15      0.266667  \n",
       "3951        125.02                 5        11      0.545455  \n",
       "3952        133.00                28        44      0.363636  \n",
       "3953        169.84                 2         4      0.500000  \n",
       "\n",
       "[3954 rows x 10 columns]"
      ]
     },
     "execution_count": 65,
     "metadata": {},
     "output_type": "execute_result"
    }
   ],
   "source": [
    "df_pref_matrix"
   ]
  }
 ],
 "metadata": {
  "kernelspec": {
   "display_name": "Python 3 (ipykernel)",
   "language": "python",
   "name": "python3"
  },
  "language_info": {
   "codemirror_mode": {
    "name": "ipython",
    "version": 3
   },
   "file_extension": ".py",
   "mimetype": "text/x-python",
   "name": "python",
   "nbconvert_exporter": "python",
   "pygments_lexer": "ipython3",
   "version": "3.8.12"
  },
  "varInspector": {
   "cols": {
    "lenName": 16,
    "lenType": 16,
    "lenVar": 40
   },
   "kernels_config": {
    "python": {
     "delete_cmd_postfix": "",
     "delete_cmd_prefix": "del ",
     "library": "var_list.py",
     "varRefreshCmd": "print(var_dic_list())"
    },
    "r": {
     "delete_cmd_postfix": ") ",
     "delete_cmd_prefix": "rm(",
     "library": "var_list.r",
     "varRefreshCmd": "cat(var_dic_list()) "
    }
   },
   "types_to_exclude": [
    "module",
    "function",
    "builtin_function_or_method",
    "instance",
    "_Feature"
   ],
   "window_display": false
  }
 },
 "nbformat": 4,
 "nbformat_minor": 5
}
