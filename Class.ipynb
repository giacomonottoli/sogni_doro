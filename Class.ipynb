{
 "cells": [
  {
   "cell_type": "code",
   "execution_count": 1,
   "id": "33080be0",
   "metadata": {},
   "outputs": [],
   "source": [
    "import pandas as pd\n",
    "import numpy as np\n",
    "import os\n",
    "import random\n",
    "from abc import ABCMeta, abstractmethod\n",
    "from tqdm.notebook import tqdm"
   ]
  },
  {
   "cell_type": "code",
   "execution_count": 2,
   "id": "65f1aaea",
   "metadata": {},
   "outputs": [],
   "source": [
    "df_guests = pd.read_csv(\"guests.csv\")\n",
    "df_hotels = pd.read_csv(\"hotels.csv\")\n",
    "df_prefs = pd.read_csv(\"preferences.csv\")"
   ]
  },
  {
   "cell_type": "code",
   "execution_count": 3,
   "id": "b69e5c78",
   "metadata": {},
   "outputs": [],
   "source": [
    "class BaseAllocation(metaclass=ABCMeta):\n",
    "    \n",
    "    def __init__(self, df_guests: pd.DataFrame, df_hotels: pd.DataFrame, df_preferences: pd.DataFrame):\n",
    "        \n",
    "        # Create a column based on the position of guest and hotel in the table [0, len of table-1]\n",
    "        df_guests = df_guests.reset_index().rename(columns={'index': 'guest_index'})\n",
    "        df_hotels = df_hotels.reset_index().rename(columns={'index': 'hotel_index'})\n",
    "        \n",
    "        df_preferences = df_preferences.merge(df_guests[['guest', 'guest_index']], on='guest')\n",
    "        df_preferences = df_preferences.merge(df_hotels[['hotel', 'hotel_index']], on='hotel')\n",
    "        \n",
    "        self.guests = df_guests\n",
    "        self.hotels = df_hotels\n",
    "        self.preferences = df_preferences\n",
    "          \n",
    "        # initialize the preferences matrix (# guest, # hotel) where 0 if the guest is not assigned to the specific hotel and 1 if he is assigned\n",
    "        self.pref_matrix = np.zeros((len(df_guests), len(df_hotels)))\n",
    "        \n",
    "        # initialize the hotel availability rooms matrix column 1 -> room availability, column 2 -> price, column 3 -> number of rooms assign \n",
    "        hotel_matrix = df_hotels.drop(columns=['hotel']).set_index(\"hotel_index\").values\n",
    "        self.hotel_matrix = np.c_[hotel_matrix, np.zeros(len(df_hotels))]\n",
    "        \n",
    "\n",
    "    def _access_pref_matrix(self, guest, hotel):\n",
    "        self.pref_matrix[guest, hotel] = 1\n",
    "        self.hotel_matrix[hotel, 2] += 1\n",
    "        \n",
    "    \n",
    "    @abstractmethod\n",
    "    def assign(self):\n",
    "        pass"
   ]
  },
  {
   "cell_type": "code",
   "execution_count": 4,
   "id": "5f3843e7",
   "metadata": {},
   "outputs": [],
   "source": [
    "class GuestAllocation(BaseAllocation):\n",
    "    \n",
    "    def __init__(self, df_guests: pd.DataFrame, df_hotels: pd.DataFrame, df_preferences: pd.DataFrame):\n",
    "        super(GuestAllocation, self).__init__(df_guests, df_hotels, df_preferences)\n",
    "    \n",
    "    @abstractmethod\n",
    "    def _define_guest_order():\n",
    "        pass\n",
    "    \n",
    "    def assign(self):\n",
    "        guest_order = self._define_guest_order()\n",
    "        for guest in guest_order:\n",
    "            for hotel in self.pref_by_guest[guest]:\n",
    "                if self.hotel_matrix[hotel, 2] < self.hotel_matrix[hotel, 0]:\n",
    "                    self._access_pref_matrix(guest, hotel)\n",
    "                    break"
   ]
  },
  {
   "cell_type": "code",
   "execution_count": 5,
   "id": "1e7ee454",
   "metadata": {},
   "outputs": [],
   "source": [
    "class HotelAllocation(BaseAllocation):\n",
    "    \n",
    "    def __init__(self, df_guests: pd.DataFrame, df_hotels: pd.DataFrame, df_preferences: pd.DataFrame):\n",
    "        super(HotelAllocation, self).__init__(df_guests, df_hotels, df_preferences)\n",
    "            \n",
    "    @abstractmethod\n",
    "    def _define_hotel_order():\n",
    "        pass\n",
    "    \n",
    "    def assign(self):\n",
    "        hotel_order = self._define_hotel_order()\n",
    "        for hotel in hotel_order:\n",
    "            for guest in self.guest_by_hotel[hotel]:\n",
    "                if self.hotel_matrix[hotel, 2] == self.hotel_matrix[hotel, 0]:\n",
    "                    break\n",
    "                elif self.pref_matrix[guest,:].sum() == 0:\n",
    "                    self._access_pref_matrix(guest, hotel)"
   ]
  },
  {
   "cell_type": "code",
   "execution_count": 6,
   "id": "f1fb2e01",
   "metadata": {},
   "outputs": [],
   "source": [
    "class RandomGuestAllocation(GuestAllocation):\n",
    "    \n",
    "    def __init__(self, df_guests: pd.DataFrame, df_hotels: pd.DataFrame, df_preferences: pd.DataFrame):\n",
    "        super(RandomGuestAllocation, self).__init__(df_guests, df_hotels, df_preferences)\n",
    "                \n",
    "    def _define_guest_order(self):\n",
    "        # Create a dictionary with the raw association between guest and the hotels preferences\n",
    "        # like {0: [21, 32, 65, ...], 1: [...], ...}\n",
    "        self.pref_by_guest = self.preferences.groupby(\"guest_index\").agg({\"hotel_index\":list}).to_dict()[\"hotel_index\"]\n",
    "        return random.sample(list(self.pref_by_guest.keys()), len(list(self.pref_by_guest.keys())))\n"
   ]
  },
  {
   "cell_type": "code",
   "execution_count": 7,
   "id": "0e7cd0f7",
   "metadata": {},
   "outputs": [],
   "source": [
    "class OrderGustAllocation(GuestAllocation):\n",
    "    \n",
    "    def __init__(self, df_guests: pd.DataFrame, df_hotels: pd.DataFrame, df_preferences: pd.DataFrame):\n",
    "        super(OrderGustAllocation, self).__init__(df_guests, df_hotels, df_preferences)\n",
    "        \n",
    "        \n",
    "    def _define_guest_order(self):\n",
    "        # Create a dictionary with the raw association between guest and the hotels preferences\n",
    "        # like {0: [21, 32, 65, ...], 1: [...], ...}\n",
    "        self.pref_by_guest = self.preferences.groupby(\"guest_index\").agg({\"hotel_index\":list}).to_dict()[\"hotel_index\"]\n",
    "        return sorted(self.pref_by_guest.keys())\n"
   ]
  },
  {
   "cell_type": "code",
   "execution_count": 8,
   "id": "451a33c0",
   "metadata": {},
   "outputs": [],
   "source": [
    "class PriceHotelAllocation(HotelAllocation):\n",
    "    \n",
    "    def __init__(self, df_guests: pd.DataFrame, df_hotels: pd.DataFrame, df_preferences: pd.DataFrame):\n",
    "        super(PriceHotelAllocation, self).__init__(df_guests, df_hotels, df_preferences)\n",
    "        \n",
    "    def _define_hotel_order(self):  \n",
    "        # Create a dictionary with the raw association between guest and the hotels preferences\n",
    "        # like {21: [0, 2, 5, ...], 65: [...], ...}\n",
    "        guest_by_hotel = self.preferences.groupby(\"hotel_index\").agg({\"guest_index\":list}).to_dict()[\"guest_index\"]\n",
    "        self.guest_by_hotel = {key: sorted(values) for key, values in guest_by_hotel.items()}\n",
    "        \n",
    "        return self.hotels.sort_values('price')['hotel_index'].tolist()\n",
    "    "
   ]
  },
  {
   "cell_type": "code",
   "execution_count": 9,
   "id": "23dc5eb3",
   "metadata": {},
   "outputs": [],
   "source": [
    "class AvailabilityHotelAllocation(HotelAllocation):\n",
    "    \n",
    "    def __init__(self, df_guests: pd.DataFrame, df_hotels: pd.DataFrame, df_preferences: pd.DataFrame):\n",
    "        super(AvailabilityHotelAllocation, self).__init__(df_guests, df_hotels, df_preferences)\n",
    "        \n",
    "    def _define_hotel_order(self): \n",
    "        # Create a dictionary with the raw association between guest and the hotels preferences\n",
    "        # like {21: [0, 2, 5, ...], 65: [...], ...}\n",
    "        guest_by_hotel = self.preferences.groupby(\"hotel_index\").agg({\"guest_index\":list}).to_dict()[\"guest_index\"]\n",
    "        self.guest_by_hotel = {key: sorted(values) for key, values in guest_by_hotel.items()}\n",
    "        \n",
    "        return self.hotels.sort_values('rooms')['hotel_index'].tolist()\n",
    "    "
   ]
  },
  {
   "cell_type": "code",
   "execution_count": 13,
   "id": "13678f09",
   "metadata": {},
   "outputs": [
    {
     "data": {
      "application/vnd.jupyter.widget-view+json": {
       "model_id": "adfbd519721e46738c35f026a1f021fc",
       "version_major": 2,
       "version_minor": 0
      },
      "text/plain": [
       "  0%|          | 0/1000 [00:00<?, ?it/s]"
      ]
     },
     "metadata": {},
     "output_type": "display_data"
    }
   ],
   "source": [
    "metric = list()\n",
    "for i in tqdm(range(1000)):\n",
    "    a = RandomGuestAllocation(df_guests, df_hotels, df_prefs)\n",
    "    a.assign()\n",
    "    metric.append(a.pref_matrix.sum(1).sum())"
   ]
  },
  {
   "cell_type": "code",
   "execution_count": 14,
   "id": "8c33354a",
   "metadata": {},
   "outputs": [
    {
     "data": {
      "text/plain": [
       "<AxesSubplot:>"
      ]
     },
     "execution_count": 14,
     "metadata": {},
     "output_type": "execute_result"
    },
    {
     "data": {
      "image/png": "[encoded data removed]",
      "text/plain": [
       "<Figure size 640x480 with 1 Axes>"
      ]
     },
     "metadata": {},
     "output_type": "display_data"
    }
   ],
   "source": [
    "pd.DataFrame(metric).boxplot()"
   ]
  },
  {
   "cell_type": "code",
   "execution_count": 10,
   "id": "0d851e8c",
   "metadata": {},
   "outputs": [
    {
     "data": {
      "text/plain": [
       "3926.0"
      ]
     },
     "execution_count": 10,
     "metadata": {},
     "output_type": "execute_result"
    }
   ],
   "source": [
    "b = OrderGustAllocation(df_guests, df_hotels, df_prefs)\n",
    "b.assign()\n",
    "b.pref_matrix.sum(1).sum()"
   ]
  },
  {
   "cell_type": "code",
   "execution_count": 11,
   "id": "c99f542b",
   "metadata": {},
   "outputs": [
    {
     "data": {
      "text/plain": [
       "3925.0"
      ]
     },
     "execution_count": 11,
     "metadata": {},
     "output_type": "execute_result"
    }
   ],
   "source": [
    "c = PriceHotelAllocation(df_guests, df_hotels, df_prefs)\n",
    "\n",
    "c.assign()\n",
    "\n",
    "c.pref_matrix.sum(1).sum()"
   ]
  },
  {
   "cell_type": "code",
   "execution_count": 12,
   "id": "9f4bcd14",
   "metadata": {},
   "outputs": [
    {
     "data": {
      "text/plain": [
       "3874.0"
      ]
     },
     "execution_count": 12,
     "metadata": {},
     "output_type": "execute_result"
    }
   ],
   "source": [
    "d = AvailabilityHotelAllocation(df_guests, df_hotels, df_prefs)\n",
    "\n",
    "d.assign()\n",
    "\n",
    "d.pref_matrix.sum(1).sum()"
   ]
  },
  {
   "cell_type": "code",
   "execution_count": null,
   "id": "0cf46fc6",
   "metadata": {},
   "outputs": [],
   "source": []
  }
 ],
 "metadata": {
  "kernelspec": {
   "display_name": "Python 3 (ipykernel)",
   "language": "python",
   "name": "python3"
  },
  "language_info": {
   "codemirror_mode": {
    "name": "ipython",
    "version": 3
   },
   "file_extension": ".py",
   "mimetype": "text/x-python",
   "name": "python",
   "nbconvert_exporter": "python",
   "pygments_lexer": "ipython3",
   "version": "3.8.12"
  }
 },
 "nbformat": 4,
 "nbformat_minor": 5
}
