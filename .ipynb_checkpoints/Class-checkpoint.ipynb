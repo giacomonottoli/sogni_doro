{
 "cells": [
  {
   "cell_type": "code",
   "execution_count": null,
   "id": "f6748438",
   "metadata": {},
   "outputs": [],
   "source": [
    "import pandas as pd\n",
    "import numpy as np\n",
    "import os\n",
    "import random"
   ]
  },
  {
   "cell_type": "markdown",
   "id": "849bddd9",
   "metadata": {},
   "source": [
    "## 2. Open csv files"
   ]
  },
  {
   "cell_type": "code",
   "execution_count": 2,
   "id": "23ae40e5",
   "metadata": {},
   "outputs": [],
   "source": [
    "df_guests = pd.read_csv(\"guests.csv\")\n",
    "df_hotels = pd.read_csv(\"hotels.csv\")\n",
    "df_prefs = pd.read_csv(\"preferences.csv\")"
   ]
  },
  {
   "cell_type": "code",
   "execution_count": null,
   "id": "99e12791",
   "metadata": {},
   "outputs": [],
   "source": [
    "class Allocation_random(object):\n",
    "    \n",
    "    def __inti__(self, df_guests: pd.DataFrame, df_hotels: pd.DataFrame, df_preferences: pd.DataFrame):\n",
    "        \n",
    "        # Create a column based on the position of guest and hotel in the table [0, len of table-1]\n",
    "        df_guests['guest_index'] = df_guests.reset_index()\n",
    "        df_hotels['hotel_index'] = df_hotels.reset_index()\n",
    "        \n",
    "        df_preferences = df_preferences.merge(df_guest[['guest', 'guest_index']], on='guest')\n",
    "        df_preferences = df_preferences.merge(df_hotel[['hotel', 'hotel_index']], on='hotel')\n",
    "        \n",
    "        self.guests = df_guests\n",
    "        self.hotels = df_hotels\n",
    "        self.preferences = df_preferences\n",
    "        \n",
    "        # Create a dictionary with the raw association between guest and the hotels preferences\n",
    "        # like {0: [21, 32, 65, ...], 1: [...], ...}\n",
    "        self.pref_by_guest = df_preferences.groupby(\"guest_index\").agg({\"hotel_index\":list}).to_dict()[\"hotel_index\"]\n",
    "        \n",
    "        # initialize the preferences matrix (# guest, # hotel) where 0 if the guest is not assigned to the specific hotel and 1 if he is assigned\n",
    "        pref_matrix = np.zeros((len(df_guests), len(df_hotels)))\n",
    "        \n",
    "        # initialize the hotel availability rooms matrix column 1 -> room availability, column 2 -> price, column 3 -> number of rooms assign \n",
    "        hotel_matrix = df_hotel.drop(columns=['hotel']).set_index(\"hotel_index\").values\n",
    "        hotel_matrix = np.c_[hotel_matrix, np.zeros(len(df_hotel))]\n",
    "        \n",
    "\n",
    "    def _access_pref_matrix(self, hotel, guest):\n",
    "        if self.hotel_matrix[hotel, 2] < self.hotel_matrix[hotel, 0]:\n",
    "            self.pref_matrix[guest, hotel] = 1\n",
    "            self.hotel_matrix[hotel, 2] += 1\n",
    "\n",
    "\n",
    "    def _extraction_order(self):\n",
    "        # Randomize the guests order list\n",
    "        self.guests_order = random.sample(list(self.pref_by_guest.keys()), len(list(self.pref_by_guest.keys())))\n",
    "        # For each guest randomize the hotel preferences\n",
    "        self.pref_by_guest = {guest: random.sample(pref_by_guest[guest], len(pref_by_guest[guest])) for guest in self.guests_order}\n",
    "\n",
    "\n",
    "    def assign(self):\n",
    "        _extraction_order()\n",
    "        for guest in self.guest_order:\n",
    "            for hotel in self.pref_by_guest[guest]:\n",
    "                _access_pref_matrix(hotel, guest)\n",
    "                break"
   ]
  },
  {
   "cell_type": "code",
   "execution_count": null,
   "id": "9f3a28df",
   "metadata": {},
   "outputs": [],
   "source": []
  }
 ],
 "metadata": {
  "kernelspec": {
   "display_name": "Python 3 (ipykernel)",
   "language": "python",
   "name": "python3"
  },
  "language_info": {
   "codemirror_mode": {
    "name": "ipython",
    "version": 3
   },
   "file_extension": ".py",
   "mimetype": "text/x-python",
   "name": "python",
   "nbconvert_exporter": "python",
   "pygments_lexer": "ipython3",
   "version": "3.8.12"
  }
 },
 "nbformat": 4,
 "nbformat_minor": 5
}
